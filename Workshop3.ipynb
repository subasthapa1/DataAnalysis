{
 "cells": [
  {
   "cell_type": "markdown",
   "id": "d09555c3",
   "metadata": {},
   "source": [
    "### Workshop 3\n",
    "Analyzing Delta variant's effect globally. Delta variant was initially detected in India late 2020."
   ]
  },
  {
   "cell_type": "code",
   "execution_count": 1,
   "id": "fb53bfe0",
   "metadata": {},
   "outputs": [],
   "source": [
    "import os, re, glob\n",
    "import pandas as pd\n",
    "import numpy as np\n",
    "import matplotlib.pyplot as plt\n",
    "import folium\n",
    "from sklearn.preprocessing import StandardScaler\n",
    "from sklearn.cluster import KMeans\n",
    "from IPython.display import IFrame\n",
    "from IPython.display import Image\n",
    "from tqdm import tqdm\n",
    "import warnings\n",
    "warnings.filterwarnings('ignore')\n",
    "%matplotlib inline"
   ]
  },
  {
   "cell_type": "markdown",
   "id": "e34ff4e8",
   "metadata": {},
   "source": [
    "#### Creating two different dataframes from two CSV files. Renaming the column name in two dataframes to make it consistent."
   ]
  },
  {
   "cell_type": "code",
   "execution_count": 2,
   "id": "08ab3838",
   "metadata": {},
   "outputs": [],
   "source": [
    "root = 'Covid'\n",
    "recent_date = \"05-31-2021\"\n",
    "previous_date = \"12-30-2020\"\n",
    "duplicate_columns = {\"Lat\": \"Latitude\", \n",
    "                    \"Long_\": \"Longitude\",\n",
    "                    \"Incidence_Rate\": \"Incident_Rate\",\n",
    "                    \"Case-Fatality_Ratio\": \"Case_Fatality_Ratio\",\n",
    "                    \"Province/State\": \"Province_State\",\n",
    "                    \"Country/Region\": \"Country_Region\",\n",
    "                    \"Last Update\": \"Last_Update\"}\n",
    "recent_df = pd.read_csv(os.path.join(root, (recent_date + \".csv\")))\n",
    "previous_df = pd.read_csv(os.path.join(root, (previous_date + \".csv\")))\n",
    "\n",
    "for key, value in duplicate_columns.items(): \n",
    "    if key in recent_df.columns:\n",
    "        recent_df = recent_df.rename(columns={key: value}) \n",
    "    if key in previous_df.columns:\n",
    "        previous_df = previous_df.rename(columns={key: value})"
   ]
  },
  {
   "cell_type": "markdown",
   "id": "8df1b8a8",
   "metadata": {},
   "source": [
    "#### Printing out two different dataframe's first 5 rows."
   ]
  },
  {
   "cell_type": "code",
   "execution_count": 3,
   "id": "1ef9f444",
   "metadata": {},
   "outputs": [
    {
     "data": {
      "text/html": [
       "<div>\n",
       "<style scoped>\n",
       "    .dataframe tbody tr th:only-of-type {\n",
       "        vertical-align: middle;\n",
       "    }\n",
       "\n",
       "    .dataframe tbody tr th {\n",
       "        vertical-align: top;\n",
       "    }\n",
       "\n",
       "    .dataframe thead th {\n",
       "        text-align: right;\n",
       "    }\n",
       "</style>\n",
       "<table border=\"1\" class=\"dataframe\">\n",
       "  <thead>\n",
       "    <tr style=\"text-align: right;\">\n",
       "      <th></th>\n",
       "      <th>FIPS</th>\n",
       "      <th>Admin2</th>\n",
       "      <th>Province_State</th>\n",
       "      <th>Country_Region</th>\n",
       "      <th>Last_Update</th>\n",
       "      <th>Latitude</th>\n",
       "      <th>Longitude</th>\n",
       "      <th>Confirmed</th>\n",
       "      <th>Deaths</th>\n",
       "      <th>Recovered</th>\n",
       "      <th>Active</th>\n",
       "      <th>Combined_Key</th>\n",
       "      <th>Incident_Rate</th>\n",
       "      <th>Case_Fatality_Ratio</th>\n",
       "    </tr>\n",
       "  </thead>\n",
       "  <tbody>\n",
       "    <tr>\n",
       "      <th>0</th>\n",
       "      <td>NaN</td>\n",
       "      <td>NaN</td>\n",
       "      <td>NaN</td>\n",
       "      <td>Afghanistan</td>\n",
       "      <td>2021-06-01 04:23:09</td>\n",
       "      <td>33.93911</td>\n",
       "      <td>67.709953</td>\n",
       "      <td>71838</td>\n",
       "      <td>2944</td>\n",
       "      <td>57629.0</td>\n",
       "      <td>11265.0</td>\n",
       "      <td>Afghanistan</td>\n",
       "      <td>184.539074</td>\n",
       "      <td>4.098110</td>\n",
       "    </tr>\n",
       "    <tr>\n",
       "      <th>1</th>\n",
       "      <td>NaN</td>\n",
       "      <td>NaN</td>\n",
       "      <td>NaN</td>\n",
       "      <td>Albania</td>\n",
       "      <td>2021-06-01 04:23:09</td>\n",
       "      <td>41.15330</td>\n",
       "      <td>20.168300</td>\n",
       "      <td>132315</td>\n",
       "      <td>2451</td>\n",
       "      <td>129431.0</td>\n",
       "      <td>433.0</td>\n",
       "      <td>Albania</td>\n",
       "      <td>4597.783029</td>\n",
       "      <td>1.852398</td>\n",
       "    </tr>\n",
       "    <tr>\n",
       "      <th>2</th>\n",
       "      <td>NaN</td>\n",
       "      <td>NaN</td>\n",
       "      <td>NaN</td>\n",
       "      <td>Algeria</td>\n",
       "      <td>2021-06-01 04:23:09</td>\n",
       "      <td>28.03390</td>\n",
       "      <td>1.659600</td>\n",
       "      <td>128913</td>\n",
       "      <td>3472</td>\n",
       "      <td>89839.0</td>\n",
       "      <td>35602.0</td>\n",
       "      <td>Algeria</td>\n",
       "      <td>293.979325</td>\n",
       "      <td>2.693289</td>\n",
       "    </tr>\n",
       "    <tr>\n",
       "      <th>3</th>\n",
       "      <td>NaN</td>\n",
       "      <td>NaN</td>\n",
       "      <td>NaN</td>\n",
       "      <td>Andorra</td>\n",
       "      <td>2021-06-01 04:23:09</td>\n",
       "      <td>42.50630</td>\n",
       "      <td>1.521800</td>\n",
       "      <td>13727</td>\n",
       "      <td>127</td>\n",
       "      <td>13458.0</td>\n",
       "      <td>142.0</td>\n",
       "      <td>Andorra</td>\n",
       "      <td>17766.129554</td>\n",
       "      <td>0.925184</td>\n",
       "    </tr>\n",
       "    <tr>\n",
       "      <th>4</th>\n",
       "      <td>NaN</td>\n",
       "      <td>NaN</td>\n",
       "      <td>NaN</td>\n",
       "      <td>Angola</td>\n",
       "      <td>2021-06-01 04:23:09</td>\n",
       "      <td>-11.20270</td>\n",
       "      <td>17.873900</td>\n",
       "      <td>34551</td>\n",
       "      <td>766</td>\n",
       "      <td>28079.0</td>\n",
       "      <td>5706.0</td>\n",
       "      <td>Angola</td>\n",
       "      <td>105.126022</td>\n",
       "      <td>2.217013</td>\n",
       "    </tr>\n",
       "  </tbody>\n",
       "</table>\n",
       "</div>"
      ],
      "text/plain": [
       "   FIPS Admin2 Province_State Country_Region          Last_Update  Latitude  \\\n",
       "0   NaN    NaN            NaN    Afghanistan  2021-06-01 04:23:09  33.93911   \n",
       "1   NaN    NaN            NaN        Albania  2021-06-01 04:23:09  41.15330   \n",
       "2   NaN    NaN            NaN        Algeria  2021-06-01 04:23:09  28.03390   \n",
       "3   NaN    NaN            NaN        Andorra  2021-06-01 04:23:09  42.50630   \n",
       "4   NaN    NaN            NaN         Angola  2021-06-01 04:23:09 -11.20270   \n",
       "\n",
       "   Longitude  Confirmed  Deaths  Recovered   Active Combined_Key  \\\n",
       "0  67.709953      71838    2944    57629.0  11265.0  Afghanistan   \n",
       "1  20.168300     132315    2451   129431.0    433.0      Albania   \n",
       "2   1.659600     128913    3472    89839.0  35602.0      Algeria   \n",
       "3   1.521800      13727     127    13458.0    142.0      Andorra   \n",
       "4  17.873900      34551     766    28079.0   5706.0       Angola   \n",
       "\n",
       "   Incident_Rate  Case_Fatality_Ratio  \n",
       "0     184.539074             4.098110  \n",
       "1    4597.783029             1.852398  \n",
       "2     293.979325             2.693289  \n",
       "3   17766.129554             0.925184  \n",
       "4     105.126022             2.217013  "
      ]
     },
     "execution_count": 3,
     "metadata": {},
     "output_type": "execute_result"
    }
   ],
   "source": [
    "recent_df.head()"
   ]
  },
  {
   "cell_type": "code",
   "execution_count": 4,
   "id": "87aa2377",
   "metadata": {},
   "outputs": [
    {
     "data": {
      "text/html": [
       "<div>\n",
       "<style scoped>\n",
       "    .dataframe tbody tr th:only-of-type {\n",
       "        vertical-align: middle;\n",
       "    }\n",
       "\n",
       "    .dataframe tbody tr th {\n",
       "        vertical-align: top;\n",
       "    }\n",
       "\n",
       "    .dataframe thead th {\n",
       "        text-align: right;\n",
       "    }\n",
       "</style>\n",
       "<table border=\"1\" class=\"dataframe\">\n",
       "  <thead>\n",
       "    <tr style=\"text-align: right;\">\n",
       "      <th></th>\n",
       "      <th>FIPS</th>\n",
       "      <th>Admin2</th>\n",
       "      <th>Province_State</th>\n",
       "      <th>Country_Region</th>\n",
       "      <th>Last_Update</th>\n",
       "      <th>Latitude</th>\n",
       "      <th>Longitude</th>\n",
       "      <th>Confirmed</th>\n",
       "      <th>Deaths</th>\n",
       "      <th>Recovered</th>\n",
       "      <th>Active</th>\n",
       "      <th>Combined_Key</th>\n",
       "      <th>Incident_Rate</th>\n",
       "      <th>Case_Fatality_Ratio</th>\n",
       "    </tr>\n",
       "  </thead>\n",
       "  <tbody>\n",
       "    <tr>\n",
       "      <th>0</th>\n",
       "      <td>NaN</td>\n",
       "      <td>NaN</td>\n",
       "      <td>NaN</td>\n",
       "      <td>Afghanistan</td>\n",
       "      <td>2020-12-31 05:22:49</td>\n",
       "      <td>33.93911</td>\n",
       "      <td>67.709953</td>\n",
       "      <td>52330</td>\n",
       "      <td>2189</td>\n",
       "      <td>41612</td>\n",
       "      <td>8529</td>\n",
       "      <td>Afghanistan</td>\n",
       "      <td>134.426484</td>\n",
       "      <td>4.183069</td>\n",
       "    </tr>\n",
       "    <tr>\n",
       "      <th>1</th>\n",
       "      <td>NaN</td>\n",
       "      <td>NaN</td>\n",
       "      <td>NaN</td>\n",
       "      <td>Albania</td>\n",
       "      <td>2020-12-31 05:22:49</td>\n",
       "      <td>41.15330</td>\n",
       "      <td>20.168300</td>\n",
       "      <td>57727</td>\n",
       "      <td>1174</td>\n",
       "      <td>33185</td>\n",
       "      <td>23368</td>\n",
       "      <td>Albania</td>\n",
       "      <td>2005.942039</td>\n",
       "      <td>2.033710</td>\n",
       "    </tr>\n",
       "    <tr>\n",
       "      <th>2</th>\n",
       "      <td>NaN</td>\n",
       "      <td>NaN</td>\n",
       "      <td>NaN</td>\n",
       "      <td>Algeria</td>\n",
       "      <td>2020-12-31 05:22:49</td>\n",
       "      <td>28.03390</td>\n",
       "      <td>1.659600</td>\n",
       "      <td>99311</td>\n",
       "      <td>2751</td>\n",
       "      <td>66855</td>\n",
       "      <td>29705</td>\n",
       "      <td>Algeria</td>\n",
       "      <td>226.473519</td>\n",
       "      <td>2.770086</td>\n",
       "    </tr>\n",
       "    <tr>\n",
       "      <th>3</th>\n",
       "      <td>NaN</td>\n",
       "      <td>NaN</td>\n",
       "      <td>NaN</td>\n",
       "      <td>Andorra</td>\n",
       "      <td>2020-12-31 05:22:49</td>\n",
       "      <td>42.50630</td>\n",
       "      <td>1.521800</td>\n",
       "      <td>7983</td>\n",
       "      <td>84</td>\n",
       "      <td>7384</td>\n",
       "      <td>515</td>\n",
       "      <td>Andorra</td>\n",
       "      <td>10331.974374</td>\n",
       "      <td>1.052236</td>\n",
       "    </tr>\n",
       "    <tr>\n",
       "      <th>4</th>\n",
       "      <td>NaN</td>\n",
       "      <td>NaN</td>\n",
       "      <td>NaN</td>\n",
       "      <td>Angola</td>\n",
       "      <td>2020-12-31 05:22:49</td>\n",
       "      <td>-11.20270</td>\n",
       "      <td>17.873900</td>\n",
       "      <td>17433</td>\n",
       "      <td>405</td>\n",
       "      <td>10859</td>\n",
       "      <td>6169</td>\n",
       "      <td>Angola</td>\n",
       "      <td>53.042226</td>\n",
       "      <td>2.323180</td>\n",
       "    </tr>\n",
       "  </tbody>\n",
       "</table>\n",
       "</div>"
      ],
      "text/plain": [
       "   FIPS Admin2 Province_State Country_Region          Last_Update  Latitude  \\\n",
       "0   NaN    NaN            NaN    Afghanistan  2020-12-31 05:22:49  33.93911   \n",
       "1   NaN    NaN            NaN        Albania  2020-12-31 05:22:49  41.15330   \n",
       "2   NaN    NaN            NaN        Algeria  2020-12-31 05:22:49  28.03390   \n",
       "3   NaN    NaN            NaN        Andorra  2020-12-31 05:22:49  42.50630   \n",
       "4   NaN    NaN            NaN         Angola  2020-12-31 05:22:49 -11.20270   \n",
       "\n",
       "   Longitude  Confirmed  Deaths  Recovered  Active Combined_Key  \\\n",
       "0  67.709953      52330    2189      41612    8529  Afghanistan   \n",
       "1  20.168300      57727    1174      33185   23368      Albania   \n",
       "2   1.659600      99311    2751      66855   29705      Algeria   \n",
       "3   1.521800       7983      84       7384     515      Andorra   \n",
       "4  17.873900      17433     405      10859    6169       Angola   \n",
       "\n",
       "   Incident_Rate  Case_Fatality_Ratio  \n",
       "0     134.426484             4.183069  \n",
       "1    2005.942039             2.033710  \n",
       "2     226.473519             2.770086  \n",
       "3   10331.974374             1.052236  \n",
       "4      53.042226             2.323180  "
      ]
     },
     "execution_count": 4,
     "metadata": {},
     "output_type": "execute_result"
    }
   ],
   "source": [
    "previous_df.head()"
   ]
  },
  {
   "cell_type": "code",
   "execution_count": 5,
   "id": "218775af",
   "metadata": {},
   "outputs": [],
   "source": [
    "current_df = pd.DataFrame(columns=['Province_State','Country_Region',\n",
    "                                   'Confirmed','Deaths'])\n",
    "current_df['Province_State'] = recent_df['Province_State']\n",
    "current_df['Country_Region'] = recent_df['Country_Region']\n",
    "current_df['Confirmed'] = recent_df['Confirmed'] - previous_df['Confirmed'] \n",
    "current_df['Deaths'] = recent_df['Deaths'] - previous_df['Deaths'] "
   ]
  },
  {
   "cell_type": "markdown",
   "id": "9de90eed",
   "metadata": {},
   "source": [
    "#### Displaying the shape of the dataframe we just created."
   ]
  },
  {
   "cell_type": "code",
   "execution_count": 6,
   "id": "cb46abc9",
   "metadata": {},
   "outputs": [
    {
     "data": {
      "text/plain": [
       "(4008, 4)"
      ]
     },
     "execution_count": 6,
     "metadata": {},
     "output_type": "execute_result"
    }
   ],
   "source": [
    "current_df.shape"
   ]
  },
  {
   "cell_type": "markdown",
   "id": "bcb7a91a",
   "metadata": {},
   "source": [
    "#### Printing first 5 columns of a dataframe"
   ]
  },
  {
   "cell_type": "markdown",
   "id": "de5491fe",
   "metadata": {},
   "source": [
    "current_df.head()"
   ]
  },
  {
   "cell_type": "markdown",
   "id": "aa2ce9f7",
   "metadata": {},
   "source": [
    "#### Saving the dataframe's content to the CSV file named 'SubasThapa-2128468.csv'."
   ]
  },
  {
   "cell_type": "code",
   "execution_count": 7,
   "id": "cb939552",
   "metadata": {},
   "outputs": [],
   "source": [
    "name_number = 'SubasThapa-2128468.csv'\n",
    "current_df.to_csv(name_number, index=False)"
   ]
  },
  {
   "cell_type": "markdown",
   "id": "6c05879c",
   "metadata": {},
   "source": [
    "#### Creating a dataframe named 'data' from the file we just created in above step."
   ]
  },
  {
   "cell_type": "code",
   "execution_count": 8,
   "id": "fa05c14b",
   "metadata": {},
   "outputs": [],
   "source": [
    "data = pd.read_csv(name_number)"
   ]
  },
  {
   "cell_type": "markdown",
   "id": "a96226a4",
   "metadata": {},
   "source": [
    "#### Printing the first 5 rows from a dataframe we just created."
   ]
  },
  {
   "cell_type": "code",
   "execution_count": 9,
   "id": "8d64c0ab",
   "metadata": {},
   "outputs": [
    {
     "data": {
      "text/html": [
       "<div>\n",
       "<style scoped>\n",
       "    .dataframe tbody tr th:only-of-type {\n",
       "        vertical-align: middle;\n",
       "    }\n",
       "\n",
       "    .dataframe tbody tr th {\n",
       "        vertical-align: top;\n",
       "    }\n",
       "\n",
       "    .dataframe thead th {\n",
       "        text-align: right;\n",
       "    }\n",
       "</style>\n",
       "<table border=\"1\" class=\"dataframe\">\n",
       "  <thead>\n",
       "    <tr style=\"text-align: right;\">\n",
       "      <th></th>\n",
       "      <th>Province_State</th>\n",
       "      <th>Country_Region</th>\n",
       "      <th>Confirmed</th>\n",
       "      <th>Deaths</th>\n",
       "    </tr>\n",
       "  </thead>\n",
       "  <tbody>\n",
       "    <tr>\n",
       "      <th>0</th>\n",
       "      <td>NaN</td>\n",
       "      <td>Afghanistan</td>\n",
       "      <td>19508.0</td>\n",
       "      <td>755.0</td>\n",
       "    </tr>\n",
       "    <tr>\n",
       "      <th>1</th>\n",
       "      <td>NaN</td>\n",
       "      <td>Albania</td>\n",
       "      <td>74588.0</td>\n",
       "      <td>1277.0</td>\n",
       "    </tr>\n",
       "    <tr>\n",
       "      <th>2</th>\n",
       "      <td>NaN</td>\n",
       "      <td>Algeria</td>\n",
       "      <td>29602.0</td>\n",
       "      <td>721.0</td>\n",
       "    </tr>\n",
       "    <tr>\n",
       "      <th>3</th>\n",
       "      <td>NaN</td>\n",
       "      <td>Andorra</td>\n",
       "      <td>5744.0</td>\n",
       "      <td>43.0</td>\n",
       "    </tr>\n",
       "    <tr>\n",
       "      <th>4</th>\n",
       "      <td>NaN</td>\n",
       "      <td>Angola</td>\n",
       "      <td>17118.0</td>\n",
       "      <td>361.0</td>\n",
       "    </tr>\n",
       "  </tbody>\n",
       "</table>\n",
       "</div>"
      ],
      "text/plain": [
       "  Province_State Country_Region  Confirmed  Deaths\n",
       "0            NaN    Afghanistan    19508.0   755.0\n",
       "1            NaN        Albania    74588.0  1277.0\n",
       "2            NaN        Algeria    29602.0   721.0\n",
       "3            NaN        Andorra     5744.0    43.0\n",
       "4            NaN         Angola    17118.0   361.0"
      ]
     },
     "execution_count": 9,
     "metadata": {},
     "output_type": "execute_result"
    }
   ],
   "source": [
    "data.head()"
   ]
  },
  {
   "cell_type": "markdown",
   "id": "08471901",
   "metadata": {},
   "source": [
    "#### Printing the shape of a recently created dataframe."
   ]
  },
  {
   "cell_type": "code",
   "execution_count": 10,
   "id": "fdc792b6",
   "metadata": {},
   "outputs": [
    {
     "name": "stdout",
     "output_type": "stream",
     "text": [
      "(4008, 4)\n"
     ]
    }
   ],
   "source": [
    "print(data.shape)"
   ]
  },
  {
   "cell_type": "code",
   "execution_count": 11,
   "id": "0f264be8",
   "metadata": {},
   "outputs": [
    {
     "name": "stdout",
     "output_type": "stream",
     "text": [
      "Province_State    3832\n",
      "Country_Region    4008\n",
      "Confirmed         4005\n",
      "Deaths            4005\n",
      "dtype: int64\n"
     ]
    }
   ],
   "source": [
    "print(data.count())"
   ]
  },
  {
   "cell_type": "markdown",
   "id": "b99b67db",
   "metadata": {},
   "source": [
    "#### Q1. Print how many null values exist in the dataset."
   ]
  },
  {
   "cell_type": "code",
   "execution_count": 12,
   "id": "a125607e",
   "metadata": {},
   "outputs": [
    {
     "data": {
      "text/plain": [
       "Province_State    176\n",
       "Country_Region      0\n",
       "Confirmed           3\n",
       "Deaths              3\n",
       "dtype: int64"
      ]
     },
     "execution_count": 12,
     "metadata": {},
     "output_type": "execute_result"
    }
   ],
   "source": [
    "data.apply(lambda x: sum(x.isnull()), axis = 0)"
   ]
  },
  {
   "cell_type": "markdown",
   "id": "8584e41f",
   "metadata": {},
   "source": [
    "#### Checking if there are any null values in Province_State column and replacing null values with the values present in the Country_Region column."
   ]
  },
  {
   "cell_type": "code",
   "execution_count": 13,
   "id": "46811a30",
   "metadata": {},
   "outputs": [],
   "source": [
    "data.loc[data['Province_State'].isnull(),'Province_State'] = \n",
    "    data['Country_Region']"
   ]
  },
  {
   "cell_type": "code",
   "execution_count": 14,
   "id": "dc39064a",
   "metadata": {},
   "outputs": [
    {
     "data": {
      "text/html": [
       "<div>\n",
       "<style scoped>\n",
       "    .dataframe tbody tr th:only-of-type {\n",
       "        vertical-align: middle;\n",
       "    }\n",
       "\n",
       "    .dataframe tbody tr th {\n",
       "        vertical-align: top;\n",
       "    }\n",
       "\n",
       "    .dataframe thead th {\n",
       "        text-align: right;\n",
       "    }\n",
       "</style>\n",
       "<table border=\"1\" class=\"dataframe\">\n",
       "  <thead>\n",
       "    <tr style=\"text-align: right;\">\n",
       "      <th></th>\n",
       "      <th>Province_State</th>\n",
       "      <th>Country_Region</th>\n",
       "      <th>Confirmed</th>\n",
       "      <th>Deaths</th>\n",
       "    </tr>\n",
       "  </thead>\n",
       "  <tbody>\n",
       "    <tr>\n",
       "      <th>0</th>\n",
       "      <td>Afghanistan</td>\n",
       "      <td>Afghanistan</td>\n",
       "      <td>19508.0</td>\n",
       "      <td>755.0</td>\n",
       "    </tr>\n",
       "    <tr>\n",
       "      <th>1</th>\n",
       "      <td>Albania</td>\n",
       "      <td>Albania</td>\n",
       "      <td>74588.0</td>\n",
       "      <td>1277.0</td>\n",
       "    </tr>\n",
       "    <tr>\n",
       "      <th>2</th>\n",
       "      <td>Algeria</td>\n",
       "      <td>Algeria</td>\n",
       "      <td>29602.0</td>\n",
       "      <td>721.0</td>\n",
       "    </tr>\n",
       "    <tr>\n",
       "      <th>3</th>\n",
       "      <td>Andorra</td>\n",
       "      <td>Andorra</td>\n",
       "      <td>5744.0</td>\n",
       "      <td>43.0</td>\n",
       "    </tr>\n",
       "    <tr>\n",
       "      <th>4</th>\n",
       "      <td>Angola</td>\n",
       "      <td>Angola</td>\n",
       "      <td>17118.0</td>\n",
       "      <td>361.0</td>\n",
       "    </tr>\n",
       "  </tbody>\n",
       "</table>\n",
       "</div>"
      ],
      "text/plain": [
       "  Province_State Country_Region  Confirmed  Deaths\n",
       "0    Afghanistan    Afghanistan    19508.0   755.0\n",
       "1        Albania        Albania    74588.0  1277.0\n",
       "2        Algeria        Algeria    29602.0   721.0\n",
       "3        Andorra        Andorra     5744.0    43.0\n",
       "4         Angola         Angola    17118.0   361.0"
      ]
     },
     "execution_count": 14,
     "metadata": {},
     "output_type": "execute_result"
    }
   ],
   "source": [
    "data.head()"
   ]
  },
  {
   "cell_type": "markdown",
   "id": "9ddf8139",
   "metadata": {},
   "source": [
    "#### Creating a list named 'states' from the unique values present in 'Province_State' and counts the number of unique value present in the list."
   ]
  },
  {
   "cell_type": "code",
   "execution_count": 15,
   "id": "ad389f70",
   "metadata": {},
   "outputs": [
    {
     "name": "stdout",
     "output_type": "stream",
     "text": [
      "Number of unique States -  768\n"
     ]
    }
   ],
   "source": [
    "states = data['Province_State'].unique()\n",
    "print(\"Number of unique States - \", len(states))"
   ]
  },
  {
   "cell_type": "markdown",
   "id": "2418b40d",
   "metadata": {},
   "source": [
    "#### Q2. Print how many unique countries exist in the dataset using a similar approach."
   ]
  },
  {
   "cell_type": "markdown",
   "id": "061637bf",
   "metadata": {},
   "source": [
    "The nunique() function counts the number of unique values while unique() function lists all the unique value present in the column."
   ]
  },
  {
   "cell_type": "code",
   "execution_count": 16,
   "id": "79ea3aed",
   "metadata": {},
   "outputs": [
    {
     "name": "stdout",
     "output_type": "stream",
     "text": [
      "198\n"
     ]
    }
   ],
   "source": [
    "print(data['Country_Region'].nunique())"
   ]
  },
  {
   "cell_type": "code",
   "execution_count": 17,
   "id": "6789ffc4",
   "metadata": {},
   "outputs": [
    {
     "name": "stdout",
     "output_type": "stream",
     "text": [
      "['Afghanistan' 'Albania' 'Algeria' 'Andorra' 'Angola'\n",
      " 'Antigua and Barbuda' 'Argentina' 'Armenia' 'Australia' 'Austria'\n",
      " 'Azerbaijan' 'Bahamas' 'Bahrain' 'Bangladesh' 'Barbados' 'Belarus'\n",
      " 'Belgium' 'Belize' 'Benin' 'Bhutan' 'Bolivia' 'Bosnia and Herzegovina'\n",
      " 'Botswana' 'Brazil' 'Brunei' 'Bulgaria' 'Burkina Faso' 'Burma' 'Burundi'\n",
      " 'Cabo Verde' 'Cambodia' 'Cameroon' 'Canada' 'Central African Republic'\n",
      " 'Chad' 'Chile' 'China' 'Colombia' 'Comoros' 'Congo (Brazzaville)'\n",
      " 'Congo (Kinshasa)' 'Costa Rica' \"Cote d'Ivoire\" 'Croatia' 'Cuba' 'Cyprus'\n",
      " 'Czechia' 'Denmark' 'Diamond Princess' 'Djibouti' 'Dominica'\n",
      " 'Dominican Republic' 'Ecuador' 'Egypt' 'El Salvador' 'Equatorial Guinea'\n",
      " 'Eritrea' 'Estonia' 'Eswatini' 'Ethiopia' 'Fiji' 'Finland' 'France'\n",
      " 'Gabon' 'Gambia' 'Georgia' 'Germany' 'Ghana' 'Greece' 'Grenada'\n",
      " 'Guatemala' 'Guinea' 'Guinea-Bissau' 'Guyana' 'Haiti' 'Holy See'\n",
      " 'Honduras' 'Hungary' 'Iceland' 'India' 'Indonesia' 'Iran' 'Iraq'\n",
      " 'Ireland' 'Israel' 'Italy' 'Jamaica' 'Japan' 'Jordan' 'Kazakhstan'\n",
      " 'Kenya' 'Kiribati' 'Korea, South' 'Kosovo' 'Kuwait' 'Kyrgyzstan' 'Laos'\n",
      " 'Latvia' 'Lebanon' 'Lesotho' 'Liberia' 'Libya' 'Liechtenstein'\n",
      " 'Lithuania' 'Luxembourg' 'MS Zaandam' 'Madagascar' 'Malawi' 'Maldives'\n",
      " 'Mali' 'Malta' 'Marshall Islands' 'Mauritania' 'Mauritius' 'Mexico'\n",
      " 'Micronesia' 'Moldova' 'Monaco' 'Mongolia' 'Montenegro' 'Morocco'\n",
      " 'Mozambique' 'Namibia' 'Nepal' 'Netherlands' 'New Zealand' 'Nicaragua'\n",
      " 'Niger' 'Nigeria' 'North Macedonia' 'Norway' 'Oman' 'Pakistan' 'Panama'\n",
      " 'Papua New Guinea' 'Paraguay' 'Peru' 'Philippines' 'Poland' 'Portugal'\n",
      " 'Qatar' 'Romania' 'Russia' 'Rwanda' 'Saint Kitts and Nevis' 'Saint Lucia'\n",
      " 'Saint Vincent and the Grenadines' 'Samoa' 'San Marino'\n",
      " 'Sao Tome and Principe' 'Saudi Arabia' 'Senegal' 'Serbia' 'Seychelles'\n",
      " 'Sierra Leone' 'Singapore' 'Slovakia' 'Slovenia' 'Solomon Islands'\n",
      " 'Somalia' 'South Africa' 'South Sudan' 'Spain' 'Sri Lanka' 'Sudan'\n",
      " 'Suriname' 'Sweden' 'Switzerland' 'Syria' 'Taiwan*' 'Tajikistan'\n",
      " 'Tanzania' 'Thailand' 'Timor-Leste' 'Togo' 'Trinidad and Tobago'\n",
      " 'Tunisia' 'Turkey' 'US' 'Uganda' 'Ukraine' 'United Arab Emirates'\n",
      " 'United Kingdom' 'Uruguay' 'Uzbekistan' 'Vanuatu' 'Venezuela' 'Vietnam'\n",
      " 'West Bank and Gaza' 'Yemen' 'Zambia' 'Zimbabwe' 'Palau'\n",
      " 'Summer Olympics 2020' 'Malaysia' 'Tonga' 'Winter Olympics 2022'\n",
      " 'Antarctica']\n"
     ]
    }
   ],
   "source": [
    "print(data[\"Country_Region\"].unique())"
   ]
  },
  {
   "cell_type": "code",
   "execution_count": 18,
   "id": "5c4c3f9a",
   "metadata": {},
   "outputs": [],
   "source": [
    "import datetime, time, requests\n",
    "from time import sleep\n",
    "from geopy.geocoders import Nominatim\n",
    "def get_lat_lon(place):\n",
    "    geolocator = Nominatim(user_agent=name_number)\n",
    "    location = geolocator.geocode(place)\n",
    "    lat_lon = location.latitude, location.longitude\n",
    " \n",
    "    output = [float(i) for i in lat_lon]\n",
    "    return output"
   ]
  },
  {
   "cell_type": "code",
   "execution_count": 19,
   "id": "23532ff2",
   "metadata": {},
   "outputs": [
    {
     "data": {
      "text/plain": [
       "Texas             255\n",
       "Georgia           162\n",
       "Virginia          134\n",
       "Kentucky          121\n",
       "Missouri          117\n",
       "                 ... \n",
       "Madhya Pradesh      1\n",
       "Maharashtra         1\n",
       "Manipur             1\n",
       "Meghalaya           1\n",
       "Guernsey            1\n",
       "Name: Province_State, Length: 768, dtype: int64"
      ]
     },
     "execution_count": 19,
     "metadata": {},
     "output_type": "execute_result"
    }
   ],
   "source": [
    "data['Province_State'].value_counts()"
   ]
  },
  {
   "cell_type": "code",
   "execution_count": 20,
   "id": "e4f7b0c7",
   "metadata": {},
   "outputs": [
    {
     "name": "stderr",
     "output_type": "stream",
     "text": [
      "100%|████████████████████████████████████████████████████████████████████████████████| 768/768 [08:47<00:00,  1.45it/s]"
     ]
    },
    {
     "name": "stdout",
     "output_type": "stream",
     "text": [
      "Locations are not found for -  ['Repatriated Travellers', 'Bonaire, Sint Eustatius and Saba', 'Sakha (Yakutiya) Republic', 'Summer Olympics 2020', 'W.P. Labuan']\n"
     ]
    },
    {
     "name": "stderr",
     "output_type": "stream",
     "text": [
      "\n"
     ]
    }
   ],
   "source": [
    "from tqdm import tqdm\n",
    "geo_lat = []\n",
    "geo_lon = []\n",
    "not_found = []\n",
    "found = []\n",
    "for state in tqdm(states):\n",
    "    time.sleep(0.2)\n",
    "    lat_lon = [None, None]\n",
    "    try:\n",
    "        lat_lon = get_lat_lon(state)\n",
    "        found.append(state)\n",
    "    except: \n",
    "        not_found.append(state)\n",
    " \n",
    "    geo_lat.append(lat_lon[0])\n",
    "    geo_lon.append(lat_lon[1])\n",
    "        \n",
    "if len(not_found) > 0:\n",
    "    print(\"Locations are not found for - \", not_found)\n",
    "else:\n",
    "    print(\"Found all the locations\")"
   ]
  },
  {
   "cell_type": "code",
   "execution_count": 21,
   "id": "492bd485",
   "metadata": {},
   "outputs": [],
   "source": [
    "states_list = states.tolist() #converting states to list to index list's items \n",
    "lats = []\n",
    "lons = []\n",
    "for i, r in data.iterrows():\n",
    "    state = r['Province_State']\n",
    "    index_list = states_list.index(state)\n",
    "    lats.append(geo_lat[index_list])\n",
    "    lons.append(geo_lon[index_list])\n",
    " \n",
    " \n",
    "data['Latitude'] = lats\n",
    "data['Longitude'] = lons"
   ]
  },
  {
   "cell_type": "code",
   "execution_count": 22,
   "id": "dd89b526",
   "metadata": {},
   "outputs": [
    {
     "data": {
      "text/html": [
       "<div>\n",
       "<style scoped>\n",
       "    .dataframe tbody tr th:only-of-type {\n",
       "        vertical-align: middle;\n",
       "    }\n",
       "\n",
       "    .dataframe tbody tr th {\n",
       "        vertical-align: top;\n",
       "    }\n",
       "\n",
       "    .dataframe thead th {\n",
       "        text-align: right;\n",
       "    }\n",
       "</style>\n",
       "<table border=\"1\" class=\"dataframe\">\n",
       "  <thead>\n",
       "    <tr style=\"text-align: right;\">\n",
       "      <th></th>\n",
       "      <th>Province_State</th>\n",
       "      <th>Country_Region</th>\n",
       "      <th>Confirmed</th>\n",
       "      <th>Deaths</th>\n",
       "      <th>Latitude</th>\n",
       "      <th>Longitude</th>\n",
       "    </tr>\n",
       "  </thead>\n",
       "  <tbody>\n",
       "    <tr>\n",
       "      <th>0</th>\n",
       "      <td>Afghanistan</td>\n",
       "      <td>Afghanistan</td>\n",
       "      <td>19508.0</td>\n",
       "      <td>755.0</td>\n",
       "      <td>33.768006</td>\n",
       "      <td>66.238514</td>\n",
       "    </tr>\n",
       "    <tr>\n",
       "      <th>1</th>\n",
       "      <td>Albania</td>\n",
       "      <td>Albania</td>\n",
       "      <td>74588.0</td>\n",
       "      <td>1277.0</td>\n",
       "      <td>41.000028</td>\n",
       "      <td>19.999962</td>\n",
       "    </tr>\n",
       "    <tr>\n",
       "      <th>2</th>\n",
       "      <td>Algeria</td>\n",
       "      <td>Algeria</td>\n",
       "      <td>29602.0</td>\n",
       "      <td>721.0</td>\n",
       "      <td>28.000027</td>\n",
       "      <td>2.999983</td>\n",
       "    </tr>\n",
       "    <tr>\n",
       "      <th>3</th>\n",
       "      <td>Andorra</td>\n",
       "      <td>Andorra</td>\n",
       "      <td>5744.0</td>\n",
       "      <td>43.0</td>\n",
       "      <td>42.540717</td>\n",
       "      <td>1.573203</td>\n",
       "    </tr>\n",
       "    <tr>\n",
       "      <th>4</th>\n",
       "      <td>Angola</td>\n",
       "      <td>Angola</td>\n",
       "      <td>17118.0</td>\n",
       "      <td>361.0</td>\n",
       "      <td>-11.877577</td>\n",
       "      <td>17.569124</td>\n",
       "    </tr>\n",
       "  </tbody>\n",
       "</table>\n",
       "</div>"
      ],
      "text/plain": [
       "  Province_State Country_Region  Confirmed  Deaths   Latitude  Longitude\n",
       "0    Afghanistan    Afghanistan    19508.0   755.0  33.768006  66.238514\n",
       "1        Albania        Albania    74588.0  1277.0  41.000028  19.999962\n",
       "2        Algeria        Algeria    29602.0   721.0  28.000027   2.999983\n",
       "3        Andorra        Andorra     5744.0    43.0  42.540717   1.573203\n",
       "4         Angola         Angola    17118.0   361.0 -11.877577  17.569124"
      ]
     },
     "execution_count": 22,
     "metadata": {},
     "output_type": "execute_result"
    }
   ],
   "source": [
    "data.head()"
   ]
  },
  {
   "cell_type": "markdown",
   "id": "b2d9d4af",
   "metadata": {},
   "source": [
    "#### Q3. Check whether the latitude and longitude values we retrieved from geopy are same as the latitude and longitude given in the dataset. Identify and report differences in values.\n"
   ]
  },
  {
   "cell_type": "code",
   "execution_count": 23,
   "id": "c62707bb",
   "metadata": {},
   "outputs": [
    {
     "name": "stdout",
     "output_type": "stream",
     "text": [
      "   FIPS Admin2 Province_State Country_Region          Last_Update  Latitude  \\\n",
      "0   NaN    NaN            NaN    Afghanistan  2021-06-01 04:23:09  33.93911   \n",
      "1   NaN    NaN            NaN        Albania  2021-06-01 04:23:09  41.15330   \n",
      "2   NaN    NaN            NaN        Algeria  2021-06-01 04:23:09  28.03390   \n",
      "3   NaN    NaN            NaN        Andorra  2021-06-01 04:23:09  42.50630   \n",
      "4   NaN    NaN            NaN         Angola  2021-06-01 04:23:09 -11.20270   \n",
      "\n",
      "   Longitude  Confirmed  Deaths  Recovered   Active Combined_Key  \\\n",
      "0  67.709953      71838    2944    57629.0  11265.0  Afghanistan   \n",
      "1  20.168300     132315    2451   129431.0    433.0      Albania   \n",
      "2   1.659600     128913    3472    89839.0  35602.0      Algeria   \n",
      "3   1.521800      13727     127    13458.0    142.0      Andorra   \n",
      "4  17.873900      34551     766    28079.0   5706.0       Angola   \n",
      "\n",
      "   Incident_Rate  Case_Fatality_Ratio  \n",
      "0     184.539074             4.098110  \n",
      "1    4597.783029             1.852398  \n",
      "2     293.979325             2.693289  \n",
      "3   17766.129554             0.925184  \n",
      "4     105.126022             2.217013  \n"
     ]
    }
   ],
   "source": [
    "print(recent_df.head())"
   ]
  },
  {
   "cell_type": "code",
   "execution_count": 24,
   "id": "e8407125",
   "metadata": {},
   "outputs": [
    {
     "name": "stdout",
     "output_type": "stream",
     "text": [
      "  Province_State Country_Region  Confirmed  Deaths   Latitude  Longitude\n",
      "0    Afghanistan    Afghanistan    19508.0   755.0  33.768006  66.238514\n",
      "1        Albania        Albania    74588.0  1277.0  41.000028  19.999962\n",
      "2        Algeria        Algeria    29602.0   721.0  28.000027   2.999983\n",
      "3        Andorra        Andorra     5744.0    43.0  42.540717   1.573203\n",
      "4         Angola         Angola    17118.0   361.0 -11.877577  17.569124\n"
     ]
    }
   ],
   "source": [
    "print(data.head())"
   ]
  },
  {
   "cell_type": "markdown",
   "id": "e8a90cf9",
   "metadata": {},
   "source": [
    "It can be seen that the latitude and longitude values given in the dataset and retrieved values are different."
   ]
  },
  {
   "cell_type": "code",
   "execution_count": 25,
   "id": "b7ad8051",
   "metadata": {},
   "outputs": [
    {
     "data": {
      "text/plain": [
       "0    33.93911\n",
       "1    41.15330\n",
       "2    28.03390\n",
       "3    42.50630\n",
       "4   -11.20270\n",
       "Name: Latitude, dtype: float64"
      ]
     },
     "execution_count": 25,
     "metadata": {},
     "output_type": "execute_result"
    }
   ],
   "source": [
    "recent_df['Latitude'].head()"
   ]
  },
  {
   "cell_type": "markdown",
   "id": "ed29f8ee",
   "metadata": {},
   "source": [
    "#### Checking if there are still null values present in all columns."
   ]
  },
  {
   "cell_type": "code",
   "execution_count": 26,
   "id": "d78c1fbf",
   "metadata": {},
   "outputs": [
    {
     "data": {
      "text/plain": [
       "Province_State    0\n",
       "Country_Region    0\n",
       "Confirmed         3\n",
       "Deaths            3\n",
       "Latitude          5\n",
       "Longitude         5\n",
       "dtype: int64"
      ]
     },
     "execution_count": 26,
     "metadata": {},
     "output_type": "execute_result"
    }
   ],
   "source": [
    "data.apply(lambda x: sum(x.isnull()), axis = 0)"
   ]
  },
  {
   "cell_type": "markdown",
   "id": "debc6b54",
   "metadata": {},
   "source": [
    "#### Drop all rows that contains null value and update the dataframe."
   ]
  },
  {
   "cell_type": "code",
   "execution_count": 27,
   "id": "01eb2bc5",
   "metadata": {},
   "outputs": [],
   "source": [
    "data.dropna(inplace=True)"
   ]
  },
  {
   "cell_type": "markdown",
   "id": "1e1b72e6",
   "metadata": {},
   "source": [
    "#### Making sure that all null values are dropped. If we get zero for all columns, it indicates that there are no null values present in the dataset."
   ]
  },
  {
   "cell_type": "code",
   "execution_count": 28,
   "id": "784339df",
   "metadata": {},
   "outputs": [
    {
     "data": {
      "text/plain": [
       "Province_State    0\n",
       "Country_Region    0\n",
       "Confirmed         0\n",
       "Deaths            0\n",
       "Latitude          0\n",
       "Longitude         0\n",
       "dtype: int64"
      ]
     },
     "execution_count": 28,
     "metadata": {},
     "output_type": "execute_result"
    }
   ],
   "source": [
    "data.apply(lambda x: sum(x.isnull()), axis = 0)"
   ]
  },
  {
   "cell_type": "markdown",
   "id": "3985f316",
   "metadata": {},
   "source": [
    "#### Let's print the shape of the dataframe and see number of rows and columns. "
   ]
  },
  {
   "cell_type": "code",
   "execution_count": 29,
   "id": "6241a309",
   "metadata": {},
   "outputs": [
    {
     "data": {
      "text/plain": [
       "(4000, 6)"
      ]
     },
     "execution_count": 29,
     "metadata": {},
     "output_type": "execute_result"
    }
   ],
   "source": [
    "data.shape"
   ]
  },
  {
   "cell_type": "markdown",
   "id": "57290e3c",
   "metadata": {},
   "source": [
    "#### Selecting only two columns(Confirmed and Deaths) and creating a new dataframe named clustering_data."
   ]
  },
  {
   "cell_type": "code",
   "execution_count": 30,
   "id": "b606626d",
   "metadata": {},
   "outputs": [],
   "source": [
    "clustering_data = data[[\"Confirmed\", \"Deaths\"]]"
   ]
  },
  {
   "cell_type": "code",
   "execution_count": 31,
   "id": "52e9409d",
   "metadata": {},
   "outputs": [
    {
     "data": {
      "text/html": [
       "<div>\n",
       "<style scoped>\n",
       "    .dataframe tbody tr th:only-of-type {\n",
       "        vertical-align: middle;\n",
       "    }\n",
       "\n",
       "    .dataframe tbody tr th {\n",
       "        vertical-align: top;\n",
       "    }\n",
       "\n",
       "    .dataframe thead th {\n",
       "        text-align: right;\n",
       "    }\n",
       "</style>\n",
       "<table border=\"1\" class=\"dataframe\">\n",
       "  <thead>\n",
       "    <tr style=\"text-align: right;\">\n",
       "      <th></th>\n",
       "      <th>Confirmed</th>\n",
       "      <th>Deaths</th>\n",
       "    </tr>\n",
       "  </thead>\n",
       "  <tbody>\n",
       "    <tr>\n",
       "      <th>0</th>\n",
       "      <td>19508.0</td>\n",
       "      <td>755.0</td>\n",
       "    </tr>\n",
       "    <tr>\n",
       "      <th>1</th>\n",
       "      <td>74588.0</td>\n",
       "      <td>1277.0</td>\n",
       "    </tr>\n",
       "    <tr>\n",
       "      <th>2</th>\n",
       "      <td>29602.0</td>\n",
       "      <td>721.0</td>\n",
       "    </tr>\n",
       "    <tr>\n",
       "      <th>3</th>\n",
       "      <td>5744.0</td>\n",
       "      <td>43.0</td>\n",
       "    </tr>\n",
       "    <tr>\n",
       "      <th>4</th>\n",
       "      <td>17118.0</td>\n",
       "      <td>361.0</td>\n",
       "    </tr>\n",
       "  </tbody>\n",
       "</table>\n",
       "</div>"
      ],
      "text/plain": [
       "   Confirmed  Deaths\n",
       "0    19508.0   755.0\n",
       "1    74588.0  1277.0\n",
       "2    29602.0   721.0\n",
       "3     5744.0    43.0\n",
       "4    17118.0   361.0"
      ]
     },
     "execution_count": 31,
     "metadata": {},
     "output_type": "execute_result"
    }
   ],
   "source": [
    "clustering_data.head()"
   ]
  },
  {
   "cell_type": "markdown",
   "id": "d9f3901a",
   "metadata": {},
   "source": [
    "In the below step, we used scaling technique where column are rescaled so that they demonstrate the properties of a standard Gaussian distribution, i.e. mean = 0 and variance = 1."
   ]
  },
  {
   "cell_type": "code",
   "execution_count": 32,
   "id": "ab6647cc",
   "metadata": {},
   "outputs": [
    {
     "name": "stdout",
     "output_type": "stream",
     "text": [
      "[[-0.01107649  0.06114993]\n",
      " [ 0.22695109  0.16581263]\n",
      " [ 0.03254461  0.05433282]\n",
      " ...\n",
      " [-0.09538009 -0.09023002]\n",
      " [-0.10705243 -0.09845066]\n",
      " [-0.09666357 -0.09343808]]\n"
     ]
    }
   ],
   "source": [
    "scaler = StandardScaler()\n",
    "X_scaled = scaler.fit(clustering_data).transform\n",
    "(clustering_data.astype(np.float))\n",
    "print(X_scaled)"
   ]
  },
  {
   "cell_type": "code",
   "execution_count": 33,
   "id": "92f43444",
   "metadata": {},
   "outputs": [
    {
     "data": {
      "image/png": "[encoded data removed]",
      "text/plain": [
       "<Figure size 1152x432 with 1 Axes>"
      ]
     },
     "metadata": {
      "needs_background": "light"
     },
     "output_type": "display_data"
    }
   ],
   "source": [
    "cluster_range = range( 1, 20 )\n",
    "cluster_errors = []\n",
    "for num_clusters in cluster_range:\n",
    " clusters = KMeans( num_clusters )\n",
    " clusters.fit( X_scaled )\n",
    " cluster_errors.append( clusters.inertia_ )\n",
    "clusters_df = pd.DataFrame( { \"num_clusters\":cluster_range, \n",
    " \"cluster_errors\": cluster_errors } )\n",
    "plt.figure(figsize=(16,6))\n",
    "plt.plot( clusters_df.num_clusters, clusters_df.cluster_errors, \n",
    "         marker = \"o\" );"
   ]
  },
  {
   "cell_type": "markdown",
   "id": "61988bf4",
   "metadata": {},
   "source": [
    "To determine the optimal number of clusters, we have to select the value of k at the “elbow” i.e. the point after which the inertia start decreasing in a linear fashion. Thus for the above cluster, we conclude that the optimal number of clusters is 4. Our value for K will be 4."
   ]
  },
  {
   "cell_type": "code",
   "execution_count": 34,
   "id": "f69799b3",
   "metadata": {},
   "outputs": [],
   "source": [
    "# Fitting K-Means to the dataset\n",
    "kmeans = KMeans(n_clusters = 4, init = 'k-means++', \n",
    "                random_state = 10)\n",
    "y_kmeans = kmeans.fit_predict(X_scaled)\n",
    "#beginning of the cluster numbering with 1 instead of 0\n",
    "y_kmeans1=y_kmeans+1\n",
    "# New list called cluster\n",
    "cluster = list(y_kmeans1)\n",
    "# Adding cluster to our data set\n",
    "clustering_data['cluster'] = cluster"
   ]
  },
  {
   "cell_type": "code",
   "execution_count": 35,
   "id": "0f05b5c9",
   "metadata": {},
   "outputs": [
    {
     "data": {
      "text/html": [
       "<div>\n",
       "<style scoped>\n",
       "    .dataframe tbody tr th:only-of-type {\n",
       "        vertical-align: middle;\n",
       "    }\n",
       "\n",
       "    .dataframe tbody tr th {\n",
       "        vertical-align: top;\n",
       "    }\n",
       "\n",
       "    .dataframe thead th {\n",
       "        text-align: right;\n",
       "    }\n",
       "</style>\n",
       "<table border=\"1\" class=\"dataframe\">\n",
       "  <thead>\n",
       "    <tr style=\"text-align: right;\">\n",
       "      <th></th>\n",
       "      <th>Confirmed</th>\n",
       "      <th>Deaths</th>\n",
       "      <th>cluster</th>\n",
       "    </tr>\n",
       "  </thead>\n",
       "  <tbody>\n",
       "    <tr>\n",
       "      <th>0</th>\n",
       "      <td>19508.0</td>\n",
       "      <td>755.0</td>\n",
       "      <td>1</td>\n",
       "    </tr>\n",
       "    <tr>\n",
       "      <th>1</th>\n",
       "      <td>74588.0</td>\n",
       "      <td>1277.0</td>\n",
       "      <td>1</td>\n",
       "    </tr>\n",
       "    <tr>\n",
       "      <th>2</th>\n",
       "      <td>29602.0</td>\n",
       "      <td>721.0</td>\n",
       "      <td>1</td>\n",
       "    </tr>\n",
       "    <tr>\n",
       "      <th>3</th>\n",
       "      <td>5744.0</td>\n",
       "      <td>43.0</td>\n",
       "      <td>1</td>\n",
       "    </tr>\n",
       "    <tr>\n",
       "      <th>4</th>\n",
       "      <td>17118.0</td>\n",
       "      <td>361.0</td>\n",
       "      <td>1</td>\n",
       "    </tr>\n",
       "    <tr>\n",
       "      <th>5</th>\n",
       "      <td>1102.0</td>\n",
       "      <td>37.0</td>\n",
       "      <td>1</td>\n",
       "    </tr>\n",
       "    <tr>\n",
       "      <th>6</th>\n",
       "      <td>2167856.0</td>\n",
       "      <td>34930.0</td>\n",
       "      <td>2</td>\n",
       "    </tr>\n",
       "    <tr>\n",
       "      <th>7</th>\n",
       "      <td>63792.0</td>\n",
       "      <td>1631.0</td>\n",
       "      <td>1</td>\n",
       "    </tr>\n",
       "    <tr>\n",
       "      <th>8</th>\n",
       "      <td>6.0</td>\n",
       "      <td>0.0</td>\n",
       "      <td>1</td>\n",
       "    </tr>\n",
       "    <tr>\n",
       "      <th>9</th>\n",
       "      <td>664.0</td>\n",
       "      <td>0.0</td>\n",
       "      <td>1</td>\n",
       "    </tr>\n",
       "  </tbody>\n",
       "</table>\n",
       "</div>"
      ],
      "text/plain": [
       "   Confirmed   Deaths  cluster\n",
       "0    19508.0    755.0        1\n",
       "1    74588.0   1277.0        1\n",
       "2    29602.0    721.0        1\n",
       "3     5744.0     43.0        1\n",
       "4    17118.0    361.0        1\n",
       "5     1102.0     37.0        1\n",
       "6  2167856.0  34930.0        2\n",
       "7    63792.0   1631.0        1\n",
       "8        6.0      0.0        1\n",
       "9      664.0      0.0        1"
      ]
     },
     "execution_count": 35,
     "metadata": {},
     "output_type": "execute_result"
    }
   ],
   "source": [
    "clustering_data.head(10)"
   ]
  },
  {
   "cell_type": "code",
   "execution_count": 36,
   "id": "538844cf",
   "metadata": {},
   "outputs": [
    {
     "data": {
      "text/html": [
       "<div>\n",
       "<style scoped>\n",
       "    .dataframe tbody tr th:only-of-type {\n",
       "        vertical-align: middle;\n",
       "    }\n",
       "\n",
       "    .dataframe tbody tr th {\n",
       "        vertical-align: top;\n",
       "    }\n",
       "\n",
       "    .dataframe thead th {\n",
       "        text-align: right;\n",
       "    }\n",
       "</style>\n",
       "<table border=\"1\" class=\"dataframe\">\n",
       "  <thead>\n",
       "    <tr style=\"text-align: right;\">\n",
       "      <th></th>\n",
       "      <th>Confirmed</th>\n",
       "      <th>Deaths</th>\n",
       "    </tr>\n",
       "    <tr>\n",
       "      <th>cluster</th>\n",
       "      <th></th>\n",
       "      <th></th>\n",
       "    </tr>\n",
       "  </thead>\n",
       "  <tbody>\n",
       "    <tr>\n",
       "      <th>1</th>\n",
       "      <td>10102.2</td>\n",
       "      <td>206.8</td>\n",
       "    </tr>\n",
       "    <tr>\n",
       "      <th>2</th>\n",
       "      <td>1200952.5</td>\n",
       "      <td>28392.2</td>\n",
       "    </tr>\n",
       "    <tr>\n",
       "      <th>3</th>\n",
       "      <td>-1458323.1</td>\n",
       "      <td>-42316.7</td>\n",
       "    </tr>\n",
       "    <tr>\n",
       "      <th>4</th>\n",
       "      <td>4343727.8</td>\n",
       "      <td>85121.5</td>\n",
       "    </tr>\n",
       "  </tbody>\n",
       "</table>\n",
       "</div>"
      ],
      "text/plain": [
       "         Confirmed   Deaths\n",
       "cluster                    \n",
       "1          10102.2    206.8\n",
       "2        1200952.5  28392.2\n",
       "3       -1458323.1 -42316.7\n",
       "4        4343727.8  85121.5"
      ]
     },
     "execution_count": 36,
     "metadata": {},
     "output_type": "execute_result"
    }
   ],
   "source": [
    "kmeans_mean_cluster = \n",
    "pd.DataFrame(round(clustering_data.groupby('cluster').mean(),1))\n",
    "kmeans_mean_cluster"
   ]
  },
  {
   "cell_type": "code",
   "execution_count": 37,
   "id": "4365517f",
   "metadata": {},
   "outputs": [
    {
     "data": {
      "text/html": [
       "<div>\n",
       "<style scoped>\n",
       "    .dataframe tbody tr th:only-of-type {\n",
       "        vertical-align: middle;\n",
       "    }\n",
       "\n",
       "    .dataframe tbody tr th {\n",
       "        vertical-align: top;\n",
       "    }\n",
       "\n",
       "    .dataframe thead th {\n",
       "        text-align: right;\n",
       "    }\n",
       "</style>\n",
       "<table border=\"1\" class=\"dataframe\">\n",
       "  <thead>\n",
       "    <tr style=\"text-align: right;\">\n",
       "      <th></th>\n",
       "      <th>Province_State</th>\n",
       "      <th>cluster</th>\n",
       "    </tr>\n",
       "  </thead>\n",
       "  <tbody>\n",
       "    <tr>\n",
       "      <th>6</th>\n",
       "      <td>Argentina</td>\n",
       "      <td>2</td>\n",
       "    </tr>\n",
       "    <tr>\n",
       "      <th>53</th>\n",
       "      <td>Minas Gerais</td>\n",
       "      <td>2</td>\n",
       "    </tr>\n",
       "    <tr>\n",
       "      <th>56</th>\n",
       "      <td>Parana</td>\n",
       "      <td>2</td>\n",
       "    </tr>\n",
       "    <tr>\n",
       "      <th>60</th>\n",
       "      <td>Rio Grande do Sul</td>\n",
       "      <td>2</td>\n",
       "    </tr>\n",
       "    <tr>\n",
       "      <th>61</th>\n",
       "      <td>Rio de Janeiro</td>\n",
       "      <td>2</td>\n",
       "    </tr>\n",
       "    <tr>\n",
       "      <th>65</th>\n",
       "      <td>Sao Paulo</td>\n",
       "      <td>2</td>\n",
       "    </tr>\n",
       "    <tr>\n",
       "      <th>152</th>\n",
       "      <td>Capital District</td>\n",
       "      <td>2</td>\n",
       "    </tr>\n",
       "    <tr>\n",
       "      <th>187</th>\n",
       "      <td>Czechia</td>\n",
       "      <td>2</td>\n",
       "    </tr>\n",
       "    <tr>\n",
       "      <th>229</th>\n",
       "      <td>Nordrhein-Westfalen</td>\n",
       "      <td>2</td>\n",
       "    </tr>\n",
       "    <tr>\n",
       "      <th>247</th>\n",
       "      <td>Hungary</td>\n",
       "      <td>2</td>\n",
       "    </tr>\n",
       "    <tr>\n",
       "      <th>250</th>\n",
       "      <td>Andhra Pradesh</td>\n",
       "      <td>2</td>\n",
       "    </tr>\n",
       "    <tr>\n",
       "      <th>257</th>\n",
       "      <td>Delhi</td>\n",
       "      <td>2</td>\n",
       "    </tr>\n",
       "    <tr>\n",
       "      <th>264</th>\n",
       "      <td>Karnataka</td>\n",
       "      <td>2</td>\n",
       "    </tr>\n",
       "    <tr>\n",
       "      <th>265</th>\n",
       "      <td>Kerala</td>\n",
       "      <td>2</td>\n",
       "    </tr>\n",
       "    <tr>\n",
       "      <th>279</th>\n",
       "      <td>Tamil Nadu</td>\n",
       "      <td>2</td>\n",
       "    </tr>\n",
       "    <tr>\n",
       "      <th>283</th>\n",
       "      <td>Uttar Pradesh</td>\n",
       "      <td>2</td>\n",
       "    </tr>\n",
       "    <tr>\n",
       "      <th>286</th>\n",
       "      <td>Indonesia</td>\n",
       "      <td>2</td>\n",
       "    </tr>\n",
       "    <tr>\n",
       "      <th>288</th>\n",
       "      <td>Iraq</td>\n",
       "      <td>2</td>\n",
       "    </tr>\n",
       "    <tr>\n",
       "      <th>299</th>\n",
       "      <td>Lombardia</td>\n",
       "      <td>2</td>\n",
       "    </tr>\n",
       "    <tr>\n",
       "      <th>394</th>\n",
       "      <td>Ciudad de Mexico</td>\n",
       "      <td>2</td>\n",
       "    </tr>\n",
       "    <tr>\n",
       "      <th>402</th>\n",
       "      <td>Mexico</td>\n",
       "      <td>2</td>\n",
       "    </tr>\n",
       "    <tr>\n",
       "      <th>478</th>\n",
       "      <td>Lima</td>\n",
       "      <td>2</td>\n",
       "    </tr>\n",
       "    <tr>\n",
       "      <th>492</th>\n",
       "      <td>Portugal</td>\n",
       "      <td>2</td>\n",
       "    </tr>\n",
       "    <tr>\n",
       "      <th>494</th>\n",
       "      <td>Romania</td>\n",
       "      <td>2</td>\n",
       "    </tr>\n",
       "    <tr>\n",
       "      <th>537</th>\n",
       "      <td>Moscow</td>\n",
       "      <td>2</td>\n",
       "    </tr>\n",
       "    <tr>\n",
       "      <th>595</th>\n",
       "      <td>South Africa</td>\n",
       "      <td>2</td>\n",
       "    </tr>\n",
       "    <tr>\n",
       "      <th>863</th>\n",
       "      <td>California</td>\n",
       "      <td>2</td>\n",
       "    </tr>\n",
       "  </tbody>\n",
       "</table>\n",
       "</div>"
      ],
      "text/plain": [
       "          Province_State  cluster\n",
       "6              Argentina        2\n",
       "53          Minas Gerais        2\n",
       "56                Parana        2\n",
       "60     Rio Grande do Sul        2\n",
       "61        Rio de Janeiro        2\n",
       "65             Sao Paulo        2\n",
       "152     Capital District        2\n",
       "187              Czechia        2\n",
       "229  Nordrhein-Westfalen        2\n",
       "247              Hungary        2\n",
       "250       Andhra Pradesh        2\n",
       "257                Delhi        2\n",
       "264            Karnataka        2\n",
       "265               Kerala        2\n",
       "279           Tamil Nadu        2\n",
       "283        Uttar Pradesh        2\n",
       "286            Indonesia        2\n",
       "288                 Iraq        2\n",
       "299            Lombardia        2\n",
       "394     Ciudad de Mexico        2\n",
       "402               Mexico        2\n",
       "478                 Lima        2\n",
       "492             Portugal        2\n",
       "494              Romania        2\n",
       "537               Moscow        2\n",
       "595         South Africa        2\n",
       "863           California        2"
      ]
     },
     "execution_count": 37,
     "metadata": {},
     "output_type": "execute_result"
    }
   ],
   "source": [
    "data['cluster'] = cluster\n",
    "clusters = data[['Province_State', 'cluster']]\n",
    "clusters.loc[clusters['cluster'] == 2]"
   ]
  },
  {
   "cell_type": "code",
   "execution_count": 38,
   "id": "a13266a9",
   "metadata": {},
   "outputs": [
    {
     "data": {
      "text/html": [
       "<div>\n",
       "<style scoped>\n",
       "    .dataframe tbody tr th:only-of-type {\n",
       "        vertical-align: middle;\n",
       "    }\n",
       "\n",
       "    .dataframe tbody tr th {\n",
       "        vertical-align: top;\n",
       "    }\n",
       "\n",
       "    .dataframe thead th {\n",
       "        text-align: right;\n",
       "    }\n",
       "</style>\n",
       "<table border=\"1\" class=\"dataframe\">\n",
       "  <thead>\n",
       "    <tr style=\"text-align: right;\">\n",
       "      <th></th>\n",
       "      <th>Province_State</th>\n",
       "      <th>cluster</th>\n",
       "    </tr>\n",
       "  </thead>\n",
       "  <tbody>\n",
       "    <tr>\n",
       "      <th>214</th>\n",
       "      <td>St Martin</td>\n",
       "      <td>3</td>\n",
       "    </tr>\n",
       "    <tr>\n",
       "      <th>267</th>\n",
       "      <td>Lakshadweep</td>\n",
       "      <td>3</td>\n",
       "    </tr>\n",
       "    <tr>\n",
       "      <th>285</th>\n",
       "      <td>West Bengal</td>\n",
       "      <td>3</td>\n",
       "    </tr>\n",
       "    <tr>\n",
       "      <th>474</th>\n",
       "      <td>Ica</td>\n",
       "      <td>3</td>\n",
       "    </tr>\n",
       "    <tr>\n",
       "      <th>487</th>\n",
       "      <td>Tumbes</td>\n",
       "      <td>3</td>\n",
       "    </tr>\n",
       "    <tr>\n",
       "      <th>647</th>\n",
       "      <td>Timor-Leste</td>\n",
       "      <td>3</td>\n",
       "    </tr>\n",
       "    <tr>\n",
       "      <th>3956</th>\n",
       "      <td>Zhytomyr Oblast</td>\n",
       "      <td>3</td>\n",
       "    </tr>\n",
       "  </tbody>\n",
       "</table>\n",
       "</div>"
      ],
      "text/plain": [
       "       Province_State  cluster\n",
       "214         St Martin        3\n",
       "267       Lakshadweep        3\n",
       "285       West Bengal        3\n",
       "474               Ica        3\n",
       "487            Tumbes        3\n",
       "647       Timor-Leste        3\n",
       "3956  Zhytomyr Oblast        3"
      ]
     },
     "execution_count": 38,
     "metadata": {},
     "output_type": "execute_result"
    }
   ],
   "source": [
    "data['cluster'] = cluster\n",
    "clusters = data[['Province_State', 'cluster']]\n",
    "clusters.loc[clusters['cluster'] == 3]"
   ]
  },
  {
   "cell_type": "markdown",
   "id": "538c0f2a",
   "metadata": {},
   "source": [
    "#### Q4. Discuss what do you think about other clusters?"
   ]
  },
  {
   "cell_type": "markdown",
   "id": "15bd9b98",
   "metadata": {},
   "source": [
    "The cluster 2 contains area with high death rates and confirmed cases. We can see that Delhi, Karnataka, Kerala are displayed in cluster 2. We will later plot this using Follium."
   ]
  },
  {
   "cell_type": "code",
   "execution_count": 39,
   "id": "7a40a97a",
   "metadata": {},
   "outputs": [
    {
     "data": {
      "text/html": [
       "<div>\n",
       "<style scoped>\n",
       "    .dataframe tbody tr th:only-of-type {\n",
       "        vertical-align: middle;\n",
       "    }\n",
       "\n",
       "    .dataframe tbody tr th {\n",
       "        vertical-align: top;\n",
       "    }\n",
       "\n",
       "    .dataframe thead th {\n",
       "        text-align: right;\n",
       "    }\n",
       "</style>\n",
       "<table border=\"1\" class=\"dataframe\">\n",
       "  <thead>\n",
       "    <tr style=\"text-align: right;\">\n",
       "      <th></th>\n",
       "      <th>Province_State</th>\n",
       "      <th>cluster</th>\n",
       "    </tr>\n",
       "  </thead>\n",
       "  <tbody>\n",
       "    <tr>\n",
       "      <th>6</th>\n",
       "      <td>Argentina</td>\n",
       "      <td>2</td>\n",
       "    </tr>\n",
       "    <tr>\n",
       "      <th>53</th>\n",
       "      <td>Minas Gerais</td>\n",
       "      <td>2</td>\n",
       "    </tr>\n",
       "    <tr>\n",
       "      <th>56</th>\n",
       "      <td>Parana</td>\n",
       "      <td>2</td>\n",
       "    </tr>\n",
       "    <tr>\n",
       "      <th>60</th>\n",
       "      <td>Rio Grande do Sul</td>\n",
       "      <td>2</td>\n",
       "    </tr>\n",
       "    <tr>\n",
       "      <th>61</th>\n",
       "      <td>Rio de Janeiro</td>\n",
       "      <td>2</td>\n",
       "    </tr>\n",
       "    <tr>\n",
       "      <th>65</th>\n",
       "      <td>Sao Paulo</td>\n",
       "      <td>2</td>\n",
       "    </tr>\n",
       "    <tr>\n",
       "      <th>152</th>\n",
       "      <td>Capital District</td>\n",
       "      <td>2</td>\n",
       "    </tr>\n",
       "    <tr>\n",
       "      <th>187</th>\n",
       "      <td>Czechia</td>\n",
       "      <td>2</td>\n",
       "    </tr>\n",
       "    <tr>\n",
       "      <th>229</th>\n",
       "      <td>Nordrhein-Westfalen</td>\n",
       "      <td>2</td>\n",
       "    </tr>\n",
       "    <tr>\n",
       "      <th>247</th>\n",
       "      <td>Hungary</td>\n",
       "      <td>2</td>\n",
       "    </tr>\n",
       "    <tr>\n",
       "      <th>250</th>\n",
       "      <td>Andhra Pradesh</td>\n",
       "      <td>2</td>\n",
       "    </tr>\n",
       "    <tr>\n",
       "      <th>257</th>\n",
       "      <td>Delhi</td>\n",
       "      <td>2</td>\n",
       "    </tr>\n",
       "    <tr>\n",
       "      <th>264</th>\n",
       "      <td>Karnataka</td>\n",
       "      <td>2</td>\n",
       "    </tr>\n",
       "    <tr>\n",
       "      <th>265</th>\n",
       "      <td>Kerala</td>\n",
       "      <td>2</td>\n",
       "    </tr>\n",
       "    <tr>\n",
       "      <th>279</th>\n",
       "      <td>Tamil Nadu</td>\n",
       "      <td>2</td>\n",
       "    </tr>\n",
       "    <tr>\n",
       "      <th>283</th>\n",
       "      <td>Uttar Pradesh</td>\n",
       "      <td>2</td>\n",
       "    </tr>\n",
       "    <tr>\n",
       "      <th>286</th>\n",
       "      <td>Indonesia</td>\n",
       "      <td>2</td>\n",
       "    </tr>\n",
       "    <tr>\n",
       "      <th>288</th>\n",
       "      <td>Iraq</td>\n",
       "      <td>2</td>\n",
       "    </tr>\n",
       "    <tr>\n",
       "      <th>299</th>\n",
       "      <td>Lombardia</td>\n",
       "      <td>2</td>\n",
       "    </tr>\n",
       "    <tr>\n",
       "      <th>394</th>\n",
       "      <td>Ciudad de Mexico</td>\n",
       "      <td>2</td>\n",
       "    </tr>\n",
       "    <tr>\n",
       "      <th>402</th>\n",
       "      <td>Mexico</td>\n",
       "      <td>2</td>\n",
       "    </tr>\n",
       "    <tr>\n",
       "      <th>478</th>\n",
       "      <td>Lima</td>\n",
       "      <td>2</td>\n",
       "    </tr>\n",
       "    <tr>\n",
       "      <th>492</th>\n",
       "      <td>Portugal</td>\n",
       "      <td>2</td>\n",
       "    </tr>\n",
       "    <tr>\n",
       "      <th>494</th>\n",
       "      <td>Romania</td>\n",
       "      <td>2</td>\n",
       "    </tr>\n",
       "    <tr>\n",
       "      <th>537</th>\n",
       "      <td>Moscow</td>\n",
       "      <td>2</td>\n",
       "    </tr>\n",
       "    <tr>\n",
       "      <th>595</th>\n",
       "      <td>South Africa</td>\n",
       "      <td>2</td>\n",
       "    </tr>\n",
       "    <tr>\n",
       "      <th>863</th>\n",
       "      <td>California</td>\n",
       "      <td>2</td>\n",
       "    </tr>\n",
       "  </tbody>\n",
       "</table>\n",
       "</div>"
      ],
      "text/plain": [
       "          Province_State  cluster\n",
       "6              Argentina        2\n",
       "53          Minas Gerais        2\n",
       "56                Parana        2\n",
       "60     Rio Grande do Sul        2\n",
       "61        Rio de Janeiro        2\n",
       "65             Sao Paulo        2\n",
       "152     Capital District        2\n",
       "187              Czechia        2\n",
       "229  Nordrhein-Westfalen        2\n",
       "247              Hungary        2\n",
       "250       Andhra Pradesh        2\n",
       "257                Delhi        2\n",
       "264            Karnataka        2\n",
       "265               Kerala        2\n",
       "279           Tamil Nadu        2\n",
       "283        Uttar Pradesh        2\n",
       "286            Indonesia        2\n",
       "288                 Iraq        2\n",
       "299            Lombardia        2\n",
       "394     Ciudad de Mexico        2\n",
       "402               Mexico        2\n",
       "478                 Lima        2\n",
       "492             Portugal        2\n",
       "494              Romania        2\n",
       "537               Moscow        2\n",
       "595         South Africa        2\n",
       "863           California        2"
      ]
     },
     "execution_count": 39,
     "metadata": {},
     "output_type": "execute_result"
    }
   ],
   "source": [
    "clusters.loc[clusters['cluster'] == 2]"
   ]
  },
  {
   "cell_type": "markdown",
   "id": "27bd265c",
   "metadata": {},
   "source": [
    "Cluster 1 contains states that have low death rate and confirmed cases."
   ]
  },
  {
   "cell_type": "code",
   "execution_count": 40,
   "id": "5fac229d",
   "metadata": {},
   "outputs": [
    {
     "data": {
      "text/html": [
       "<div>\n",
       "<style scoped>\n",
       "    .dataframe tbody tr th:only-of-type {\n",
       "        vertical-align: middle;\n",
       "    }\n",
       "\n",
       "    .dataframe tbody tr th {\n",
       "        vertical-align: top;\n",
       "    }\n",
       "\n",
       "    .dataframe thead th {\n",
       "        text-align: right;\n",
       "    }\n",
       "</style>\n",
       "<table border=\"1\" class=\"dataframe\">\n",
       "  <thead>\n",
       "    <tr style=\"text-align: right;\">\n",
       "      <th></th>\n",
       "      <th>Province_State</th>\n",
       "      <th>cluster</th>\n",
       "    </tr>\n",
       "  </thead>\n",
       "  <tbody>\n",
       "    <tr>\n",
       "      <th>0</th>\n",
       "      <td>Afghanistan</td>\n",
       "      <td>1</td>\n",
       "    </tr>\n",
       "    <tr>\n",
       "      <th>1</th>\n",
       "      <td>Albania</td>\n",
       "      <td>1</td>\n",
       "    </tr>\n",
       "    <tr>\n",
       "      <th>2</th>\n",
       "      <td>Algeria</td>\n",
       "      <td>1</td>\n",
       "    </tr>\n",
       "    <tr>\n",
       "      <th>3</th>\n",
       "      <td>Andorra</td>\n",
       "      <td>1</td>\n",
       "    </tr>\n",
       "    <tr>\n",
       "      <th>4</th>\n",
       "      <td>Angola</td>\n",
       "      <td>1</td>\n",
       "    </tr>\n",
       "    <tr>\n",
       "      <th>...</th>\n",
       "      <td>...</td>\n",
       "      <td>...</td>\n",
       "    </tr>\n",
       "    <tr>\n",
       "      <th>3999</th>\n",
       "      <td>W.P. Kuala Lumpur</td>\n",
       "      <td>1</td>\n",
       "    </tr>\n",
       "    <tr>\n",
       "      <th>4001</th>\n",
       "      <td>W.P. Putrajaya</td>\n",
       "      <td>1</td>\n",
       "    </tr>\n",
       "    <tr>\n",
       "      <th>4002</th>\n",
       "      <td>Unknown</td>\n",
       "      <td>1</td>\n",
       "    </tr>\n",
       "    <tr>\n",
       "      <th>4003</th>\n",
       "      <td>Tonga</td>\n",
       "      <td>1</td>\n",
       "    </tr>\n",
       "    <tr>\n",
       "      <th>4004</th>\n",
       "      <td>Winter Olympics 2022</td>\n",
       "      <td>1</td>\n",
       "    </tr>\n",
       "  </tbody>\n",
       "</table>\n",
       "<p>3960 rows × 2 columns</p>\n",
       "</div>"
      ],
      "text/plain": [
       "            Province_State  cluster\n",
       "0              Afghanistan        1\n",
       "1                  Albania        1\n",
       "2                  Algeria        1\n",
       "3                  Andorra        1\n",
       "4                   Angola        1\n",
       "...                    ...      ...\n",
       "3999     W.P. Kuala Lumpur        1\n",
       "4001        W.P. Putrajaya        1\n",
       "4002               Unknown        1\n",
       "4003                 Tonga        1\n",
       "4004  Winter Olympics 2022        1\n",
       "\n",
       "[3960 rows x 2 columns]"
      ]
     },
     "execution_count": 40,
     "metadata": {},
     "output_type": "execute_result"
    }
   ],
   "source": [
    "clusters.loc[clusters['cluster'] == 1]"
   ]
  },
  {
   "cell_type": "code",
   "execution_count": 41,
   "id": "db51c183",
   "metadata": {},
   "outputs": [
    {
     "data": {
      "text/html": [
       "<div>\n",
       "<style scoped>\n",
       "    .dataframe tbody tr th:only-of-type {\n",
       "        vertical-align: middle;\n",
       "    }\n",
       "\n",
       "    .dataframe tbody tr th {\n",
       "        vertical-align: top;\n",
       "    }\n",
       "\n",
       "    .dataframe thead th {\n",
       "        text-align: right;\n",
       "    }\n",
       "</style>\n",
       "<table border=\"1\" class=\"dataframe\">\n",
       "  <thead>\n",
       "    <tr style=\"text-align: right;\">\n",
       "      <th></th>\n",
       "      <th>Province_State</th>\n",
       "      <th>cluster</th>\n",
       "    </tr>\n",
       "  </thead>\n",
       "  <tbody>\n",
       "    <tr>\n",
       "      <th>214</th>\n",
       "      <td>St Martin</td>\n",
       "      <td>3</td>\n",
       "    </tr>\n",
       "    <tr>\n",
       "      <th>267</th>\n",
       "      <td>Lakshadweep</td>\n",
       "      <td>3</td>\n",
       "    </tr>\n",
       "    <tr>\n",
       "      <th>285</th>\n",
       "      <td>West Bengal</td>\n",
       "      <td>3</td>\n",
       "    </tr>\n",
       "    <tr>\n",
       "      <th>474</th>\n",
       "      <td>Ica</td>\n",
       "      <td>3</td>\n",
       "    </tr>\n",
       "    <tr>\n",
       "      <th>487</th>\n",
       "      <td>Tumbes</td>\n",
       "      <td>3</td>\n",
       "    </tr>\n",
       "    <tr>\n",
       "      <th>647</th>\n",
       "      <td>Timor-Leste</td>\n",
       "      <td>3</td>\n",
       "    </tr>\n",
       "    <tr>\n",
       "      <th>3956</th>\n",
       "      <td>Zhytomyr Oblast</td>\n",
       "      <td>3</td>\n",
       "    </tr>\n",
       "  </tbody>\n",
       "</table>\n",
       "</div>"
      ],
      "text/plain": [
       "       Province_State  cluster\n",
       "214         St Martin        3\n",
       "267       Lakshadweep        3\n",
       "285       West Bengal        3\n",
       "474               Ica        3\n",
       "487            Tumbes        3\n",
       "647       Timor-Leste        3\n",
       "3956  Zhytomyr Oblast        3"
      ]
     },
     "execution_count": 41,
     "metadata": {},
     "output_type": "execute_result"
    }
   ],
   "source": [
    "clusters.loc[clusters['cluster'] == 3]"
   ]
  },
  {
   "cell_type": "code",
   "execution_count": 42,
   "id": "4d565ddc",
   "metadata": {},
   "outputs": [
    {
     "data": {
      "text/html": [
       "<div>\n",
       "<style scoped>\n",
       "    .dataframe tbody tr th:only-of-type {\n",
       "        vertical-align: middle;\n",
       "    }\n",
       "\n",
       "    .dataframe tbody tr th {\n",
       "        vertical-align: top;\n",
       "    }\n",
       "\n",
       "    .dataframe thead th {\n",
       "        text-align: right;\n",
       "    }\n",
       "</style>\n",
       "<table border=\"1\" class=\"dataframe\">\n",
       "  <thead>\n",
       "    <tr style=\"text-align: right;\">\n",
       "      <th></th>\n",
       "      <th>Province_State</th>\n",
       "      <th>Country_Region</th>\n",
       "      <th>Confirmed</th>\n",
       "      <th>Deaths</th>\n",
       "      <th>Latitude</th>\n",
       "      <th>Longitude</th>\n",
       "      <th>cluster</th>\n",
       "    </tr>\n",
       "  </thead>\n",
       "  <tbody>\n",
       "    <tr>\n",
       "      <th>0</th>\n",
       "      <td>Afghanistan</td>\n",
       "      <td>Afghanistan</td>\n",
       "      <td>19508.0</td>\n",
       "      <td>755.0</td>\n",
       "      <td>33.768006</td>\n",
       "      <td>66.238514</td>\n",
       "      <td>1</td>\n",
       "    </tr>\n",
       "    <tr>\n",
       "      <th>1</th>\n",
       "      <td>Albania</td>\n",
       "      <td>Albania</td>\n",
       "      <td>74588.0</td>\n",
       "      <td>1277.0</td>\n",
       "      <td>41.000028</td>\n",
       "      <td>19.999962</td>\n",
       "      <td>1</td>\n",
       "    </tr>\n",
       "    <tr>\n",
       "      <th>2</th>\n",
       "      <td>Algeria</td>\n",
       "      <td>Algeria</td>\n",
       "      <td>29602.0</td>\n",
       "      <td>721.0</td>\n",
       "      <td>28.000027</td>\n",
       "      <td>2.999983</td>\n",
       "      <td>1</td>\n",
       "    </tr>\n",
       "    <tr>\n",
       "      <th>3</th>\n",
       "      <td>Andorra</td>\n",
       "      <td>Andorra</td>\n",
       "      <td>5744.0</td>\n",
       "      <td>43.0</td>\n",
       "      <td>42.540717</td>\n",
       "      <td>1.573203</td>\n",
       "      <td>1</td>\n",
       "    </tr>\n",
       "    <tr>\n",
       "      <th>4</th>\n",
       "      <td>Angola</td>\n",
       "      <td>Angola</td>\n",
       "      <td>17118.0</td>\n",
       "      <td>361.0</td>\n",
       "      <td>-11.877577</td>\n",
       "      <td>17.569124</td>\n",
       "      <td>1</td>\n",
       "    </tr>\n",
       "    <tr>\n",
       "      <th>5</th>\n",
       "      <td>Antigua and Barbuda</td>\n",
       "      <td>Antigua and Barbuda</td>\n",
       "      <td>1102.0</td>\n",
       "      <td>37.0</td>\n",
       "      <td>17.223472</td>\n",
       "      <td>-61.955461</td>\n",
       "      <td>1</td>\n",
       "    </tr>\n",
       "    <tr>\n",
       "      <th>6</th>\n",
       "      <td>Argentina</td>\n",
       "      <td>Argentina</td>\n",
       "      <td>2167856.0</td>\n",
       "      <td>34930.0</td>\n",
       "      <td>-34.996496</td>\n",
       "      <td>-64.967282</td>\n",
       "      <td>2</td>\n",
       "    </tr>\n",
       "    <tr>\n",
       "      <th>7</th>\n",
       "      <td>Armenia</td>\n",
       "      <td>Armenia</td>\n",
       "      <td>63792.0</td>\n",
       "      <td>1631.0</td>\n",
       "      <td>40.769627</td>\n",
       "      <td>44.673665</td>\n",
       "      <td>1</td>\n",
       "    </tr>\n",
       "    <tr>\n",
       "      <th>8</th>\n",
       "      <td>Australian Capital Territory</td>\n",
       "      <td>Australia</td>\n",
       "      <td>6.0</td>\n",
       "      <td>0.0</td>\n",
       "      <td>-35.488350</td>\n",
       "      <td>149.002694</td>\n",
       "      <td>1</td>\n",
       "    </tr>\n",
       "    <tr>\n",
       "      <th>9</th>\n",
       "      <td>New South Wales</td>\n",
       "      <td>Australia</td>\n",
       "      <td>664.0</td>\n",
       "      <td>0.0</td>\n",
       "      <td>-31.875984</td>\n",
       "      <td>147.286949</td>\n",
       "      <td>1</td>\n",
       "    </tr>\n",
       "    <tr>\n",
       "      <th>10</th>\n",
       "      <td>Northern Territory</td>\n",
       "      <td>Australia</td>\n",
       "      <td>99.0</td>\n",
       "      <td>0.0</td>\n",
       "      <td>-19.851610</td>\n",
       "      <td>133.230337</td>\n",
       "      <td>1</td>\n",
       "    </tr>\n",
       "    <tr>\n",
       "      <th>11</th>\n",
       "      <td>Queensland</td>\n",
       "      <td>Australia</td>\n",
       "      <td>365.0</td>\n",
       "      <td>1.0</td>\n",
       "      <td>-22.164678</td>\n",
       "      <td>144.584490</td>\n",
       "      <td>1</td>\n",
       "    </tr>\n",
       "    <tr>\n",
       "      <th>12</th>\n",
       "      <td>South Australia</td>\n",
       "      <td>Australia</td>\n",
       "      <td>178.0</td>\n",
       "      <td>0.0</td>\n",
       "      <td>-30.534367</td>\n",
       "      <td>135.630121</td>\n",
       "      <td>1</td>\n",
       "    </tr>\n",
       "    <tr>\n",
       "      <th>13</th>\n",
       "      <td>Tasmania</td>\n",
       "      <td>Australia</td>\n",
       "      <td>0.0</td>\n",
       "      <td>0.0</td>\n",
       "      <td>-42.035067</td>\n",
       "      <td>146.636689</td>\n",
       "      <td>1</td>\n",
       "    </tr>\n",
       "    <tr>\n",
       "      <th>14</th>\n",
       "      <td>Victoria</td>\n",
       "      <td>Australia</td>\n",
       "      <td>241.0</td>\n",
       "      <td>0.0</td>\n",
       "      <td>-36.598610</td>\n",
       "      <td>144.678005</td>\n",
       "      <td>1</td>\n",
       "    </tr>\n",
       "    <tr>\n",
       "      <th>15</th>\n",
       "      <td>Western Australia</td>\n",
       "      <td>Australia</td>\n",
       "      <td>160.0</td>\n",
       "      <td>0.0</td>\n",
       "      <td>-25.230300</td>\n",
       "      <td>121.018725</td>\n",
       "      <td>1</td>\n",
       "    </tr>\n",
       "    <tr>\n",
       "      <th>16</th>\n",
       "      <td>Austria</td>\n",
       "      <td>Austria</td>\n",
       "      <td>286913.0</td>\n",
       "      <td>4454.0</td>\n",
       "      <td>47.593970</td>\n",
       "      <td>14.124560</td>\n",
       "      <td>1</td>\n",
       "    </tr>\n",
       "    <tr>\n",
       "      <th>17</th>\n",
       "      <td>Azerbaijan</td>\n",
       "      <td>Azerbaijan</td>\n",
       "      <td>116320.0</td>\n",
       "      <td>2304.0</td>\n",
       "      <td>40.393629</td>\n",
       "      <td>47.787251</td>\n",
       "      <td>1</td>\n",
       "    </tr>\n",
       "    <tr>\n",
       "      <th>18</th>\n",
       "      <td>Bahamas</td>\n",
       "      <td>Bahamas</td>\n",
       "      <td>3939.0</td>\n",
       "      <td>60.0</td>\n",
       "      <td>24.773655</td>\n",
       "      <td>-78.000055</td>\n",
       "      <td>1</td>\n",
       "    </tr>\n",
       "    <tr>\n",
       "      <th>19</th>\n",
       "      <td>Bahrain</td>\n",
       "      <td>Bahrain</td>\n",
       "      <td>148106.0</td>\n",
       "      <td>628.0</td>\n",
       "      <td>26.155125</td>\n",
       "      <td>50.534461</td>\n",
       "      <td>1</td>\n",
       "    </tr>\n",
       "  </tbody>\n",
       "</table>\n",
       "</div>"
      ],
      "text/plain": [
       "                  Province_State       Country_Region  Confirmed   Deaths  \\\n",
       "0                    Afghanistan          Afghanistan    19508.0    755.0   \n",
       "1                        Albania              Albania    74588.0   1277.0   \n",
       "2                        Algeria              Algeria    29602.0    721.0   \n",
       "3                        Andorra              Andorra     5744.0     43.0   \n",
       "4                         Angola               Angola    17118.0    361.0   \n",
       "5            Antigua and Barbuda  Antigua and Barbuda     1102.0     37.0   \n",
       "6                      Argentina            Argentina  2167856.0  34930.0   \n",
       "7                        Armenia              Armenia    63792.0   1631.0   \n",
       "8   Australian Capital Territory            Australia        6.0      0.0   \n",
       "9                New South Wales            Australia      664.0      0.0   \n",
       "10            Northern Territory            Australia       99.0      0.0   \n",
       "11                    Queensland            Australia      365.0      1.0   \n",
       "12               South Australia            Australia      178.0      0.0   \n",
       "13                      Tasmania            Australia        0.0      0.0   \n",
       "14                      Victoria            Australia      241.0      0.0   \n",
       "15             Western Australia            Australia      160.0      0.0   \n",
       "16                       Austria              Austria   286913.0   4454.0   \n",
       "17                    Azerbaijan           Azerbaijan   116320.0   2304.0   \n",
       "18                       Bahamas              Bahamas     3939.0     60.0   \n",
       "19                       Bahrain              Bahrain   148106.0    628.0   \n",
       "\n",
       "     Latitude   Longitude  cluster  \n",
       "0   33.768006   66.238514        1  \n",
       "1   41.000028   19.999962        1  \n",
       "2   28.000027    2.999983        1  \n",
       "3   42.540717    1.573203        1  \n",
       "4  -11.877577   17.569124        1  \n",
       "5   17.223472  -61.955461        1  \n",
       "6  -34.996496  -64.967282        2  \n",
       "7   40.769627   44.673665        1  \n",
       "8  -35.488350  149.002694        1  \n",
       "9  -31.875984  147.286949        1  \n",
       "10 -19.851610  133.230337        1  \n",
       "11 -22.164678  144.584490        1  \n",
       "12 -30.534367  135.630121        1  \n",
       "13 -42.035067  146.636689        1  \n",
       "14 -36.598610  144.678005        1  \n",
       "15 -25.230300  121.018725        1  \n",
       "16  47.593970   14.124560        1  \n",
       "17  40.393629   47.787251        1  \n",
       "18  24.773655  -78.000055        1  \n",
       "19  26.155125   50.534461        1  "
      ]
     },
     "execution_count": 42,
     "metadata": {},
     "output_type": "execute_result"
    }
   ],
   "source": [
    "data.head(20)"
   ]
  },
  {
   "cell_type": "code",
   "execution_count": 43,
   "id": "370d9f78",
   "metadata": {},
   "outputs": [],
   "source": [
    "def get_color(cluster_id):\n",
    "    if cluster_id == 2:\n",
    "        return 'darkred'\n",
    "    if cluster_id == 1:\n",
    "        return 'green' \n",
    "    if cluster_id == 3:\n",
    "        return 'orange'\n",
    "    if cluster_id == 4:\n",
    "        return 'yellow'\n",
    " \n",
    "data[\"color\"] = data[\"cluster\"].apply(lambda x: get_color(x))"
   ]
  },
  {
   "cell_type": "code",
   "execution_count": 44,
   "id": "572ba337",
   "metadata": {},
   "outputs": [
    {
     "data": {
      "text/html": [
       "<div>\n",
       "<style scoped>\n",
       "    .dataframe tbody tr th:only-of-type {\n",
       "        vertical-align: middle;\n",
       "    }\n",
       "\n",
       "    .dataframe tbody tr th {\n",
       "        vertical-align: top;\n",
       "    }\n",
       "\n",
       "    .dataframe thead th {\n",
       "        text-align: right;\n",
       "    }\n",
       "</style>\n",
       "<table border=\"1\" class=\"dataframe\">\n",
       "  <thead>\n",
       "    <tr style=\"text-align: right;\">\n",
       "      <th></th>\n",
       "      <th>Province_State</th>\n",
       "      <th>Country_Region</th>\n",
       "      <th>Confirmed</th>\n",
       "      <th>Deaths</th>\n",
       "      <th>Latitude</th>\n",
       "      <th>Longitude</th>\n",
       "      <th>cluster</th>\n",
       "      <th>color</th>\n",
       "    </tr>\n",
       "  </thead>\n",
       "  <tbody>\n",
       "    <tr>\n",
       "      <th>0</th>\n",
       "      <td>Afghanistan</td>\n",
       "      <td>Afghanistan</td>\n",
       "      <td>19508.0</td>\n",
       "      <td>755.0</td>\n",
       "      <td>33.768006</td>\n",
       "      <td>66.238514</td>\n",
       "      <td>1</td>\n",
       "      <td>green</td>\n",
       "    </tr>\n",
       "    <tr>\n",
       "      <th>1</th>\n",
       "      <td>Albania</td>\n",
       "      <td>Albania</td>\n",
       "      <td>74588.0</td>\n",
       "      <td>1277.0</td>\n",
       "      <td>41.000028</td>\n",
       "      <td>19.999962</td>\n",
       "      <td>1</td>\n",
       "      <td>green</td>\n",
       "    </tr>\n",
       "    <tr>\n",
       "      <th>2</th>\n",
       "      <td>Algeria</td>\n",
       "      <td>Algeria</td>\n",
       "      <td>29602.0</td>\n",
       "      <td>721.0</td>\n",
       "      <td>28.000027</td>\n",
       "      <td>2.999983</td>\n",
       "      <td>1</td>\n",
       "      <td>green</td>\n",
       "    </tr>\n",
       "    <tr>\n",
       "      <th>3</th>\n",
       "      <td>Andorra</td>\n",
       "      <td>Andorra</td>\n",
       "      <td>5744.0</td>\n",
       "      <td>43.0</td>\n",
       "      <td>42.540717</td>\n",
       "      <td>1.573203</td>\n",
       "      <td>1</td>\n",
       "      <td>green</td>\n",
       "    </tr>\n",
       "    <tr>\n",
       "      <th>4</th>\n",
       "      <td>Angola</td>\n",
       "      <td>Angola</td>\n",
       "      <td>17118.0</td>\n",
       "      <td>361.0</td>\n",
       "      <td>-11.877577</td>\n",
       "      <td>17.569124</td>\n",
       "      <td>1</td>\n",
       "      <td>green</td>\n",
       "    </tr>\n",
       "  </tbody>\n",
       "</table>\n",
       "</div>"
      ],
      "text/plain": [
       "  Province_State Country_Region  Confirmed  Deaths   Latitude  Longitude  \\\n",
       "0    Afghanistan    Afghanistan    19508.0   755.0  33.768006  66.238514   \n",
       "1        Albania        Albania    74588.0  1277.0  41.000028  19.999962   \n",
       "2        Algeria        Algeria    29602.0   721.0  28.000027   2.999983   \n",
       "3        Andorra        Andorra     5744.0    43.0  42.540717   1.573203   \n",
       "4         Angola         Angola    17118.0   361.0 -11.877577  17.569124   \n",
       "\n",
       "   cluster  color  \n",
       "0        1  green  \n",
       "1        1  green  \n",
       "2        1  green  \n",
       "3        1  green  \n",
       "4        1  green  "
      ]
     },
     "execution_count": 44,
     "metadata": {},
     "output_type": "execute_result"
    }
   ],
   "source": [
    "data.head()"
   ]
  },
  {
   "cell_type": "code",
   "execution_count": 45,
   "id": "23d0a01a",
   "metadata": {},
   "outputs": [],
   "source": [
    "this_map = folium.Map(location =[data[\"Latitude\"].mean(), \n",
    " data[\"Longitude\"].mean()], zoom_start=5)\n",
    "def plot_dot(point): \n",
    " '''input: series that contains a numeric named latitude and a numeric named longitude\n",
    " this function creates a CircleMarker and adds it to your this_map'''\n",
    " folium.CircleMarker(location=[point.Latitude, point.Longitude],\n",
    " radius=2, \n",
    "color=point.color,\n",
    " weight=1).add_to(this_map)\n",
    " \n",
    " \n",
    "#clustered_full.apply(,axis=1) #use this to iterate through every row in your dataframe\n",
    "data.apply(plot_dot, axis = 1)\n",
    "#Set the zoom to the maximum possible\n",
    "this_map.fit_bounds(this_map.get_bounds())\n",
    "#Save the map to an HTML file\n",
    "this_map.save(os.path.join('covid_map_Delta_Variant.html'))"
   ]
  },
  {
   "cell_type": "markdown",
   "id": "bb4ff9fe",
   "metadata": {},
   "source": [
    "# Report"
   ]
  },
  {
   "cell_type": "markdown",
   "id": "77f2feae",
   "metadata": {},
   "source": [
    "#### Q5.Provide a brief description of the analysis and pre-processing performed and reason why these processes are required (e.g., it’s impact on the results)? Write a summary describing your understanding of the clustering results (based on the maps). Discuss whether you agree or disagree with the results achieved? Provide a evidence to support the findings. E.g., a newswebsite supporting or contrasting the clustering result."
   ]
  },
  {
   "cell_type": "markdown",
   "id": "24a5941b",
   "metadata": {},
   "source": [
    "**Agenda:** \n",
    "In this workshop, I am trying to compare two different variant's effect globally. I am analysing Omicron and Delta variants' impact on global health. Delta variant was originally detected in India in late 2020 while Omicorn variant was detected in South Africa in November 2021. According to WHO, Delta variant is the strongest variant compared to Omicron."
   ]
  },
  {
   "cell_type": "markdown",
   "id": "dc2c1ea6",
   "metadata": {},
   "source": [
    "\n",
    "#### 1. Some of the libraries used\n",
    "\n",
    "**i. Geocoders**\n",
    " - geopy is a Python library for several popular geocoding web services. It helps us to locate the coordinates(Latitude and Longitude) of addresses, cities, countries, and landmarks across the world.\n",
    " - geopy.geocoder() is used to resolve a location from a string. It returns a set of coordinate(Latitude and Longitude) values for each location. We pass Province_State values from each row and returns a coordinate values.\n",
    " \n",
    "**ii.  Progress bar using tqdm**\n",
    "This library is used to create and show a smart progress meter. We need to pass iterable to tqdm. Unique Province_State values are stored in a list named states and we are using it as an iterable. Progress bar will be indicated according to the state values. The below figure is the progress bar we created using library tqdm.\n",
    "<img src='progress-bar.jpg' width=800>\n",
    "\n",
    "**iii. Follium**\n",
    "Folium is a data visualization library and helps to visualize geospatial data. With Folium, one can create a map of any location in the world. Based on the clusters color marker are added to the map. Colors green, darkred, orange and yellow colours are assigned to cluster 1, cluster 2, cluster 3 and cluster 4 respectively. \n",
    "\n",
    "\n",
    "#### 2. Pre-processing (Data Scaling using StandardScaler)\n",
    "**Standardisation:**\n",
    "It is a scaling technique where column are rescaled so that they demonstrate the properties of a standard Gaussian distribution, i.e. mean = 0 and variance = 1. In this project we have used Scikit-learn function StandardScaler to perform standardisation. Data Scaling is a data preprocessing step for numerical features. This machine learning algorithm named K-Means algorithm requires data scaling to produce good results.\n",
    "\n",
    "<code>scaler = StandardScaler()\n",
    "X_scaled = scaler.fit(clustering_data).transform(clustering_data.astype(np.float)) </code>\n",
    "- The fit method used above is used to compute the mean and std dev for a given feature. It can be used further for scaling.\n",
    "- The transform method is used to perform scaling using mean and std dev calculated using the .fit() method.\n",
    "<code>scaler.fit(clustering_data).transform(clustering_data.astype(np.float))</code>\n",
    "\n",
    "The code above calculates the mean and std dev for a given feature(clustering_data), and performs scaling.\n",
    "\n",
    "**Reason to perform scaling:**\n",
    "\n",
    "i. Real-world datasets often contain features that are varying in degrees of magnitude, range and units. Therefore, in order for machine learning models to interpret these features on the same scale, we need to perform feature scaling.\n",
    "\n",
    "ii. Standardization of a dataset is a common requirement for many machine learning estimators. They might behave badly and provide incorrect result if the individual features are not normally distributed data.\n",
    "\n",
    "iii. If one feature has a variance(orders of magnitude) larger that others, feature with larger value might dominate the objective function and make the estimator unable to learn from other features correctly as expected.\n",
    "\n",
    "#### 3. Using Scree plot to identify number of clusters\n",
    "**Inertia:** This vallue is the sum of squared distances of samples to their closest cluster center.\n",
    "<img src='screeplot.jpg' width=500>\n",
    "\n",
    "To determine the optimal number of clusters, we have to select the value of k at the “elbow” i.e. the point after which the inertia start decreasing in a linear fashion. Thus for the above cluster, we conclude that the optimal number of clusters is 4. It indicates that our data will be grouped into 4 clusters.\n",
    "\n",
    "#### 4. K-means Clustering\n",
    "<code>kmeans = KMeans(n_clusters = 4, init = 'k-means++', random_state = 10)</code>\n",
    "\n",
    "- n_clusters : Specifies 4 clusters to form as well as 4 centroids to generate.\n",
    "- k-means++ : Specifies to select the initial cluster centers for k-mean clustering to speed up convergence.\n",
    "- random_state : Determines random number generation for centroid initialization.\n",
    "\n",
    "<code>y_kmeans = kmeans.fit_predict(X_scaled)</code>\n",
    "\n",
    "The above function **fit_predict** computes cluster centers and predict cluster index for each sample. It also returns index of the cluster each sample belongs to.\n",
    "\n",
    "\n"
   ]
  },
  {
   "cell_type": "markdown",
   "id": "44afc148",
   "metadata": {},
   "source": [
    "#### My views on the result"
   ]
  },
  {
   "cell_type": "markdown",
   "id": "482a602b",
   "metadata": {},
   "source": [
    "From the below news it shows that Delta variant of Coronavirus in US, India, Brazil, France, Russia, Turkey, UK etc have spread widely. We can also see that the India's State Maharastra has the highest number of confirmed and death cases due to delta variant. Delta variant Delta was initially detected in India late 2020, and had spread to 179 countries by 22 November 2021. First part of the workshop will see how the delta variant affected globally and in the second part we will discuss Omicron variant's effect. The below news in BBC shows the Delta variant effect globally and in India's states."
   ]
  },
  {
   "cell_type": "markdown",
   "id": "06bba325",
   "metadata": {},
   "source": [
    "![CovidMayMap](covid-may.png)"
   ]
  },
  {
   "cell_type": "markdown",
   "id": "fd87e4f9",
   "metadata": {},
   "source": [
    "<img src='covid-data-graph.png' width=800>\n"
   ]
  },
  {
   "cell_type": "markdown",
   "id": "6243a881",
   "metadata": {},
   "source": [
    "The below diagran shows Delta variant's effect.\n",
    "\n",
    "<img src='delta-effect.jpg' width=700>"
   ]
  },
  {
   "cell_type": "markdown",
   "id": "241dd5f8",
   "metadata": {},
   "source": [
    "It can be seen that India, Brazil, France, Spain, Italy and Germany with redmark. It shows that the number of confirmed and death cases were high in those countries during that time. The reason why USA is green because USA had consistent death and confirmed cases through out that period while India, and other countries had rapid rise.\n"
   ]
  },
  {
   "cell_type": "markdown",
   "id": "5c51444e",
   "metadata": {},
   "source": [
    "The below diagran shows Omicron variant's effect.\n",
    "\n",
    "<img src='omicron-effect.jpg' width=700>"
   ]
  },
  {
   "cell_type": "markdown",
   "id": "a58fc294",
   "metadata": {},
   "source": [
    "It can be seen from the above map that we have more green markers compared to yellow and red. It can be concluded that Delta variant had more severe impact globally compared to Omicron variant. Vietnam, Turkey and Germany still at high risk area. UK also has yellow mark due to high transmissibility rate."
   ]
  }
 ],
 "metadata": {
  "kernelspec": {
   "display_name": "Python 3 (ipykernel)",
   "language": "python",
   "name": "python3"
  },
  "language_info": {
   "codemirror_mode": {
    "name": "ipython",
    "version": 3
   },
   "file_extension": ".py",
   "mimetype": "text/x-python",
   "name": "python",
   "nbconvert_exporter": "python",
   "pygments_lexer": "ipython3",
   "version": "3.9.12"
  }
 },
 "nbformat": 4,
 "nbformat_minor": 5
}
