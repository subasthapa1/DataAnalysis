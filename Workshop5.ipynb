{
 "cells": [
  {
   "cell_type": "markdown",
   "id": "a81b4207",
   "metadata": {},
   "source": [
    "## Workshop 5"
   ]
  },
  {
   "cell_type": "code",
   "execution_count": 1,
   "id": "01ba635e",
   "metadata": {},
   "outputs": [],
   "source": [
    "import matplotlib.pyplot as plt; plt.rcdefaults()\n",
    "import matplotlib.pyplot as plt\n",
    "import pandas as pd\n",
    "import numpy as np\n",
    "import warnings\n",
    "warnings.filterwarnings('ignore')\n",
    "import tqdm\n",
    "import random"
   ]
  },
  {
   "cell_type": "code",
   "execution_count": 2,
   "id": "c1babb1d",
   "metadata": {},
   "outputs": [],
   "source": [
    "df = pd.read_csv('Workshop-05-dataset.zip', sep='\\t',dtype=np.str, \n",
    "                 low_memory=True)"
   ]
  },
  {
   "cell_type": "markdown",
   "id": "f9827e40",
   "metadata": {},
   "source": [
    "#### Q1. Display the first five rows of the dataset."
   ]
  },
  {
   "cell_type": "code",
   "execution_count": 3,
   "id": "9e7b16e9",
   "metadata": {},
   "outputs": [
    {
     "data": {
      "text/html": [
       "<div>\n",
       "<style scoped>\n",
       "    .dataframe tbody tr th:only-of-type {\n",
       "        vertical-align: middle;\n",
       "    }\n",
       "\n",
       "    .dataframe tbody tr th {\n",
       "        vertical-align: top;\n",
       "    }\n",
       "\n",
       "    .dataframe thead th {\n",
       "        text-align: right;\n",
       "    }\n",
       "</style>\n",
       "<table border=\"1\" class=\"dataframe\">\n",
       "  <thead>\n",
       "    <tr style=\"text-align: right;\">\n",
       "      <th></th>\n",
       "      <th>transaction_ID</th>\n",
       "      <th>Date</th>\n",
       "      <th>Time</th>\n",
       "      <th>item_0</th>\n",
       "      <th>item_1</th>\n",
       "      <th>item_2</th>\n",
       "      <th>item_3</th>\n",
       "      <th>item_4</th>\n",
       "      <th>item_5</th>\n",
       "      <th>item_6</th>\n",
       "      <th>...</th>\n",
       "      <th>item_31</th>\n",
       "      <th>item_32</th>\n",
       "      <th>item_33</th>\n",
       "      <th>item_34</th>\n",
       "      <th>item_35</th>\n",
       "      <th>item_36</th>\n",
       "      <th>item_37</th>\n",
       "      <th>item_38</th>\n",
       "      <th>item_39</th>\n",
       "      <th>item_40</th>\n",
       "    </tr>\n",
       "  </thead>\n",
       "  <tbody>\n",
       "    <tr>\n",
       "      <th>0</th>\n",
       "      <td>536365</td>\n",
       "      <td>01/12/2010</td>\n",
       "      <td>08:26</td>\n",
       "      <td>WHITE HANGING HEART T-LIGHT HOLDER</td>\n",
       "      <td>WHITE METAL LANTERN</td>\n",
       "      <td>CREAM CUPID HEARTS COAT HANGER</td>\n",
       "      <td>KNITTED UNION FLAG HOT WATER BOTTLE</td>\n",
       "      <td>RED WOOLLY HOTTIE WHITE HEART</td>\n",
       "      <td>SET 7 BABUSHKA NESTING BOXES</td>\n",
       "      <td>GLASS STAR FROSTED T-LIGHT HOLDER</td>\n",
       "      <td>...</td>\n",
       "      <td>NaN</td>\n",
       "      <td>NaN</td>\n",
       "      <td>NaN</td>\n",
       "      <td>NaN</td>\n",
       "      <td>NaN</td>\n",
       "      <td>NaN</td>\n",
       "      <td>NaN</td>\n",
       "      <td>NaN</td>\n",
       "      <td>NaN</td>\n",
       "      <td>NaN</td>\n",
       "    </tr>\n",
       "    <tr>\n",
       "      <th>1</th>\n",
       "      <td>536366</td>\n",
       "      <td>01/12/2010</td>\n",
       "      <td>08:28</td>\n",
       "      <td>HAND WARMER UNION JACK</td>\n",
       "      <td>HAND WARMER RED POLKA DOT</td>\n",
       "      <td>NaN</td>\n",
       "      <td>NaN</td>\n",
       "      <td>NaN</td>\n",
       "      <td>NaN</td>\n",
       "      <td>NaN</td>\n",
       "      <td>...</td>\n",
       "      <td>NaN</td>\n",
       "      <td>NaN</td>\n",
       "      <td>NaN</td>\n",
       "      <td>NaN</td>\n",
       "      <td>NaN</td>\n",
       "      <td>NaN</td>\n",
       "      <td>NaN</td>\n",
       "      <td>NaN</td>\n",
       "      <td>NaN</td>\n",
       "      <td>NaN</td>\n",
       "    </tr>\n",
       "    <tr>\n",
       "      <th>2</th>\n",
       "      <td>536367</td>\n",
       "      <td>01/12/2010</td>\n",
       "      <td>08:34</td>\n",
       "      <td>ASSORTED COLOUR BIRD ORNAMENT</td>\n",
       "      <td>POPPY'S PLAYHOUSE BEDROOM</td>\n",
       "      <td>POPPY'S PLAYHOUSE KITCHEN</td>\n",
       "      <td>FELTCRAFT PRINCESS CHARLOTTE DOLL</td>\n",
       "      <td>IVORY KNITTED MUG COSY</td>\n",
       "      <td>BOX OF 6 ASSORTED COLOUR TEASPOONS</td>\n",
       "      <td>BOX OF VINTAGE JIGSAW BLOCKS</td>\n",
       "      <td>...</td>\n",
       "      <td>NaN</td>\n",
       "      <td>NaN</td>\n",
       "      <td>NaN</td>\n",
       "      <td>NaN</td>\n",
       "      <td>NaN</td>\n",
       "      <td>NaN</td>\n",
       "      <td>NaN</td>\n",
       "      <td>NaN</td>\n",
       "      <td>NaN</td>\n",
       "      <td>NaN</td>\n",
       "    </tr>\n",
       "    <tr>\n",
       "      <th>3</th>\n",
       "      <td>536368</td>\n",
       "      <td>01/12/2010</td>\n",
       "      <td>08:34</td>\n",
       "      <td>JAM MAKING SET WITH JARS</td>\n",
       "      <td>RED COAT RACK PARIS FASHION</td>\n",
       "      <td>YELLOW COAT RACK PARIS FASHION</td>\n",
       "      <td>BLUE COAT RACK PARIS FASHION</td>\n",
       "      <td>NaN</td>\n",
       "      <td>NaN</td>\n",
       "      <td>NaN</td>\n",
       "      <td>...</td>\n",
       "      <td>NaN</td>\n",
       "      <td>NaN</td>\n",
       "      <td>NaN</td>\n",
       "      <td>NaN</td>\n",
       "      <td>NaN</td>\n",
       "      <td>NaN</td>\n",
       "      <td>NaN</td>\n",
       "      <td>NaN</td>\n",
       "      <td>NaN</td>\n",
       "      <td>NaN</td>\n",
       "    </tr>\n",
       "    <tr>\n",
       "      <th>4</th>\n",
       "      <td>536369</td>\n",
       "      <td>01/12/2010</td>\n",
       "      <td>08:35</td>\n",
       "      <td>BATH BUILDING BLOCK WORD</td>\n",
       "      <td>NaN</td>\n",
       "      <td>NaN</td>\n",
       "      <td>NaN</td>\n",
       "      <td>NaN</td>\n",
       "      <td>NaN</td>\n",
       "      <td>NaN</td>\n",
       "      <td>...</td>\n",
       "      <td>NaN</td>\n",
       "      <td>NaN</td>\n",
       "      <td>NaN</td>\n",
       "      <td>NaN</td>\n",
       "      <td>NaN</td>\n",
       "      <td>NaN</td>\n",
       "      <td>NaN</td>\n",
       "      <td>NaN</td>\n",
       "      <td>NaN</td>\n",
       "      <td>NaN</td>\n",
       "    </tr>\n",
       "  </tbody>\n",
       "</table>\n",
       "<p>5 rows × 44 columns</p>\n",
       "</div>"
      ],
      "text/plain": [
       "  transaction_ID        Date   Time                              item_0  \\\n",
       "0         536365  01/12/2010  08:26  WHITE HANGING HEART T-LIGHT HOLDER   \n",
       "1         536366  01/12/2010  08:28              HAND WARMER UNION JACK   \n",
       "2         536367  01/12/2010  08:34       ASSORTED COLOUR BIRD ORNAMENT   \n",
       "3         536368  01/12/2010  08:34            JAM MAKING SET WITH JARS   \n",
       "4         536369  01/12/2010  08:35            BATH BUILDING BLOCK WORD   \n",
       "\n",
       "                        item_1                          item_2  \\\n",
       "0          WHITE METAL LANTERN  CREAM CUPID HEARTS COAT HANGER   \n",
       "1    HAND WARMER RED POLKA DOT                             NaN   \n",
       "2    POPPY'S PLAYHOUSE BEDROOM       POPPY'S PLAYHOUSE KITCHEN   \n",
       "3  RED COAT RACK PARIS FASHION  YELLOW COAT RACK PARIS FASHION   \n",
       "4                          NaN                             NaN   \n",
       "\n",
       "                                item_3                         item_4  \\\n",
       "0  KNITTED UNION FLAG HOT WATER BOTTLE  RED WOOLLY HOTTIE WHITE HEART   \n",
       "1                                  NaN                            NaN   \n",
       "2    FELTCRAFT PRINCESS CHARLOTTE DOLL         IVORY KNITTED MUG COSY   \n",
       "3         BLUE COAT RACK PARIS FASHION                            NaN   \n",
       "4                                  NaN                            NaN   \n",
       "\n",
       "                               item_5                             item_6  ...  \\\n",
       "0        SET 7 BABUSHKA NESTING BOXES  GLASS STAR FROSTED T-LIGHT HOLDER  ...   \n",
       "1                                 NaN                                NaN  ...   \n",
       "2  BOX OF 6 ASSORTED COLOUR TEASPOONS       BOX OF VINTAGE JIGSAW BLOCKS  ...   \n",
       "3                                 NaN                                NaN  ...   \n",
       "4                                 NaN                                NaN  ...   \n",
       "\n",
       "  item_31 item_32 item_33 item_34 item_35 item_36 item_37 item_38 item_39  \\\n",
       "0     NaN     NaN     NaN     NaN     NaN     NaN     NaN     NaN     NaN   \n",
       "1     NaN     NaN     NaN     NaN     NaN     NaN     NaN     NaN     NaN   \n",
       "2     NaN     NaN     NaN     NaN     NaN     NaN     NaN     NaN     NaN   \n",
       "3     NaN     NaN     NaN     NaN     NaN     NaN     NaN     NaN     NaN   \n",
       "4     NaN     NaN     NaN     NaN     NaN     NaN     NaN     NaN     NaN   \n",
       "\n",
       "  item_40  \n",
       "0     NaN  \n",
       "1     NaN  \n",
       "2     NaN  \n",
       "3     NaN  \n",
       "4     NaN  \n",
       "\n",
       "[5 rows x 44 columns]"
      ]
     },
     "execution_count": 3,
     "metadata": {},
     "output_type": "execute_result"
    }
   ],
   "source": [
    "df.head(5)"
   ]
  },
  {
   "cell_type": "markdown",
   "id": "0801a07f",
   "metadata": {},
   "source": [
    "#### Q2. How many rows and columns are there in the dataset?"
   ]
  },
  {
   "cell_type": "code",
   "execution_count": 4,
   "id": "12d0942e",
   "metadata": {},
   "outputs": [
    {
     "data": {
      "text/plain": [
       "(31941, 44)"
      ]
     },
     "execution_count": 4,
     "metadata": {},
     "output_type": "execute_result"
    }
   ],
   "source": [
    "df.shape"
   ]
  },
  {
   "cell_type": "markdown",
   "id": "5fb98dd5",
   "metadata": {},
   "source": [
    "The dataset has 31941 rows and 44 columns."
   ]
  },
  {
   "cell_type": "code",
   "execution_count": 5,
   "id": "6b4cc44f",
   "metadata": {},
   "outputs": [],
   "source": [
    "STUDENT_NAME = 'SubasThapa'\n",
    "STUDENT_NO = '8468'"
   ]
  },
  {
   "cell_type": "code",
   "execution_count": 6,
   "id": "bdcc20d0",
   "metadata": {},
   "outputs": [],
   "source": [
    "np.random.seed(int(STUDENT_NO))\n",
    "unique_id = int('2' + STUDENT_NO)\n",
    "rows = np.random.choice(df.index.values, unique_id)\n",
    "data = df.loc[rows]"
   ]
  },
  {
   "cell_type": "code",
   "execution_count": 7,
   "id": "4444b67b",
   "metadata": {},
   "outputs": [],
   "source": [
    "file_name = STUDENT_NAME + \"_\" + STUDENT_NO + \".csv\"\n",
    "data.to_csv(file_name, chunksize=10000)"
   ]
  },
  {
   "cell_type": "markdown",
   "id": "9e3e25ad",
   "metadata": {},
   "source": [
    "#### Q3. How many unique dates are there in the dataset? HINT: You can use the .nunique() function available inPandas."
   ]
  },
  {
   "cell_type": "code",
   "execution_count": 8,
   "id": "9167c1c0",
   "metadata": {},
   "outputs": [
    {
     "data": {
      "text/plain": [
       "305"
      ]
     },
     "execution_count": 8,
     "metadata": {},
     "output_type": "execute_result"
    }
   ],
   "source": [
    "df['Date'].nunique()"
   ]
  },
  {
   "cell_type": "code",
   "execution_count": 9,
   "id": "c88dc50f",
   "metadata": {},
   "outputs": [],
   "source": [
    "data['Hour'] = pd.to_datetime(data['Time'], format='%H:%M').dt.hour"
   ]
  },
  {
   "cell_type": "code",
   "execution_count": 10,
   "id": "4df79895",
   "metadata": {},
   "outputs": [
    {
     "data": {
      "image/png": "[encoded data removed]",
      "text/plain": [
       "<Figure size 640x480 with 1 Axes>"
      ]
     },
     "metadata": {},
     "output_type": "display_data"
    }
   ],
   "source": [
    "hour_hist = data.hist(column=\"Hour\", bins=15, grid=False)\n",
    "\n",
    "for ax in hour_hist.flatten():\n",
    "    ax.set_xlabel(\"Hour\")\n",
    "    ax.set_ylabel(\"Frequency\")"
   ]
  },
  {
   "cell_type": "markdown",
   "id": "2e81908d",
   "metadata": {},
   "source": [
    "## Apyori Algorithm"
   ]
  },
  {
   "cell_type": "code",
   "execution_count": 11,
   "id": "b2038b6a",
   "metadata": {},
   "outputs": [],
   "source": [
    "#importing apyori\n",
    "from apyori import apriori"
   ]
  },
  {
   "cell_type": "markdown",
   "id": "adf262ed",
   "metadata": {},
   "source": [
    "**Excluding first 3 columnsand copying data to new dataframe named 'items_df'**"
   ]
  },
  {
   "cell_type": "code",
   "execution_count": 12,
   "id": "2c669493",
   "metadata": {},
   "outputs": [],
   "source": [
    "items_df=data[data.columns[3:44]]"
   ]
  },
  {
   "cell_type": "markdown",
   "id": "86a10232",
   "metadata": {},
   "source": [
    "**Displaying first 5 rows to see if new dataframe contains the item columns that we needed.**"
   ]
  },
  {
   "cell_type": "code",
   "execution_count": 13,
   "id": "02aa9a27",
   "metadata": {},
   "outputs": [
    {
     "data": {
      "text/html": [
       "<div>\n",
       "<style scoped>\n",
       "    .dataframe tbody tr th:only-of-type {\n",
       "        vertical-align: middle;\n",
       "    }\n",
       "\n",
       "    .dataframe tbody tr th {\n",
       "        vertical-align: top;\n",
       "    }\n",
       "\n",
       "    .dataframe thead th {\n",
       "        text-align: right;\n",
       "    }\n",
       "</style>\n",
       "<table border=\"1\" class=\"dataframe\">\n",
       "  <thead>\n",
       "    <tr style=\"text-align: right;\">\n",
       "      <th></th>\n",
       "      <th>item_0</th>\n",
       "      <th>item_1</th>\n",
       "      <th>item_2</th>\n",
       "      <th>item_3</th>\n",
       "      <th>item_4</th>\n",
       "      <th>item_5</th>\n",
       "      <th>item_6</th>\n",
       "      <th>item_7</th>\n",
       "      <th>item_8</th>\n",
       "      <th>item_9</th>\n",
       "      <th>...</th>\n",
       "      <th>item_31</th>\n",
       "      <th>item_32</th>\n",
       "      <th>item_33</th>\n",
       "      <th>item_34</th>\n",
       "      <th>item_35</th>\n",
       "      <th>item_36</th>\n",
       "      <th>item_37</th>\n",
       "      <th>item_38</th>\n",
       "      <th>item_39</th>\n",
       "      <th>item_40</th>\n",
       "    </tr>\n",
       "  </thead>\n",
       "  <tbody>\n",
       "    <tr>\n",
       "      <th>30257</th>\n",
       "      <td>CLASSIC GLASS COOKIE JAR</td>\n",
       "      <td>NaN</td>\n",
       "      <td>NaN</td>\n",
       "      <td>NaN</td>\n",
       "      <td>NaN</td>\n",
       "      <td>NaN</td>\n",
       "      <td>NaN</td>\n",
       "      <td>NaN</td>\n",
       "      <td>NaN</td>\n",
       "      <td>NaN</td>\n",
       "      <td>...</td>\n",
       "      <td>NaN</td>\n",
       "      <td>NaN</td>\n",
       "      <td>NaN</td>\n",
       "      <td>NaN</td>\n",
       "      <td>NaN</td>\n",
       "      <td>NaN</td>\n",
       "      <td>NaN</td>\n",
       "      <td>NaN</td>\n",
       "      <td>NaN</td>\n",
       "      <td>NaN</td>\n",
       "    </tr>\n",
       "    <tr>\n",
       "      <th>25793</th>\n",
       "      <td>CHRISTMAS METAL POSTCARD WITH BELLS</td>\n",
       "      <td>ROLL WRAP VINTAGE CHRISTMAS</td>\n",
       "      <td>BOTANICAL GARDENS WALL CLOCK</td>\n",
       "      <td>VINTAGE CHRISTMAS STOCKING</td>\n",
       "      <td>CARD MOTORBIKE SANTA</td>\n",
       "      <td>CARD CHRISTMAS VILLAGE</td>\n",
       "      <td>ASSORTED COLOUR BIRD ORNAMENT</td>\n",
       "      <td>CLASSIC METAL BIRDCAGE PLANT HOLDER</td>\n",
       "      <td>CHARLOTTE BAG SUKI DESIGN</td>\n",
       "      <td>RED RETROSPOT SHOPPER BAG</td>\n",
       "      <td>...</td>\n",
       "      <td>NaN</td>\n",
       "      <td>NaN</td>\n",
       "      <td>NaN</td>\n",
       "      <td>NaN</td>\n",
       "      <td>NaN</td>\n",
       "      <td>NaN</td>\n",
       "      <td>NaN</td>\n",
       "      <td>NaN</td>\n",
       "      <td>NaN</td>\n",
       "      <td>NaN</td>\n",
       "    </tr>\n",
       "    <tr>\n",
       "      <th>9955</th>\n",
       "      <td>SET/3 POT PLANT CANDLES</td>\n",
       "      <td>12 PENCILS SMALL TUBE SKULL</td>\n",
       "      <td>12 PENCILS SMALL TUBE RED RETROSPOT</td>\n",
       "      <td>ROSE DU SUD CUSHION COVER</td>\n",
       "      <td>JUMBO BAG CHARLIE AND LOLA TOYS</td>\n",
       "      <td>SET/6 COLLAGE PAPER CUPS</td>\n",
       "      <td>SET/6 FRUIT SALAD PAPER CUPS</td>\n",
       "      <td>SET/6 COLLAGE PAPER PLATES</td>\n",
       "      <td>SET/6 RED SPOTTY PAPER PLATES</td>\n",
       "      <td>SWISS ROLL TOWEL PINK  SPOTS</td>\n",
       "      <td>...</td>\n",
       "      <td>GLITTER HEART GARLAND WITH BELLS</td>\n",
       "      <td>DINOSAUR KEYRINGS ASSORTED</td>\n",
       "      <td>BINGO SET</td>\n",
       "      <td>MORE BUTTER METAL SIGN</td>\n",
       "      <td>JUMBO BAG SCANDINAVIAN BLUE PAISLEY</td>\n",
       "      <td>RED RETROSPOT PICNIC BAG</td>\n",
       "      <td>PACK OF 60 PINK PAISLEY CAKE CASES</td>\n",
       "      <td>PACK OF 12 WOODLAND TISSUES</td>\n",
       "      <td>BOHEMIAN COLLAGE STATIONERY SET</td>\n",
       "      <td>VINTAGE PAISLEY STATIONERY SET</td>\n",
       "    </tr>\n",
       "    <tr>\n",
       "      <th>24334</th>\n",
       "      <td>JUMBO BAG RED RETROSPOT</td>\n",
       "      <td>JUMBO BAG APPLES</td>\n",
       "      <td>JUMBO BAG STRAWBERRY</td>\n",
       "      <td>JUMBO BAG PINK POLKADOT</td>\n",
       "      <td>JUMBO BAG ALPHABET</td>\n",
       "      <td>JUMBO BAG SPACEBOY DESIGN</td>\n",
       "      <td>NaN</td>\n",
       "      <td>NaN</td>\n",
       "      <td>NaN</td>\n",
       "      <td>NaN</td>\n",
       "      <td>...</td>\n",
       "      <td>NaN</td>\n",
       "      <td>NaN</td>\n",
       "      <td>NaN</td>\n",
       "      <td>NaN</td>\n",
       "      <td>NaN</td>\n",
       "      <td>NaN</td>\n",
       "      <td>NaN</td>\n",
       "      <td>NaN</td>\n",
       "      <td>NaN</td>\n",
       "      <td>NaN</td>\n",
       "    </tr>\n",
       "    <tr>\n",
       "      <th>14251</th>\n",
       "      <td>NaN</td>\n",
       "      <td>NaN</td>\n",
       "      <td>NaN</td>\n",
       "      <td>NaN</td>\n",
       "      <td>NaN</td>\n",
       "      <td>NaN</td>\n",
       "      <td>NaN</td>\n",
       "      <td>NaN</td>\n",
       "      <td>NaN</td>\n",
       "      <td>NaN</td>\n",
       "      <td>...</td>\n",
       "      <td>NaN</td>\n",
       "      <td>NaN</td>\n",
       "      <td>NaN</td>\n",
       "      <td>NaN</td>\n",
       "      <td>NaN</td>\n",
       "      <td>NaN</td>\n",
       "      <td>NaN</td>\n",
       "      <td>NaN</td>\n",
       "      <td>NaN</td>\n",
       "      <td>NaN</td>\n",
       "    </tr>\n",
       "  </tbody>\n",
       "</table>\n",
       "<p>5 rows × 41 columns</p>\n",
       "</div>"
      ],
      "text/plain": [
       "                                    item_0                       item_1  \\\n",
       "30257             CLASSIC GLASS COOKIE JAR                          NaN   \n",
       "25793  CHRISTMAS METAL POSTCARD WITH BELLS  ROLL WRAP VINTAGE CHRISTMAS   \n",
       "9955               SET/3 POT PLANT CANDLES  12 PENCILS SMALL TUBE SKULL   \n",
       "24334              JUMBO BAG RED RETROSPOT             JUMBO BAG APPLES   \n",
       "14251                                  NaN                          NaN   \n",
       "\n",
       "                                    item_2                      item_3  \\\n",
       "30257                                  NaN                         NaN   \n",
       "25793         BOTANICAL GARDENS WALL CLOCK  VINTAGE CHRISTMAS STOCKING   \n",
       "9955   12 PENCILS SMALL TUBE RED RETROSPOT   ROSE DU SUD CUSHION COVER   \n",
       "24334                 JUMBO BAG STRAWBERRY     JUMBO BAG PINK POLKADOT   \n",
       "14251                                  NaN                         NaN   \n",
       "\n",
       "                                item_4                     item_5  \\\n",
       "30257                              NaN                        NaN   \n",
       "25793             CARD MOTORBIKE SANTA     CARD CHRISTMAS VILLAGE   \n",
       "9955   JUMBO BAG CHARLIE AND LOLA TOYS   SET/6 COLLAGE PAPER CUPS   \n",
       "24334               JUMBO BAG ALPHABET  JUMBO BAG SPACEBOY DESIGN   \n",
       "14251                              NaN                        NaN   \n",
       "\n",
       "                              item_6                               item_7  \\\n",
       "30257                            NaN                                  NaN   \n",
       "25793  ASSORTED COLOUR BIRD ORNAMENT  CLASSIC METAL BIRDCAGE PLANT HOLDER   \n",
       "9955    SET/6 FRUIT SALAD PAPER CUPS           SET/6 COLLAGE PAPER PLATES   \n",
       "24334                            NaN                                  NaN   \n",
       "14251                            NaN                                  NaN   \n",
       "\n",
       "                              item_8                        item_9  ...  \\\n",
       "30257                            NaN                           NaN  ...   \n",
       "25793      CHARLOTTE BAG SUKI DESIGN     RED RETROSPOT SHOPPER BAG  ...   \n",
       "9955   SET/6 RED SPOTTY PAPER PLATES  SWISS ROLL TOWEL PINK  SPOTS  ...   \n",
       "24334                            NaN                           NaN  ...   \n",
       "14251                            NaN                           NaN  ...   \n",
       "\n",
       "                                item_31                     item_32  \\\n",
       "30257                               NaN                         NaN   \n",
       "25793                               NaN                         NaN   \n",
       "9955   GLITTER HEART GARLAND WITH BELLS  DINOSAUR KEYRINGS ASSORTED   \n",
       "24334                               NaN                         NaN   \n",
       "14251                               NaN                         NaN   \n",
       "\n",
       "         item_33                 item_34                              item_35  \\\n",
       "30257        NaN                     NaN                                  NaN   \n",
       "25793        NaN                     NaN                                  NaN   \n",
       "9955   BINGO SET  MORE BUTTER METAL SIGN  JUMBO BAG SCANDINAVIAN BLUE PAISLEY   \n",
       "24334        NaN                     NaN                                  NaN   \n",
       "14251        NaN                     NaN                                  NaN   \n",
       "\n",
       "                        item_36                             item_37  \\\n",
       "30257                       NaN                                 NaN   \n",
       "25793                       NaN                                 NaN   \n",
       "9955   RED RETROSPOT PICNIC BAG  PACK OF 60 PINK PAISLEY CAKE CASES   \n",
       "24334                       NaN                                 NaN   \n",
       "14251                       NaN                                 NaN   \n",
       "\n",
       "                           item_38                          item_39  \\\n",
       "30257                          NaN                              NaN   \n",
       "25793                          NaN                              NaN   \n",
       "9955   PACK OF 12 WOODLAND TISSUES  BOHEMIAN COLLAGE STATIONERY SET   \n",
       "24334                          NaN                              NaN   \n",
       "14251                          NaN                              NaN   \n",
       "\n",
       "                              item_40  \n",
       "30257                             NaN  \n",
       "25793                             NaN  \n",
       "9955   VINTAGE PAISLEY STATIONERY SET  \n",
       "24334                             NaN  \n",
       "14251                             NaN  \n",
       "\n",
       "[5 rows x 41 columns]"
      ]
     },
     "execution_count": 13,
     "metadata": {},
     "output_type": "execute_result"
    }
   ],
   "source": [
    "items_df.head()"
   ]
  },
  {
   "cell_type": "markdown",
   "id": "04cffbb2",
   "metadata": {},
   "source": [
    "**Dropping null values from the above dataframe if there are any null values present in the row.**"
   ]
  },
  {
   "cell_type": "code",
   "execution_count": 14,
   "id": "3756415a",
   "metadata": {},
   "outputs": [],
   "source": [
    "baskets = items_df.T.apply(lambda x: x.dropna().tolist()).tolist()"
   ]
  },
  {
   "cell_type": "code",
   "execution_count": 15,
   "id": "ae84e193",
   "metadata": {},
   "outputs": [
    {
     "name": "stdout",
     "output_type": "stream",
     "text": [
      "28468\n"
     ]
    }
   ],
   "source": [
    "print(len(baskets))"
   ]
  },
  {
   "cell_type": "markdown",
   "id": "9558d572",
   "metadata": {},
   "source": [
    "Checking length of the dataframe after dropping null values in the above row. Original length of a dataframe with null values was 31941. So we can see that null values were dropped."
   ]
  },
  {
   "cell_type": "markdown",
   "id": "1bac68a5",
   "metadata": {},
   "source": [
    "Printing first five transaction items."
   ]
  },
  {
   "cell_type": "code",
   "execution_count": 16,
   "id": "1ff5a602",
   "metadata": {},
   "outputs": [
    {
     "name": "stdout",
     "output_type": "stream",
     "text": [
      "['CLASSIC GLASS COOKIE JAR']\n",
      "['CHRISTMAS METAL POSTCARD WITH BELLS', 'ROLL WRAP VINTAGE CHRISTMAS', 'BOTANICAL GARDENS WALL CLOCK', 'VINTAGE CHRISTMAS STOCKING', 'CARD MOTORBIKE SANTA', 'CARD CHRISTMAS VILLAGE', 'ASSORTED COLOUR BIRD ORNAMENT', 'CLASSIC METAL BIRDCAGE PLANT HOLDER', 'CHARLOTTE BAG SUKI DESIGN', 'RED RETROSPOT SHOPPER BAG', 'SEWING SUSAN 21 NEEDLE SET', 'DIAMANTE RING ASSORTED IN BOX', 'SET 12 COLOUR PENCILS DOLLY GIRL', '12 PENCILS SMALL TUBE SKULL', 'SET OF 10 LED DOLLY LIGHTS', 'WALL ART STOP FOR TEA', 'SET 12 KIDS COLOUR  CHALK STICKS', 'VINTAGE DOILY TRAVEL SEWING KIT', 'BAKING SET 9 PIECE RETROSPOT', 'WORLD WAR 2 GLIDERS ASSTD DESIGNS', 'BAKING SET SPACEBOY DESIGN']\n",
      "['SET/3 POT PLANT CANDLES', '12 PENCILS SMALL TUBE SKULL', '12 PENCILS SMALL TUBE RED RETROSPOT', 'ROSE DU SUD CUSHION COVER', 'JUMBO BAG CHARLIE AND LOLA TOYS', 'SET/6 COLLAGE PAPER CUPS', 'SET/6 FRUIT SALAD PAPER CUPS', 'SET/6 COLLAGE PAPER PLATES', 'SET/6 RED SPOTTY PAPER PLATES', 'SWISS ROLL TOWEL PINK  SPOTS', 'NO JUNK MAIL METAL SIGN', 'LARGE WHITE HONEYCOMB PAPER BELL', 'PACK OF 72 RETROSPOT CAKE CASES', 'SET/4 SKULL BADGES', 'PACK OF 12 STICKY BUNNIES', 'IVORY HANGING DECORATION  HEART', 'FRENCH LAVENDER SCENT HEART', 'SET/3 RED GINGHAM ROSE STORAGE BOX', 'PAINTED PINK RABBIT', 'PAINTED YELLOW WOODEN DAISY', 'ASSORTED TUTTI FRUTTI  FOB NOTEBOOK', 'RIDGED GLASS POSY VASE', 'WOODLAND  STICKERS', 'BAG 250g SWIRLY MARBLES', 'CITRONELLA CANDLE GARDEN POT', 'BOYS VINTAGE TIN SEASIDE BUCKET', 'SWEETIES  STICKERS', 'RED TOADSTOOL LED NIGHT LIGHT', 'DECORATIVE ROSE BATHROOM BOTTLE', 'DECORATIVE CATS BATHROOM BOTTLE', 'RAIN PONCHO RETROSPOT', 'GLITTER HEART GARLAND WITH BELLS', 'DINOSAUR KEYRINGS ASSORTED', 'BINGO SET', 'MORE BUTTER METAL SIGN', 'JUMBO BAG SCANDINAVIAN BLUE PAISLEY', 'RED RETROSPOT PICNIC BAG', 'PACK OF 60 PINK PAISLEY CAKE CASES', 'PACK OF 12 WOODLAND TISSUES', 'BOHEMIAN COLLAGE STATIONERY SET', 'VINTAGE PAISLEY STATIONERY SET']\n",
      "['JUMBO BAG RED RETROSPOT', 'JUMBO BAG APPLES', 'JUMBO BAG STRAWBERRY', 'JUMBO BAG PINK POLKADOT', 'JUMBO BAG ALPHABET', 'JUMBO BAG SPACEBOY DESIGN']\n",
      "[]\n"
     ]
    }
   ],
   "source": [
    "for i in baskets[:5]:\n",
    "    print(i)"
   ]
  },
  {
   "cell_type": "markdown",
   "id": "d641ff69",
   "metadata": {},
   "source": [
    "**Creating association rules for the given set of values.**"
   ]
  },
  {
   "cell_type": "code",
   "execution_count": 17,
   "id": "502b367f",
   "metadata": {},
   "outputs": [],
   "source": [
    "association_rules = apriori(baskets, min_support=0.01, min_confidence=0.2, \n",
    " min_lift=3, min_length=2)\n",
    "association_results = list(association_rules)"
   ]
  },
  {
   "cell_type": "markdown",
   "id": "8e75c2a9",
   "metadata": {},
   "source": [
    "**Checking number of generated rules.**"
   ]
  },
  {
   "cell_type": "code",
   "execution_count": 18,
   "id": "b196d0a0",
   "metadata": {},
   "outputs": [
    {
     "name": "stdout",
     "output_type": "stream",
     "text": [
      "Rules generated:  86\n"
     ]
    }
   ],
   "source": [
    "print('Rules generated: ', len(association_results))"
   ]
  },
  {
   "cell_type": "markdown",
   "id": "2f1f4ae3",
   "metadata": {},
   "source": [
    "**Printing first association rule.**"
   ]
  },
  {
   "cell_type": "code",
   "execution_count": 19,
   "id": "b813c73a",
   "metadata": {},
   "outputs": [
    {
     "name": "stdout",
     "output_type": "stream",
     "text": [
      "RelationRecord(items=frozenset({'ALARM CLOCK BAKELIKE PINK', 'ALARM CLOCK BAKELIKE GREEN'}), support=0.012153997470844457, ordered_statistics=[OrderedStatistic(items_base=frozenset({'ALARM CLOCK BAKELIKE GREEN'}), items_add=frozenset({'ALARM CLOCK BAKELIKE PINK'}), confidence=0.40279394644935973, lift=16.715361614461187), OrderedStatistic(items_base=frozenset({'ALARM CLOCK BAKELIKE PINK'}), items_add=frozenset({'ALARM CLOCK BAKELIKE GREEN'}), confidence=0.5043731778425656, lift=16.715361614461184)])\n"
     ]
    }
   ],
   "source": [
    "print(association_results[0])"
   ]
  },
  {
   "cell_type": "code",
   "execution_count": 20,
   "id": "cd45076e",
   "metadata": {},
   "outputs": [
    {
     "name": "stdout",
     "output_type": "stream",
     "text": [
      "RelationRecord(items=frozenset({'ALARM CLOCK BAKELIKE GREEN', 'ALARM CLOCK BAKELIKE RED'}), support=0.01872277645075172, ordered_statistics=[OrderedStatistic(items_base=frozenset({'ALARM CLOCK BAKELIKE GREEN'}), items_add=frozenset({'ALARM CLOCK BAKELIKE RED'}), confidence=0.6204889406286379, lift=19.539910577230156), OrderedStatistic(items_base=frozenset({'ALARM CLOCK BAKELIKE RED'}), items_add=frozenset({'ALARM CLOCK BAKELIKE GREEN'}), confidence=0.5896017699115044, lift=19.53991057723016)])\n"
     ]
    }
   ],
   "source": [
    "print(association_results[1])"
   ]
  },
  {
   "cell_type": "markdown",
   "id": "6a1037f1",
   "metadata": {},
   "source": [
    "### Analysing the Results\n"
   ]
  },
  {
   "cell_type": "code",
   "execution_count": 21,
   "id": "6a9e9b1d",
   "metadata": {},
   "outputs": [],
   "source": [
    "def display_rules(association_results):\n",
    "    for item in association_results:\n",
    "        pair = item[0] \n",
    "        items = [x for x in pair]\n",
    "        print(\"Rule: \" + items[0] + \" -> \" + items[1])\n",
    "        print(\"Support: \" + str(item[1]))\n",
    "        print(\"Confidence: \" + str(item[2][0][2]))\n",
    "        print(\"Lift: \" + str(item[2][0][3]))\n",
    "        print(\"=====================================\")\n"
   ]
  },
  {
   "cell_type": "code",
   "execution_count": 22,
   "id": "341fe267",
   "metadata": {
    "scrolled": true
   },
   "outputs": [
    {
     "name": "stdout",
     "output_type": "stream",
     "text": [
      "Rule: ALARM CLOCK BAKELIKE PINK -> ALARM CLOCK BAKELIKE GREEN\n",
      "Support: 0.012153997470844457\n",
      "Confidence: 0.40279394644935973\n",
      "Lift: 16.715361614461187\n",
      "=====================================\n",
      "Rule: ALARM CLOCK BAKELIKE GREEN -> ALARM CLOCK BAKELIKE RED\n",
      "Support: 0.01872277645075172\n",
      "Confidence: 0.6204889406286379\n",
      "Lift: 19.539910577230156\n",
      "=====================================\n",
      "Rule: ALARM CLOCK BAKELIKE RED -> ALARM CLOCK BAKELIKE IVORY\n",
      "Support: 0.010222003653224673\n",
      "Confidence: 0.6139240506329114\n",
      "Lift: 19.333174638736416\n",
      "=====================================\n",
      "Rule: ALARM CLOCK BAKELIKE PINK -> ALARM CLOCK BAKELIKE RED\n",
      "Support: 0.012716032035970212\n",
      "Confidence: 0.5276967930029155\n",
      "Lift: 16.617779096467917\n",
      "=====================================\n",
      "Rule: CHARLOTTE BAG PINK POLKADOT -> CHARLOTTE BAG SUKI DESIGN\n",
      "Support: 0.012048615989883377\n",
      "Confidence: 0.4992721979621543\n",
      "Lift: 18.800636152892338\n",
      "=====================================\n",
      "Rule: CHARLOTTE BAG PINK POLKADOT -> RED RETROSPOT CHARLOTTE BAG\n",
      "Support: 0.011346072783476184\n",
      "Confidence: 0.47016011644832606\n",
      "Lift: 14.48540930200319\n",
      "=====================================\n",
      "Rule: SPACEBOY LUNCH BOX -> DOLLY GIRL LUNCH BOX\n",
      "Support: 0.015561332021919347\n",
      "Confidence: 0.5954301075268816\n",
      "Lift: 20.952662918510836\n",
      "=====================================\n",
      "Rule: JUMBO BAG RED RETROSPOT -> DOTCOM POSTAGE\n",
      "Support: 0.01060840241674863\n",
      "Confidence: 0.5092748735244519\n",
      "Lift: 7.558934879819655\n",
      "=====================================\n",
      "Rule: GARDENERS KNEELING PAD CUP OF TEA -> GARDENERS KNEELING PAD KEEP CALM\n",
      "Support: 0.01787972460306309\n",
      "Confidence: 0.6963064295485636\n",
      "Lift: 22.272417344256752\n",
      "=====================================\n",
      "Rule: PINK REGENCY TEACUP AND SAUCER -> GREEN REGENCY TEACUP AND SAUCER\n",
      "Support: 0.017985106084024167\n",
      "Confidence: 0.5535135135135134\n",
      "Lift: 24.317010343677005\n",
      "=====================================\n"
     ]
    }
   ],
   "source": [
    "display_rules(association_results[:10])"
   ]
  },
  {
   "cell_type": "code",
   "execution_count": 23,
   "id": "eec3228a",
   "metadata": {},
   "outputs": [
    {
     "data": {
      "text/plain": [
       "[('WHITE HANGING HEART T-LIGHT HOLDER', 2065),\n",
       " ('JUMBO BAG RED RETROSPOT', 1937),\n",
       " ('REGENCY CAKESTAND 3 TIER', 1891),\n",
       " ('PARTY BUNTING', 1502),\n",
       " ('LUNCH BAG RED RETROSPOT', 1444),\n",
       " ('ASSORTED COLOUR BIRD ORNAMENT', 1382),\n",
       " ('SET OF 3 CAKE TINS PANTRY DESIGN', 1319),\n",
       " ('PACK OF 72 RETROSPOT CAKE CASES', 1194),\n",
       " ('LUNCH BAG  BLACK SKULL', 1181),\n",
       " ('JUMBO BAG PINK POLKADOT', 1160)]"
      ]
     },
     "execution_count": 23,
     "metadata": {},
     "output_type": "execute_result"
    }
   ],
   "source": [
    "from collections import Counter\n",
    "\n",
    "counter = Counter(baskets[0])\n",
    "for i in baskets[1:]:\n",
    "    if i != 'nan':\n",
    "        counter.update(i)\n",
    "del counter['nan']\n",
    "counter.most_common(10)"
   ]
  },
  {
   "cell_type": "markdown",
   "id": "e28e1f03",
   "metadata": {},
   "source": [
    "**Q4. How many of these items can you find in the rules you have just displayed? Are all the top 10 items\n",
    "included? Provide an explanation as to why these items may be missing/present in the rules.**"
   ]
  },
  {
   "cell_type": "markdown",
   "id": "193aa8c9",
   "metadata": {},
   "source": [
    "I can only find **JUMBO BAG RED RETROSPOT** in the associated rule displayed above. Association rule doesn't extract individual customer's preference, rather find relationship between group of elements in every transaction. The main reason why those items are not displayed in association rule due to:\n",
    "\n",
    "i. Less support value. Support gives an idea of how frequent an itemset is in all the transactions occured. Mathematically, support value is the fraction of total number of transactions in our dataset in which the particular itemset appears. Our min_support value is 0.01 i.e. 1% which indicates that in every 100 transaction there should be atleast 1 itemset.\n",
    "\n",
    "ii. Less confidence value. Confidence value represents how likely the item follows another item.\n"
   ]
  },
  {
   "cell_type": "markdown",
   "id": "8d43ab41",
   "metadata": {},
   "source": [
    "## <font color='blue'>Report</font>"
   ]
  },
  {
   "cell_type": "markdown",
   "id": "60dc56a5",
   "metadata": {},
   "source": [
    "**Q5. Run the apriori algorithm with the following three different settings:**\n",
    "\n",
    "i. Setting 1: Min Support = 0.015, Min Confidence = 0.7, Min Lift = 3\n",
    "\n",
    "ii. Setting 2: Min Support = 0.009, Min Confidence = 0.5, Min Lift = 3\n",
    "\n",
    "iii. Setting 3: Min Support = 0.015, Min Confidence = 0.5, Min Lift = 9\n",
    "\n",
    "**Calculate the number of rules you get for each setting and discuss how the quality of the rules differ in each\n",
    "setting.**"
   ]
  },
  {
   "cell_type": "markdown",
   "id": "26975cfb",
   "metadata": {},
   "source": [
    "**Setting 1: Min Support = 0.015, Min Confidence = 0.7, Min Lift = 3**"
   ]
  },
  {
   "cell_type": "code",
   "execution_count": 24,
   "id": "7f2558a7",
   "metadata": {},
   "outputs": [],
   "source": [
    "association_rules = apriori(baskets, min_support=0.015, min_confidence=0.7, \n",
    " min_lift=3, min_length=3)\n",
    "association_results = list(association_rules)"
   ]
  },
  {
   "cell_type": "code",
   "execution_count": 25,
   "id": "35d4c082",
   "metadata": {},
   "outputs": [
    {
     "name": "stdout",
     "output_type": "stream",
     "text": [
      "Rules generated:  3\n"
     ]
    }
   ],
   "source": [
    "print('Rules generated: ', len(association_results))"
   ]
  },
  {
   "cell_type": "code",
   "execution_count": 26,
   "id": "31f963cb",
   "metadata": {},
   "outputs": [
    {
     "name": "stdout",
     "output_type": "stream",
     "text": [
      "RelationRecord(items=frozenset({'PINK REGENCY TEACUP AND SAUCER', 'GREEN REGENCY TEACUP AND SAUCER'}), support=0.017985106084024167, ordered_statistics=[OrderedStatistic(items_base=frozenset({'PINK REGENCY TEACUP AND SAUCER'}), items_add=frozenset({'GREEN REGENCY TEACUP AND SAUCER'}), confidence=0.7901234567901234, lift=24.31701034367701)])\n"
     ]
    }
   ],
   "source": [
    "print(association_results[0])"
   ]
  },
  {
   "cell_type": "code",
   "execution_count": 27,
   "id": "98bfe38c",
   "metadata": {},
   "outputs": [],
   "source": [
    "def display_rules(association_results):\n",
    "    for item in association_results:\n",
    "        pair = item[0] \n",
    "        items = [x for x in pair]\n",
    "        print(\"Rule: \" + items[0] + \" -> \" + items[1])\n",
    "        print(\"Support: \" + str(item[1]))\n",
    "        print(\"Confidence: \" + str(item[2][0][2]))\n",
    "        print(\"Lift: \" + str(item[2][0][3]))\n",
    "        print(\"=====================================\")"
   ]
  },
  {
   "cell_type": "code",
   "execution_count": 28,
   "id": "16269f9b",
   "metadata": {},
   "outputs": [
    {
     "name": "stdout",
     "output_type": "stream",
     "text": [
      "Rule: PINK REGENCY TEACUP AND SAUCER -> GREEN REGENCY TEACUP AND SAUCER\n",
      "Support: 0.017985106084024167\n",
      "Confidence: 0.7901234567901234\n",
      "Lift: 24.31701034367701\n",
      "=====================================\n",
      "Rule: GREEN REGENCY TEACUP AND SAUCER -> ROSES REGENCY TEACUP AND SAUCER\n",
      "Support: 0.022902908528874527\n",
      "Confidence: 0.7048648648648649\n",
      "Lift: 20.85872450412991\n",
      "=====================================\n",
      "Rule: PINK REGENCY TEACUP AND SAUCER -> ROSES REGENCY TEACUP AND SAUCER\n",
      "Support: 0.017212308556976252\n",
      "Confidence: 0.7561728395061728\n",
      "Lift: 22.377056543723207\n",
      "=====================================\n"
     ]
    }
   ],
   "source": [
    "display_rules(association_results[:10])"
   ]
  },
  {
   "cell_type": "markdown",
   "id": "faa50f9a",
   "metadata": {},
   "source": [
    "**ii. Setting 2: Min Support = 0.009, Min Confidence = 0.5, Min Lift = 3**"
   ]
  },
  {
   "cell_type": "code",
   "execution_count": 29,
   "id": "122ab5f8",
   "metadata": {},
   "outputs": [],
   "source": [
    "association_rules = apriori(baskets, min_support=0.009, min_confidence=0.5, \n",
    " min_lift=3, min_length=3)\n",
    "association_results = list(association_rules)"
   ]
  },
  {
   "cell_type": "code",
   "execution_count": 30,
   "id": "0fc68e37",
   "metadata": {},
   "outputs": [
    {
     "name": "stdout",
     "output_type": "stream",
     "text": [
      "Rules generated:  44\n"
     ]
    }
   ],
   "source": [
    "print('Rules generated: ', len(association_results))"
   ]
  },
  {
   "cell_type": "code",
   "execution_count": 31,
   "id": "bba21a72",
   "metadata": {},
   "outputs": [
    {
     "name": "stdout",
     "output_type": "stream",
     "text": [
      "RelationRecord(items=frozenset({'ALARM CLOCK BAKELIKE PINK', 'ALARM CLOCK BAKELIKE GREEN'}), support=0.012153997470844457, ordered_statistics=[OrderedStatistic(items_base=frozenset({'ALARM CLOCK BAKELIKE PINK'}), items_add=frozenset({'ALARM CLOCK BAKELIKE GREEN'}), confidence=0.5043731778425656, lift=16.715361614461184)])\n"
     ]
    }
   ],
   "source": [
    "print(association_results[0])"
   ]
  },
  {
   "cell_type": "code",
   "execution_count": 32,
   "id": "29c1650b",
   "metadata": {},
   "outputs": [],
   "source": [
    "def display_rules(association_results):\n",
    "    for item in association_results:\n",
    "        pair = item[0] \n",
    "        items = [x for x in pair]\n",
    "        print(\"Rule: \" + items[0] + \" -> \" + items[1])\n",
    "        print(\"Support: \" + str(item[1]))\n",
    "        print(\"Confidence: \" + str(item[2][0][2]))\n",
    "        print(\"Lift: \" + str(item[2][0][3]))\n",
    "        print(\"=====================================\")"
   ]
  },
  {
   "cell_type": "code",
   "execution_count": 33,
   "id": "356228bf",
   "metadata": {},
   "outputs": [
    {
     "name": "stdout",
     "output_type": "stream",
     "text": [
      "Rule: ALARM CLOCK BAKELIKE PINK -> ALARM CLOCK BAKELIKE GREEN\n",
      "Support: 0.012153997470844457\n",
      "Confidence: 0.5043731778425656\n",
      "Lift: 16.715361614461184\n",
      "=====================================\n",
      "Rule: ALARM CLOCK BAKELIKE GREEN -> ALARM CLOCK BAKELIKE RED\n",
      "Support: 0.01872277645075172\n",
      "Confidence: 0.6204889406286379\n",
      "Lift: 19.539910577230156\n",
      "=====================================\n",
      "Rule: ALARM CLOCK BAKELIKE RED -> ALARM CLOCK BAKELIKE IVORY\n",
      "Support: 0.010222003653224673\n",
      "Confidence: 0.6139240506329114\n",
      "Lift: 19.333174638736416\n",
      "=====================================\n",
      "Rule: ALARM CLOCK BAKELIKE PINK -> ALARM CLOCK BAKELIKE RED\n",
      "Support: 0.012716032035970212\n",
      "Confidence: 0.5276967930029155\n",
      "Lift: 16.617779096467917\n",
      "=====================================\n",
      "Rule: TOILET METAL SIGN -> BATHROOM METAL SIGN\n",
      "Support: 0.009168188843613883\n",
      "Confidence: 0.7250000000000001\n",
      "Lift: 33.23558776167472\n",
      "=====================================\n",
      "Rule: RED  HARMONICA IN BOX -> BLUE HARMONICA IN BOX\n",
      "Support: 0.009765350569059998\n",
      "Confidence: 0.5009009009009009\n",
      "Lift: 22.96239427833631\n",
      "=====================================\n",
      "Rule: SPACEBOY LUNCH BOX -> DOLLY GIRL LUNCH BOX\n",
      "Support: 0.015561332021919347\n",
      "Confidence: 0.5954301075268816\n",
      "Lift: 20.952662918510836\n",
      "=====================================\n",
      "Rule: JUMBO BAG RED RETROSPOT -> DOTCOM POSTAGE\n",
      "Support: 0.01060840241674863\n",
      "Confidence: 0.5092748735244519\n",
      "Lift: 7.558934879819655\n",
      "=====================================\n",
      "Rule: GARDENERS KNEELING PAD CUP OF TEA -> GARDENERS KNEELING PAD KEEP CALM\n",
      "Support: 0.01787972460306309\n",
      "Confidence: 0.6963064295485636\n",
      "Lift: 22.272417344256752\n",
      "=====================================\n",
      "Rule: PINK REGENCY TEACUP AND SAUCER -> GREEN REGENCY TEACUP AND SAUCER\n",
      "Support: 0.017985106084024167\n",
      "Confidence: 0.5535135135135134\n",
      "Lift: 24.317010343677005\n",
      "=====================================\n"
     ]
    }
   ],
   "source": [
    "display_rules(association_results[:10])"
   ]
  },
  {
   "cell_type": "markdown",
   "id": "9e79e6ba",
   "metadata": {},
   "source": [
    "**iii. Setting 3: Min Support = 0.015, Min Confidence = 0.5, Min Lift = 9**"
   ]
  },
  {
   "cell_type": "code",
   "execution_count": 34,
   "id": "00be84b8",
   "metadata": {},
   "outputs": [],
   "source": [
    "association_rules = apriori(baskets, min_support=0.015, min_confidence=0.5, \n",
    " min_lift=9, min_length=3)\n",
    "association_results = list(association_rules)"
   ]
  },
  {
   "cell_type": "code",
   "execution_count": 35,
   "id": "3294e9de",
   "metadata": {},
   "outputs": [
    {
     "name": "stdout",
     "output_type": "stream",
     "text": [
      "Rules generated:  10\n"
     ]
    }
   ],
   "source": [
    "print('Rules generated: ', len(association_results))"
   ]
  },
  {
   "cell_type": "code",
   "execution_count": 36,
   "id": "03edaade",
   "metadata": {},
   "outputs": [
    {
     "name": "stdout",
     "output_type": "stream",
     "text": [
      "RelationRecord(items=frozenset({'ALARM CLOCK BAKELIKE GREEN', 'ALARM CLOCK BAKELIKE RED'}), support=0.01872277645075172, ordered_statistics=[OrderedStatistic(items_base=frozenset({'ALARM CLOCK BAKELIKE GREEN'}), items_add=frozenset({'ALARM CLOCK BAKELIKE RED'}), confidence=0.6204889406286379, lift=19.539910577230156), OrderedStatistic(items_base=frozenset({'ALARM CLOCK BAKELIKE RED'}), items_add=frozenset({'ALARM CLOCK BAKELIKE GREEN'}), confidence=0.5896017699115044, lift=19.53991057723016)])\n"
     ]
    }
   ],
   "source": [
    "print(association_results[0])"
   ]
  },
  {
   "cell_type": "code",
   "execution_count": 37,
   "id": "5cd39605",
   "metadata": {},
   "outputs": [],
   "source": [
    "def display_rules(association_results):\n",
    "    for item in association_results:\n",
    "        pair = item[0] \n",
    "        items = [x for x in pair]\n",
    "        print(\"Rule: \" + items[0] + \" -> \" + items[1])\n",
    "        print(\"Support: \" + str(item[1]))\n",
    "        print(\"Confidence: \" + str(item[2][0][2]))\n",
    "        print(\"Lift: \" + str(item[2][0][3]))\n",
    "        print(\"=====================================\")"
   ]
  },
  {
   "cell_type": "code",
   "execution_count": 38,
   "id": "6a98c12e",
   "metadata": {},
   "outputs": [
    {
     "name": "stdout",
     "output_type": "stream",
     "text": [
      "Rule: ALARM CLOCK BAKELIKE GREEN -> ALARM CLOCK BAKELIKE RED\n",
      "Support: 0.01872277645075172\n",
      "Confidence: 0.6204889406286379\n",
      "Lift: 19.539910577230156\n",
      "=====================================\n",
      "Rule: SPACEBOY LUNCH BOX -> DOLLY GIRL LUNCH BOX\n",
      "Support: 0.015561332021919347\n",
      "Confidence: 0.5954301075268816\n",
      "Lift: 20.952662918510836\n",
      "=====================================\n",
      "Rule: GARDENERS KNEELING PAD CUP OF TEA -> GARDENERS KNEELING PAD KEEP CALM\n",
      "Support: 0.01787972460306309\n",
      "Confidence: 0.6963064295485636\n",
      "Lift: 22.272417344256752\n",
      "=====================================\n",
      "Rule: PINK REGENCY TEACUP AND SAUCER -> GREEN REGENCY TEACUP AND SAUCER\n",
      "Support: 0.017985106084024167\n",
      "Confidence: 0.5535135135135134\n",
      "Lift: 24.317010343677005\n",
      "=====================================\n",
      "Rule: GREEN REGENCY TEACUP AND SAUCER -> ROSES REGENCY TEACUP AND SAUCER\n",
      "Support: 0.022902908528874527\n",
      "Confidence: 0.7048648648648649\n",
      "Lift: 20.85872450412991\n",
      "=====================================\n",
      "Rule: HEART OF WICKER SMALL -> HEART OF WICKER LARGE\n",
      "Support: 0.015701840663200788\n",
      "Confidence: 0.5096921322690992\n",
      "Lift: 13.226905762476495\n",
      "=====================================\n",
      "Rule: JUMBO BAG RED RETROSPOT -> JUMBO BAG STRAWBERRY\n",
      "Support: 0.015034424617113953\n",
      "Confidence: 0.6193921852387844\n",
      "Lift: 9.193355959008194\n",
      "=====================================\n",
      "Rule: PINK REGENCY TEACUP AND SAUCER -> ROSES REGENCY TEACUP AND SAUCER\n",
      "Support: 0.017212308556976252\n",
      "Confidence: 0.7561728395061728\n",
      "Lift: 22.377056543723207\n",
      "=====================================\n",
      "Rule: RED RETROSPOT CHARLOTTE BAG -> WOODLAND CHARLOTTE BAG\n",
      "Support: 0.015174933258395392\n",
      "Confidence: 0.5595854922279793\n",
      "Lift: 17.24056254626203\n",
      "=====================================\n",
      "Rule: WOODEN FRAME ANTIQUE WHITE -> WOODEN PICTURE FRAME WHITE FINISH\n",
      "Support: 0.016299002388646903\n",
      "Confidence: 0.5172798216276477\n",
      "Lift: 15.632613547872479\n",
      "=====================================\n"
     ]
    }
   ],
   "source": [
    "display_rules(association_results[:10])"
   ]
  },
  {
   "cell_type": "markdown",
   "id": "4af5aca4",
   "metadata": {},
   "source": [
    "Looking at the apriori algorithm we applied above for 3 different settings we have got 3, 44, and 10 association rules for setting i, setting ii, setting iii respectively. \n",
    "Setting 1: Min Support = 0.015, Min Confidence = 0.7, Min Lift = 3\n",
    "Setting 2: Min Support = 0.009, Min Confidence = 0.5, Min Lift = 3\n",
    "Setting 3: Min Support = 0.015, Min Confidence = 0.5, Min Lift = 9\n",
    "\n",
    "We can draw a conclusion that:\n",
    "\n",
    "i. Lower the minimum support value, higher the number of association rules. Support gives an idea of how frequent an itemset is in all the transactions occured.\n",
    "\n",
    "ii. Higher the minimum confidence value, lower the number of association rules.Confidence value represents how likely the item follows another item.\n",
    "\n",
    "iii. Higher the minimum lif value, higher the association rule. "
   ]
  },
  {
   "cell_type": "markdown",
   "id": "62dcc8b8",
   "metadata": {},
   "source": [
    "**Q6. Filter the transactions from the day of the week or the month and generate association rules again. Discuss whether the rules change in different days or different months.**"
   ]
  },
  {
   "cell_type": "code",
   "execution_count": 39,
   "id": "77ffc9f0",
   "metadata": {},
   "outputs": [],
   "source": [
    "data['Month'] = pd.to_datetime(data['Date'], format='%d/%m/%Y').dt.month"
   ]
  },
  {
   "cell_type": "code",
   "execution_count": 40,
   "id": "c8f6ebe9",
   "metadata": {},
   "outputs": [
    {
     "data": {
      "image/png": "[encoded data removed]",
      "text/plain": [
       "<Figure size 640x480 with 1 Axes>"
      ]
     },
     "metadata": {},
     "output_type": "display_data"
    }
   ],
   "source": [
    "month_hist = data.hist(column=\"Month\", bins=12, grid=False)\n",
    "\n",
    "for ax in month_hist.flatten():\n",
    "    ax.set_xlabel(\"Month\")\n",
    "    ax.set_ylabel(\"Frequency\")"
   ]
  },
  {
   "cell_type": "markdown",
   "id": "39dfc614",
   "metadata": {},
   "source": [
    "It can be seen from the above histogram that most of the transactions were performed in October, November, and December. While less transactions were recorded during January and February. "
   ]
  },
  {
   "cell_type": "code",
   "execution_count": 41,
   "id": "84382296",
   "metadata": {},
   "outputs": [
    {
     "data": {
      "text/html": [
       "<div>\n",
       "<style scoped>\n",
       "    .dataframe tbody tr th:only-of-type {\n",
       "        vertical-align: middle;\n",
       "    }\n",
       "\n",
       "    .dataframe tbody tr th {\n",
       "        vertical-align: top;\n",
       "    }\n",
       "\n",
       "    .dataframe thead th {\n",
       "        text-align: right;\n",
       "    }\n",
       "</style>\n",
       "<table border=\"1\" class=\"dataframe\">\n",
       "  <thead>\n",
       "    <tr style=\"text-align: right;\">\n",
       "      <th></th>\n",
       "      <th>transaction_ID</th>\n",
       "      <th>Date</th>\n",
       "      <th>Time</th>\n",
       "      <th>item_0</th>\n",
       "      <th>item_1</th>\n",
       "      <th>item_2</th>\n",
       "      <th>item_3</th>\n",
       "      <th>item_4</th>\n",
       "      <th>item_5</th>\n",
       "      <th>item_6</th>\n",
       "      <th>...</th>\n",
       "      <th>item_33</th>\n",
       "      <th>item_34</th>\n",
       "      <th>item_35</th>\n",
       "      <th>item_36</th>\n",
       "      <th>item_37</th>\n",
       "      <th>item_38</th>\n",
       "      <th>item_39</th>\n",
       "      <th>item_40</th>\n",
       "      <th>Hour</th>\n",
       "      <th>Month</th>\n",
       "    </tr>\n",
       "  </thead>\n",
       "  <tbody>\n",
       "    <tr>\n",
       "      <th>30257</th>\n",
       "      <td>C579415</td>\n",
       "      <td>29/11/2011</td>\n",
       "      <td>12:52</td>\n",
       "      <td>CLASSIC GLASS COOKIE JAR</td>\n",
       "      <td>NaN</td>\n",
       "      <td>NaN</td>\n",
       "      <td>NaN</td>\n",
       "      <td>NaN</td>\n",
       "      <td>NaN</td>\n",
       "      <td>NaN</td>\n",
       "      <td>...</td>\n",
       "      <td>NaN</td>\n",
       "      <td>NaN</td>\n",
       "      <td>NaN</td>\n",
       "      <td>NaN</td>\n",
       "      <td>NaN</td>\n",
       "      <td>NaN</td>\n",
       "      <td>NaN</td>\n",
       "      <td>NaN</td>\n",
       "      <td>12</td>\n",
       "      <td>11</td>\n",
       "    </tr>\n",
       "    <tr>\n",
       "      <th>25793</th>\n",
       "      <td>573341</td>\n",
       "      <td>30/10/2011</td>\n",
       "      <td>11:55</td>\n",
       "      <td>CHRISTMAS METAL POSTCARD WITH BELLS</td>\n",
       "      <td>ROLL WRAP VINTAGE CHRISTMAS</td>\n",
       "      <td>BOTANICAL GARDENS WALL CLOCK</td>\n",
       "      <td>VINTAGE CHRISTMAS STOCKING</td>\n",
       "      <td>CARD MOTORBIKE SANTA</td>\n",
       "      <td>CARD CHRISTMAS VILLAGE</td>\n",
       "      <td>ASSORTED COLOUR BIRD ORNAMENT</td>\n",
       "      <td>...</td>\n",
       "      <td>NaN</td>\n",
       "      <td>NaN</td>\n",
       "      <td>NaN</td>\n",
       "      <td>NaN</td>\n",
       "      <td>NaN</td>\n",
       "      <td>NaN</td>\n",
       "      <td>NaN</td>\n",
       "      <td>NaN</td>\n",
       "      <td>11</td>\n",
       "      <td>10</td>\n",
       "    </tr>\n",
       "  </tbody>\n",
       "</table>\n",
       "<p>2 rows × 46 columns</p>\n",
       "</div>"
      ],
      "text/plain": [
       "      transaction_ID        Date   Time                               item_0  \\\n",
       "30257        C579415  29/11/2011  12:52             CLASSIC GLASS COOKIE JAR   \n",
       "25793         573341  30/10/2011  11:55  CHRISTMAS METAL POSTCARD WITH BELLS   \n",
       "\n",
       "                            item_1                        item_2  \\\n",
       "30257                          NaN                           NaN   \n",
       "25793  ROLL WRAP VINTAGE CHRISTMAS  BOTANICAL GARDENS WALL CLOCK   \n",
       "\n",
       "                           item_3                item_4  \\\n",
       "30257                         NaN                   NaN   \n",
       "25793  VINTAGE CHRISTMAS STOCKING  CARD MOTORBIKE SANTA   \n",
       "\n",
       "                       item_5                         item_6  ... item_33  \\\n",
       "30257                     NaN                            NaN  ...     NaN   \n",
       "25793  CARD CHRISTMAS VILLAGE  ASSORTED COLOUR BIRD ORNAMENT  ...     NaN   \n",
       "\n",
       "      item_34 item_35 item_36 item_37 item_38 item_39 item_40 Hour Month  \n",
       "30257     NaN     NaN     NaN     NaN     NaN     NaN     NaN   12    11  \n",
       "25793     NaN     NaN     NaN     NaN     NaN     NaN     NaN   11    10  \n",
       "\n",
       "[2 rows x 46 columns]"
      ]
     },
     "execution_count": 41,
     "metadata": {},
     "output_type": "execute_result"
    }
   ],
   "source": [
    "data.head(2)"
   ]
  },
  {
   "cell_type": "code",
   "execution_count": 42,
   "id": "01136aa9",
   "metadata": {},
   "outputs": [],
   "source": [
    "new_items_df=data[data.columns[3:44]]"
   ]
  },
  {
   "cell_type": "code",
   "execution_count": 43,
   "id": "e01af367",
   "metadata": {},
   "outputs": [
    {
     "data": {
      "text/html": [
       "<div>\n",
       "<style scoped>\n",
       "    .dataframe tbody tr th:only-of-type {\n",
       "        vertical-align: middle;\n",
       "    }\n",
       "\n",
       "    .dataframe tbody tr th {\n",
       "        vertical-align: top;\n",
       "    }\n",
       "\n",
       "    .dataframe thead th {\n",
       "        text-align: right;\n",
       "    }\n",
       "</style>\n",
       "<table border=\"1\" class=\"dataframe\">\n",
       "  <thead>\n",
       "    <tr style=\"text-align: right;\">\n",
       "      <th></th>\n",
       "      <th>item_0</th>\n",
       "      <th>item_1</th>\n",
       "      <th>item_2</th>\n",
       "      <th>item_3</th>\n",
       "      <th>item_4</th>\n",
       "      <th>item_5</th>\n",
       "      <th>item_6</th>\n",
       "      <th>item_7</th>\n",
       "      <th>item_8</th>\n",
       "      <th>item_9</th>\n",
       "      <th>...</th>\n",
       "      <th>item_31</th>\n",
       "      <th>item_32</th>\n",
       "      <th>item_33</th>\n",
       "      <th>item_34</th>\n",
       "      <th>item_35</th>\n",
       "      <th>item_36</th>\n",
       "      <th>item_37</th>\n",
       "      <th>item_38</th>\n",
       "      <th>item_39</th>\n",
       "      <th>item_40</th>\n",
       "    </tr>\n",
       "  </thead>\n",
       "  <tbody>\n",
       "    <tr>\n",
       "      <th>30257</th>\n",
       "      <td>CLASSIC GLASS COOKIE JAR</td>\n",
       "      <td>NaN</td>\n",
       "      <td>NaN</td>\n",
       "      <td>NaN</td>\n",
       "      <td>NaN</td>\n",
       "      <td>NaN</td>\n",
       "      <td>NaN</td>\n",
       "      <td>NaN</td>\n",
       "      <td>NaN</td>\n",
       "      <td>NaN</td>\n",
       "      <td>...</td>\n",
       "      <td>NaN</td>\n",
       "      <td>NaN</td>\n",
       "      <td>NaN</td>\n",
       "      <td>NaN</td>\n",
       "      <td>NaN</td>\n",
       "      <td>NaN</td>\n",
       "      <td>NaN</td>\n",
       "      <td>NaN</td>\n",
       "      <td>NaN</td>\n",
       "      <td>NaN</td>\n",
       "    </tr>\n",
       "    <tr>\n",
       "      <th>25793</th>\n",
       "      <td>CHRISTMAS METAL POSTCARD WITH BELLS</td>\n",
       "      <td>ROLL WRAP VINTAGE CHRISTMAS</td>\n",
       "      <td>BOTANICAL GARDENS WALL CLOCK</td>\n",
       "      <td>VINTAGE CHRISTMAS STOCKING</td>\n",
       "      <td>CARD MOTORBIKE SANTA</td>\n",
       "      <td>CARD CHRISTMAS VILLAGE</td>\n",
       "      <td>ASSORTED COLOUR BIRD ORNAMENT</td>\n",
       "      <td>CLASSIC METAL BIRDCAGE PLANT HOLDER</td>\n",
       "      <td>CHARLOTTE BAG SUKI DESIGN</td>\n",
       "      <td>RED RETROSPOT SHOPPER BAG</td>\n",
       "      <td>...</td>\n",
       "      <td>NaN</td>\n",
       "      <td>NaN</td>\n",
       "      <td>NaN</td>\n",
       "      <td>NaN</td>\n",
       "      <td>NaN</td>\n",
       "      <td>NaN</td>\n",
       "      <td>NaN</td>\n",
       "      <td>NaN</td>\n",
       "      <td>NaN</td>\n",
       "      <td>NaN</td>\n",
       "    </tr>\n",
       "    <tr>\n",
       "      <th>9955</th>\n",
       "      <td>SET/3 POT PLANT CANDLES</td>\n",
       "      <td>12 PENCILS SMALL TUBE SKULL</td>\n",
       "      <td>12 PENCILS SMALL TUBE RED RETROSPOT</td>\n",
       "      <td>ROSE DU SUD CUSHION COVER</td>\n",
       "      <td>JUMBO BAG CHARLIE AND LOLA TOYS</td>\n",
       "      <td>SET/6 COLLAGE PAPER CUPS</td>\n",
       "      <td>SET/6 FRUIT SALAD PAPER CUPS</td>\n",
       "      <td>SET/6 COLLAGE PAPER PLATES</td>\n",
       "      <td>SET/6 RED SPOTTY PAPER PLATES</td>\n",
       "      <td>SWISS ROLL TOWEL PINK  SPOTS</td>\n",
       "      <td>...</td>\n",
       "      <td>GLITTER HEART GARLAND WITH BELLS</td>\n",
       "      <td>DINOSAUR KEYRINGS ASSORTED</td>\n",
       "      <td>BINGO SET</td>\n",
       "      <td>MORE BUTTER METAL SIGN</td>\n",
       "      <td>JUMBO BAG SCANDINAVIAN BLUE PAISLEY</td>\n",
       "      <td>RED RETROSPOT PICNIC BAG</td>\n",
       "      <td>PACK OF 60 PINK PAISLEY CAKE CASES</td>\n",
       "      <td>PACK OF 12 WOODLAND TISSUES</td>\n",
       "      <td>BOHEMIAN COLLAGE STATIONERY SET</td>\n",
       "      <td>VINTAGE PAISLEY STATIONERY SET</td>\n",
       "    </tr>\n",
       "    <tr>\n",
       "      <th>24334</th>\n",
       "      <td>JUMBO BAG RED RETROSPOT</td>\n",
       "      <td>JUMBO BAG APPLES</td>\n",
       "      <td>JUMBO BAG STRAWBERRY</td>\n",
       "      <td>JUMBO BAG PINK POLKADOT</td>\n",
       "      <td>JUMBO BAG ALPHABET</td>\n",
       "      <td>JUMBO BAG SPACEBOY DESIGN</td>\n",
       "      <td>NaN</td>\n",
       "      <td>NaN</td>\n",
       "      <td>NaN</td>\n",
       "      <td>NaN</td>\n",
       "      <td>...</td>\n",
       "      <td>NaN</td>\n",
       "      <td>NaN</td>\n",
       "      <td>NaN</td>\n",
       "      <td>NaN</td>\n",
       "      <td>NaN</td>\n",
       "      <td>NaN</td>\n",
       "      <td>NaN</td>\n",
       "      <td>NaN</td>\n",
       "      <td>NaN</td>\n",
       "      <td>NaN</td>\n",
       "    </tr>\n",
       "    <tr>\n",
       "      <th>14251</th>\n",
       "      <td>NaN</td>\n",
       "      <td>NaN</td>\n",
       "      <td>NaN</td>\n",
       "      <td>NaN</td>\n",
       "      <td>NaN</td>\n",
       "      <td>NaN</td>\n",
       "      <td>NaN</td>\n",
       "      <td>NaN</td>\n",
       "      <td>NaN</td>\n",
       "      <td>NaN</td>\n",
       "      <td>...</td>\n",
       "      <td>NaN</td>\n",
       "      <td>NaN</td>\n",
       "      <td>NaN</td>\n",
       "      <td>NaN</td>\n",
       "      <td>NaN</td>\n",
       "      <td>NaN</td>\n",
       "      <td>NaN</td>\n",
       "      <td>NaN</td>\n",
       "      <td>NaN</td>\n",
       "      <td>NaN</td>\n",
       "    </tr>\n",
       "  </tbody>\n",
       "</table>\n",
       "<p>5 rows × 41 columns</p>\n",
       "</div>"
      ],
      "text/plain": [
       "                                    item_0                       item_1  \\\n",
       "30257             CLASSIC GLASS COOKIE JAR                          NaN   \n",
       "25793  CHRISTMAS METAL POSTCARD WITH BELLS  ROLL WRAP VINTAGE CHRISTMAS   \n",
       "9955               SET/3 POT PLANT CANDLES  12 PENCILS SMALL TUBE SKULL   \n",
       "24334              JUMBO BAG RED RETROSPOT             JUMBO BAG APPLES   \n",
       "14251                                  NaN                          NaN   \n",
       "\n",
       "                                    item_2                      item_3  \\\n",
       "30257                                  NaN                         NaN   \n",
       "25793         BOTANICAL GARDENS WALL CLOCK  VINTAGE CHRISTMAS STOCKING   \n",
       "9955   12 PENCILS SMALL TUBE RED RETROSPOT   ROSE DU SUD CUSHION COVER   \n",
       "24334                 JUMBO BAG STRAWBERRY     JUMBO BAG PINK POLKADOT   \n",
       "14251                                  NaN                         NaN   \n",
       "\n",
       "                                item_4                     item_5  \\\n",
       "30257                              NaN                        NaN   \n",
       "25793             CARD MOTORBIKE SANTA     CARD CHRISTMAS VILLAGE   \n",
       "9955   JUMBO BAG CHARLIE AND LOLA TOYS   SET/6 COLLAGE PAPER CUPS   \n",
       "24334               JUMBO BAG ALPHABET  JUMBO BAG SPACEBOY DESIGN   \n",
       "14251                              NaN                        NaN   \n",
       "\n",
       "                              item_6                               item_7  \\\n",
       "30257                            NaN                                  NaN   \n",
       "25793  ASSORTED COLOUR BIRD ORNAMENT  CLASSIC METAL BIRDCAGE PLANT HOLDER   \n",
       "9955    SET/6 FRUIT SALAD PAPER CUPS           SET/6 COLLAGE PAPER PLATES   \n",
       "24334                            NaN                                  NaN   \n",
       "14251                            NaN                                  NaN   \n",
       "\n",
       "                              item_8                        item_9  ...  \\\n",
       "30257                            NaN                           NaN  ...   \n",
       "25793      CHARLOTTE BAG SUKI DESIGN     RED RETROSPOT SHOPPER BAG  ...   \n",
       "9955   SET/6 RED SPOTTY PAPER PLATES  SWISS ROLL TOWEL PINK  SPOTS  ...   \n",
       "24334                            NaN                           NaN  ...   \n",
       "14251                            NaN                           NaN  ...   \n",
       "\n",
       "                                item_31                     item_32  \\\n",
       "30257                               NaN                         NaN   \n",
       "25793                               NaN                         NaN   \n",
       "9955   GLITTER HEART GARLAND WITH BELLS  DINOSAUR KEYRINGS ASSORTED   \n",
       "24334                               NaN                         NaN   \n",
       "14251                               NaN                         NaN   \n",
       "\n",
       "         item_33                 item_34                              item_35  \\\n",
       "30257        NaN                     NaN                                  NaN   \n",
       "25793        NaN                     NaN                                  NaN   \n",
       "9955   BINGO SET  MORE BUTTER METAL SIGN  JUMBO BAG SCANDINAVIAN BLUE PAISLEY   \n",
       "24334        NaN                     NaN                                  NaN   \n",
       "14251        NaN                     NaN                                  NaN   \n",
       "\n",
       "                        item_36                             item_37  \\\n",
       "30257                       NaN                                 NaN   \n",
       "25793                       NaN                                 NaN   \n",
       "9955   RED RETROSPOT PICNIC BAG  PACK OF 60 PINK PAISLEY CAKE CASES   \n",
       "24334                       NaN                                 NaN   \n",
       "14251                       NaN                                 NaN   \n",
       "\n",
       "                           item_38                          item_39  \\\n",
       "30257                          NaN                              NaN   \n",
       "25793                          NaN                              NaN   \n",
       "9955   PACK OF 12 WOODLAND TISSUES  BOHEMIAN COLLAGE STATIONERY SET   \n",
       "24334                          NaN                              NaN   \n",
       "14251                          NaN                              NaN   \n",
       "\n",
       "                              item_40  \n",
       "30257                             NaN  \n",
       "25793                             NaN  \n",
       "9955   VINTAGE PAISLEY STATIONERY SET  \n",
       "24334                             NaN  \n",
       "14251                             NaN  \n",
       "\n",
       "[5 rows x 41 columns]"
      ]
     },
     "execution_count": 43,
     "metadata": {},
     "output_type": "execute_result"
    }
   ],
   "source": [
    "new_items_df.head()"
   ]
  },
  {
   "cell_type": "code",
   "execution_count": 44,
   "id": "395207f3",
   "metadata": {},
   "outputs": [],
   "source": [
    "baskets = new_items_df.T.apply(lambda x: x.dropna().tolist()).tolist()"
   ]
  },
  {
   "cell_type": "code",
   "execution_count": 45,
   "id": "3c141b2b",
   "metadata": {},
   "outputs": [
    {
     "name": "stdout",
     "output_type": "stream",
     "text": [
      "['CLASSIC GLASS COOKIE JAR']\n",
      "['CHRISTMAS METAL POSTCARD WITH BELLS', 'ROLL WRAP VINTAGE CHRISTMAS', 'BOTANICAL GARDENS WALL CLOCK', 'VINTAGE CHRISTMAS STOCKING', 'CARD MOTORBIKE SANTA', 'CARD CHRISTMAS VILLAGE', 'ASSORTED COLOUR BIRD ORNAMENT', 'CLASSIC METAL BIRDCAGE PLANT HOLDER', 'CHARLOTTE BAG SUKI DESIGN', 'RED RETROSPOT SHOPPER BAG', 'SEWING SUSAN 21 NEEDLE SET', 'DIAMANTE RING ASSORTED IN BOX', 'SET 12 COLOUR PENCILS DOLLY GIRL', '12 PENCILS SMALL TUBE SKULL', 'SET OF 10 LED DOLLY LIGHTS', 'WALL ART STOP FOR TEA', 'SET 12 KIDS COLOUR  CHALK STICKS', 'VINTAGE DOILY TRAVEL SEWING KIT', 'BAKING SET 9 PIECE RETROSPOT', 'WORLD WAR 2 GLIDERS ASSTD DESIGNS', 'BAKING SET SPACEBOY DESIGN']\n",
      "['SET/3 POT PLANT CANDLES', '12 PENCILS SMALL TUBE SKULL', '12 PENCILS SMALL TUBE RED RETROSPOT', 'ROSE DU SUD CUSHION COVER', 'JUMBO BAG CHARLIE AND LOLA TOYS', 'SET/6 COLLAGE PAPER CUPS', 'SET/6 FRUIT SALAD PAPER CUPS', 'SET/6 COLLAGE PAPER PLATES', 'SET/6 RED SPOTTY PAPER PLATES', 'SWISS ROLL TOWEL PINK  SPOTS', 'NO JUNK MAIL METAL SIGN', 'LARGE WHITE HONEYCOMB PAPER BELL', 'PACK OF 72 RETROSPOT CAKE CASES', 'SET/4 SKULL BADGES', 'PACK OF 12 STICKY BUNNIES', 'IVORY HANGING DECORATION  HEART', 'FRENCH LAVENDER SCENT HEART', 'SET/3 RED GINGHAM ROSE STORAGE BOX', 'PAINTED PINK RABBIT', 'PAINTED YELLOW WOODEN DAISY', 'ASSORTED TUTTI FRUTTI  FOB NOTEBOOK', 'RIDGED GLASS POSY VASE', 'WOODLAND  STICKERS', 'BAG 250g SWIRLY MARBLES', 'CITRONELLA CANDLE GARDEN POT', 'BOYS VINTAGE TIN SEASIDE BUCKET', 'SWEETIES  STICKERS', 'RED TOADSTOOL LED NIGHT LIGHT', 'DECORATIVE ROSE BATHROOM BOTTLE', 'DECORATIVE CATS BATHROOM BOTTLE', 'RAIN PONCHO RETROSPOT', 'GLITTER HEART GARLAND WITH BELLS', 'DINOSAUR KEYRINGS ASSORTED', 'BINGO SET', 'MORE BUTTER METAL SIGN', 'JUMBO BAG SCANDINAVIAN BLUE PAISLEY', 'RED RETROSPOT PICNIC BAG', 'PACK OF 60 PINK PAISLEY CAKE CASES', 'PACK OF 12 WOODLAND TISSUES', 'BOHEMIAN COLLAGE STATIONERY SET', 'VINTAGE PAISLEY STATIONERY SET']\n",
      "['JUMBO BAG RED RETROSPOT', 'JUMBO BAG APPLES', 'JUMBO BAG STRAWBERRY', 'JUMBO BAG PINK POLKADOT', 'JUMBO BAG ALPHABET', 'JUMBO BAG SPACEBOY DESIGN']\n",
      "[]\n"
     ]
    }
   ],
   "source": [
    "for i in baskets[:5]:\n",
    "    print(i)"
   ]
  },
  {
   "cell_type": "code",
   "execution_count": 46,
   "id": "bfc12546",
   "metadata": {},
   "outputs": [],
   "source": [
    "new_association_rules = apriori(baskets, min_support=0.01, min_confidence=0.2, \n",
    " min_lift=3, min_length=2)\n",
    "new_association_results = list(new_association_rules)"
   ]
  },
  {
   "cell_type": "code",
   "execution_count": 47,
   "id": "69055e86",
   "metadata": {},
   "outputs": [
    {
     "name": "stdout",
     "output_type": "stream",
     "text": [
      "Rules generated:  86\n"
     ]
    }
   ],
   "source": [
    "print('Rules generated: ', len(new_association_results))"
   ]
  },
  {
   "cell_type": "code",
   "execution_count": 48,
   "id": "3a2aa01b",
   "metadata": {},
   "outputs": [
    {
     "name": "stdout",
     "output_type": "stream",
     "text": [
      "RelationRecord(items=frozenset({'ALARM CLOCK BAKELIKE PINK', 'ALARM CLOCK BAKELIKE GREEN'}), support=0.012153997470844457, ordered_statistics=[OrderedStatistic(items_base=frozenset({'ALARM CLOCK BAKELIKE GREEN'}), items_add=frozenset({'ALARM CLOCK BAKELIKE PINK'}), confidence=0.40279394644935973, lift=16.715361614461187), OrderedStatistic(items_base=frozenset({'ALARM CLOCK BAKELIKE PINK'}), items_add=frozenset({'ALARM CLOCK BAKELIKE GREEN'}), confidence=0.5043731778425656, lift=16.715361614461184)])\n"
     ]
    }
   ],
   "source": [
    "print(new_association_results[0])"
   ]
  },
  {
   "cell_type": "code",
   "execution_count": 49,
   "id": "01f90b4d",
   "metadata": {},
   "outputs": [],
   "source": [
    "def display_rules(new_association_results):\n",
    "    for item in new_association_results:\n",
    "        pair = item[0] \n",
    "        items = [x for x in pair]\n",
    "        print(\"Rule: \" + items[0] + \" -> \" + items[1])\n",
    "        print(\"Support: \" + str(item[1]))\n",
    "        print(\"Confidence: \" + str(item[2][0][2]))\n",
    "        print(\"Lift: \" + str(item[2][0][3]))\n",
    "        print(\"=====================================\")"
   ]
  },
  {
   "cell_type": "code",
   "execution_count": 50,
   "id": "c3eda2cc",
   "metadata": {},
   "outputs": [
    {
     "name": "stdout",
     "output_type": "stream",
     "text": [
      "Rule: ALARM CLOCK BAKELIKE PINK -> ALARM CLOCK BAKELIKE GREEN\n",
      "Support: 0.012153997470844457\n",
      "Confidence: 0.40279394644935973\n",
      "Lift: 16.715361614461187\n",
      "=====================================\n",
      "Rule: ALARM CLOCK BAKELIKE GREEN -> ALARM CLOCK BAKELIKE RED\n",
      "Support: 0.01872277645075172\n",
      "Confidence: 0.6204889406286379\n",
      "Lift: 19.539910577230156\n",
      "=====================================\n",
      "Rule: ALARM CLOCK BAKELIKE RED -> ALARM CLOCK BAKELIKE IVORY\n",
      "Support: 0.010222003653224673\n",
      "Confidence: 0.6139240506329114\n",
      "Lift: 19.333174638736416\n",
      "=====================================\n",
      "Rule: ALARM CLOCK BAKELIKE PINK -> ALARM CLOCK BAKELIKE RED\n",
      "Support: 0.012716032035970212\n",
      "Confidence: 0.5276967930029155\n",
      "Lift: 16.617779096467917\n",
      "=====================================\n",
      "Rule: CHARLOTTE BAG PINK POLKADOT -> CHARLOTTE BAG SUKI DESIGN\n",
      "Support: 0.012048615989883377\n",
      "Confidence: 0.4992721979621543\n",
      "Lift: 18.800636152892338\n",
      "=====================================\n",
      "Rule: CHARLOTTE BAG PINK POLKADOT -> RED RETROSPOT CHARLOTTE BAG\n",
      "Support: 0.011346072783476184\n",
      "Confidence: 0.47016011644832606\n",
      "Lift: 14.48540930200319\n",
      "=====================================\n",
      "Rule: SPACEBOY LUNCH BOX -> DOLLY GIRL LUNCH BOX\n",
      "Support: 0.015561332021919347\n",
      "Confidence: 0.5954301075268816\n",
      "Lift: 20.952662918510836\n",
      "=====================================\n",
      "Rule: JUMBO BAG RED RETROSPOT -> DOTCOM POSTAGE\n",
      "Support: 0.01060840241674863\n",
      "Confidence: 0.5092748735244519\n",
      "Lift: 7.558934879819655\n",
      "=====================================\n",
      "Rule: GARDENERS KNEELING PAD CUP OF TEA -> GARDENERS KNEELING PAD KEEP CALM\n",
      "Support: 0.01787972460306309\n",
      "Confidence: 0.6963064295485636\n",
      "Lift: 22.272417344256752\n",
      "=====================================\n",
      "Rule: PINK REGENCY TEACUP AND SAUCER -> GREEN REGENCY TEACUP AND SAUCER\n",
      "Support: 0.017985106084024167\n",
      "Confidence: 0.5535135135135134\n",
      "Lift: 24.317010343677005\n",
      "=====================================\n"
     ]
    }
   ],
   "source": [
    "display_rules(new_association_results[:10])"
   ]
  },
  {
   "cell_type": "markdown",
   "id": "80922cd5",
   "metadata": {},
   "source": [
    "Association rule is used to explore and interpret large transactional dataset in order to identify the unique patterns and rules. These patterns define relationships and interactions between different itemssets in transactional dataset. Using this algorithm, we can answer queries such as what items customers buy together. It also indicates frequent sets of goods customers buy. This rule doesn't tie back a user's transaction over time to identify relationship. So, we will be getting same result both times."
   ]
  }
 ],
 "metadata": {
  "kernelspec": {
   "display_name": "Python 3 (ipykernel)",
   "language": "python",
   "name": "python3"
  },
  "language_info": {
   "codemirror_mode": {
    "name": "ipython",
    "version": 3
   },
   "file_extension": ".py",
   "mimetype": "text/x-python",
   "name": "python",
   "nbconvert_exporter": "python",
   "pygments_lexer": "ipython3",
   "version": "3.7.8"
  }
 },
 "nbformat": 4,
 "nbformat_minor": 5
}
