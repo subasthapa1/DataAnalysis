{
 "cells": [
  {
   "cell_type": "markdown",
   "id": "93e338ad",
   "metadata": {},
   "source": [
    "## Workshop 3(Part 2)"
   ]
  },
  {
   "cell_type": "markdown",
   "id": "a7405328",
   "metadata": {},
   "source": [
    "**Analyzing Omicorn variant's effect globally. It was first detected in South Africa in November 2021.**"
   ]
  },
  {
   "cell_type": "code",
   "execution_count": 1,
   "id": "41c307a8",
   "metadata": {},
   "outputs": [],
   "source": [
    "import os, re, glob\n",
    "import pandas as pd\n",
    "import numpy as np\n",
    "import matplotlib.pyplot as plt\n",
    "import folium\n",
    "from sklearn.preprocessing import StandardScaler\n",
    "from sklearn.cluster import KMeans\n",
    "from IPython.display import IFrame\n",
    "from IPython.display import Image\n",
    "from tqdm import tqdm\n",
    "import warnings\n",
    "warnings.filterwarnings('ignore')\n",
    "%matplotlib inline"
   ]
  },
  {
   "cell_type": "markdown",
   "id": "ef7f9dbf",
   "metadata": {},
   "source": [
    "Omicorn variant was detected in South Africa in November 2021. Here, in this notebook, we will be checking Omicorn effect globally. Omicorn variant is considered weakest variant among all variant and have low death rate. Omicorn variant is contagious and spread rapidly compared to other variants."
   ]
  },
  {
   "cell_type": "code",
   "execution_count": 2,
   "id": "e9434a48",
   "metadata": {},
   "outputs": [],
   "source": [
    "root = 'Covid'\n",
    "recent_date = \"02-02-2022\"\n",
    "previous_date = \"12-01-2021\"\n",
    "duplicate_columns = {\"Lat\": \"Latitude\", \n",
    "                    \"Long_\": \"Longitude\",\n",
    "                    \"Incidence_Rate\": \"Incident_Rate\",\n",
    "                    \"Case-Fatality_Ratio\": \"Case_Fatality_Ratio\",\n",
    "                    \"Province/State\": \"Province_State\",\n",
    "                    \"Country/Region\": \"Country_Region\",\n",
    "                    \"Last Update\": \"Last_Update\"}\n",
    "recent_df = pd.read_csv(os.path.join(root, (recent_date + \".csv\")))\n",
    "previous_df = pd.read_csv(os.path.join(root, (previous_date + \".csv\")))\n",
    "\n",
    "for key, value in duplicate_columns.items(): \n",
    "    if key in recent_df.columns:\n",
    "        recent_df = recent_df.rename(columns={key: value}) \n",
    "    if key in previous_df.columns:\n",
    "        previous_df = previous_df.rename(columns={key: value})"
   ]
  },
  {
   "cell_type": "markdown",
   "id": "0b3e96e2",
   "metadata": {},
   "source": [
    "Didplaying first 5 rows of a dataframe."
   ]
  },
  {
   "cell_type": "code",
   "execution_count": 3,
   "id": "c8d8c0b0",
   "metadata": {},
   "outputs": [
    {
     "data": {
      "text/html": [
       "<div>\n",
       "<style scoped>\n",
       "    .dataframe tbody tr th:only-of-type {\n",
       "        vertical-align: middle;\n",
       "    }\n",
       "\n",
       "    .dataframe tbody tr th {\n",
       "        vertical-align: top;\n",
       "    }\n",
       "\n",
       "    .dataframe thead th {\n",
       "        text-align: right;\n",
       "    }\n",
       "</style>\n",
       "<table border=\"1\" class=\"dataframe\">\n",
       "  <thead>\n",
       "    <tr style=\"text-align: right;\">\n",
       "      <th></th>\n",
       "      <th>FIPS</th>\n",
       "      <th>Admin2</th>\n",
       "      <th>Province_State</th>\n",
       "      <th>Country_Region</th>\n",
       "      <th>Last_Update</th>\n",
       "      <th>Latitude</th>\n",
       "      <th>Longitude</th>\n",
       "      <th>Confirmed</th>\n",
       "      <th>Deaths</th>\n",
       "      <th>Recovered</th>\n",
       "      <th>Active</th>\n",
       "      <th>Combined_Key</th>\n",
       "      <th>Incident_Rate</th>\n",
       "      <th>Case_Fatality_Ratio</th>\n",
       "    </tr>\n",
       "  </thead>\n",
       "  <tbody>\n",
       "    <tr>\n",
       "      <th>0</th>\n",
       "      <td>NaN</td>\n",
       "      <td>NaN</td>\n",
       "      <td>NaN</td>\n",
       "      <td>Afghanistan</td>\n",
       "      <td>2022-02-03 04:21:21</td>\n",
       "      <td>33.93911</td>\n",
       "      <td>67.709953</td>\n",
       "      <td>164190</td>\n",
       "      <td>7418</td>\n",
       "      <td>NaN</td>\n",
       "      <td>NaN</td>\n",
       "      <td>Afghanistan</td>\n",
       "      <td>421.774974</td>\n",
       "      <td>4.517937</td>\n",
       "    </tr>\n",
       "    <tr>\n",
       "      <th>1</th>\n",
       "      <td>NaN</td>\n",
       "      <td>NaN</td>\n",
       "      <td>NaN</td>\n",
       "      <td>Albania</td>\n",
       "      <td>2022-02-03 04:21:21</td>\n",
       "      <td>41.15330</td>\n",
       "      <td>20.168300</td>\n",
       "      <td>261240</td>\n",
       "      <td>3362</td>\n",
       "      <td>NaN</td>\n",
       "      <td>NaN</td>\n",
       "      <td>Albania</td>\n",
       "      <td>9077.767739</td>\n",
       "      <td>1.286939</td>\n",
       "    </tr>\n",
       "    <tr>\n",
       "      <th>2</th>\n",
       "      <td>NaN</td>\n",
       "      <td>NaN</td>\n",
       "      <td>NaN</td>\n",
       "      <td>Algeria</td>\n",
       "      <td>2022-02-03 04:21:21</td>\n",
       "      <td>28.03390</td>\n",
       "      <td>1.659600</td>\n",
       "      <td>254885</td>\n",
       "      <td>6604</td>\n",
       "      <td>NaN</td>\n",
       "      <td>NaN</td>\n",
       "      <td>Algeria</td>\n",
       "      <td>581.251853</td>\n",
       "      <td>2.590972</td>\n",
       "    </tr>\n",
       "    <tr>\n",
       "      <th>3</th>\n",
       "      <td>NaN</td>\n",
       "      <td>NaN</td>\n",
       "      <td>NaN</td>\n",
       "      <td>Andorra</td>\n",
       "      <td>2022-02-03 04:21:21</td>\n",
       "      <td>42.50630</td>\n",
       "      <td>1.521800</td>\n",
       "      <td>36315</td>\n",
       "      <td>146</td>\n",
       "      <td>NaN</td>\n",
       "      <td>NaN</td>\n",
       "      <td>Andorra</td>\n",
       "      <td>47000.582411</td>\n",
       "      <td>0.402038</td>\n",
       "    </tr>\n",
       "    <tr>\n",
       "      <th>4</th>\n",
       "      <td>NaN</td>\n",
       "      <td>NaN</td>\n",
       "      <td>NaN</td>\n",
       "      <td>Angola</td>\n",
       "      <td>2022-02-03 04:21:21</td>\n",
       "      <td>-11.20270</td>\n",
       "      <td>17.873900</td>\n",
       "      <td>98267</td>\n",
       "      <td>1895</td>\n",
       "      <td>NaN</td>\n",
       "      <td>NaN</td>\n",
       "      <td>Angola</td>\n",
       "      <td>298.990442</td>\n",
       "      <td>1.928420</td>\n",
       "    </tr>\n",
       "  </tbody>\n",
       "</table>\n",
       "</div>"
      ],
      "text/plain": [
       "   FIPS Admin2 Province_State Country_Region          Last_Update  Latitude  \\\n",
       "0   NaN    NaN            NaN    Afghanistan  2022-02-03 04:21:21  33.93911   \n",
       "1   NaN    NaN            NaN        Albania  2022-02-03 04:21:21  41.15330   \n",
       "2   NaN    NaN            NaN        Algeria  2022-02-03 04:21:21  28.03390   \n",
       "3   NaN    NaN            NaN        Andorra  2022-02-03 04:21:21  42.50630   \n",
       "4   NaN    NaN            NaN         Angola  2022-02-03 04:21:21 -11.20270   \n",
       "\n",
       "   Longitude  Confirmed  Deaths  Recovered  Active Combined_Key  \\\n",
       "0  67.709953     164190    7418        NaN     NaN  Afghanistan   \n",
       "1  20.168300     261240    3362        NaN     NaN      Albania   \n",
       "2   1.659600     254885    6604        NaN     NaN      Algeria   \n",
       "3   1.521800      36315     146        NaN     NaN      Andorra   \n",
       "4  17.873900      98267    1895        NaN     NaN       Angola   \n",
       "\n",
       "   Incident_Rate  Case_Fatality_Ratio  \n",
       "0     421.774974             4.517937  \n",
       "1    9077.767739             1.286939  \n",
       "2     581.251853             2.590972  \n",
       "3   47000.582411             0.402038  \n",
       "4     298.990442             1.928420  "
      ]
     },
     "execution_count": 3,
     "metadata": {},
     "output_type": "execute_result"
    }
   ],
   "source": [
    "recent_df.head()"
   ]
  },
  {
   "cell_type": "code",
   "execution_count": 4,
   "id": "eb2b21fc",
   "metadata": {},
   "outputs": [
    {
     "data": {
      "text/html": [
       "<div>\n",
       "<style scoped>\n",
       "    .dataframe tbody tr th:only-of-type {\n",
       "        vertical-align: middle;\n",
       "    }\n",
       "\n",
       "    .dataframe tbody tr th {\n",
       "        vertical-align: top;\n",
       "    }\n",
       "\n",
       "    .dataframe thead th {\n",
       "        text-align: right;\n",
       "    }\n",
       "</style>\n",
       "<table border=\"1\" class=\"dataframe\">\n",
       "  <thead>\n",
       "    <tr style=\"text-align: right;\">\n",
       "      <th></th>\n",
       "      <th>FIPS</th>\n",
       "      <th>Admin2</th>\n",
       "      <th>Province_State</th>\n",
       "      <th>Country_Region</th>\n",
       "      <th>Last_Update</th>\n",
       "      <th>Latitude</th>\n",
       "      <th>Longitude</th>\n",
       "      <th>Confirmed</th>\n",
       "      <th>Deaths</th>\n",
       "      <th>Recovered</th>\n",
       "      <th>Active</th>\n",
       "      <th>Combined_Key</th>\n",
       "      <th>Incident_Rate</th>\n",
       "      <th>Case_Fatality_Ratio</th>\n",
       "    </tr>\n",
       "  </thead>\n",
       "  <tbody>\n",
       "    <tr>\n",
       "      <th>0</th>\n",
       "      <td>NaN</td>\n",
       "      <td>NaN</td>\n",
       "      <td>NaN</td>\n",
       "      <td>Afghanistan</td>\n",
       "      <td>2021-12-02 04:22:37</td>\n",
       "      <td>33.93911</td>\n",
       "      <td>67.709953</td>\n",
       "      <td>157359</td>\n",
       "      <td>7309</td>\n",
       "      <td>NaN</td>\n",
       "      <td>NaN</td>\n",
       "      <td>Afghanistan</td>\n",
       "      <td>404.227347</td>\n",
       "      <td>4.644793</td>\n",
       "    </tr>\n",
       "    <tr>\n",
       "      <th>1</th>\n",
       "      <td>NaN</td>\n",
       "      <td>NaN</td>\n",
       "      <td>NaN</td>\n",
       "      <td>Albania</td>\n",
       "      <td>2021-12-02 04:22:37</td>\n",
       "      <td>41.15330</td>\n",
       "      <td>20.168300</td>\n",
       "      <td>200173</td>\n",
       "      <td>3101</td>\n",
       "      <td>NaN</td>\n",
       "      <td>NaN</td>\n",
       "      <td>Albania</td>\n",
       "      <td>6955.764820</td>\n",
       "      <td>1.549160</td>\n",
       "    </tr>\n",
       "    <tr>\n",
       "      <th>2</th>\n",
       "      <td>NaN</td>\n",
       "      <td>NaN</td>\n",
       "      <td>NaN</td>\n",
       "      <td>Algeria</td>\n",
       "      <td>2021-12-02 04:22:37</td>\n",
       "      <td>28.03390</td>\n",
       "      <td>1.659600</td>\n",
       "      <td>210723</td>\n",
       "      <td>6076</td>\n",
       "      <td>NaN</td>\n",
       "      <td>NaN</td>\n",
       "      <td>Algeria</td>\n",
       "      <td>480.542732</td>\n",
       "      <td>2.883406</td>\n",
       "    </tr>\n",
       "    <tr>\n",
       "      <th>3</th>\n",
       "      <td>NaN</td>\n",
       "      <td>NaN</td>\n",
       "      <td>NaN</td>\n",
       "      <td>Andorra</td>\n",
       "      <td>2021-12-02 04:22:37</td>\n",
       "      <td>42.50630</td>\n",
       "      <td>1.521800</td>\n",
       "      <td>17426</td>\n",
       "      <td>131</td>\n",
       "      <td>NaN</td>\n",
       "      <td>NaN</td>\n",
       "      <td>Andorra</td>\n",
       "      <td>22553.549473</td>\n",
       "      <td>0.751750</td>\n",
       "    </tr>\n",
       "    <tr>\n",
       "      <th>4</th>\n",
       "      <td>NaN</td>\n",
       "      <td>NaN</td>\n",
       "      <td>NaN</td>\n",
       "      <td>Angola</td>\n",
       "      <td>2021-12-02 04:22:37</td>\n",
       "      <td>-11.20270</td>\n",
       "      <td>17.873900</td>\n",
       "      <td>65183</td>\n",
       "      <td>1735</td>\n",
       "      <td>NaN</td>\n",
       "      <td>NaN</td>\n",
       "      <td>Angola</td>\n",
       "      <td>198.327963</td>\n",
       "      <td>2.661737</td>\n",
       "    </tr>\n",
       "  </tbody>\n",
       "</table>\n",
       "</div>"
      ],
      "text/plain": [
       "   FIPS Admin2 Province_State Country_Region          Last_Update  Latitude  \\\n",
       "0   NaN    NaN            NaN    Afghanistan  2021-12-02 04:22:37  33.93911   \n",
       "1   NaN    NaN            NaN        Albania  2021-12-02 04:22:37  41.15330   \n",
       "2   NaN    NaN            NaN        Algeria  2021-12-02 04:22:37  28.03390   \n",
       "3   NaN    NaN            NaN        Andorra  2021-12-02 04:22:37  42.50630   \n",
       "4   NaN    NaN            NaN         Angola  2021-12-02 04:22:37 -11.20270   \n",
       "\n",
       "   Longitude  Confirmed  Deaths  Recovered  Active Combined_Key  \\\n",
       "0  67.709953     157359    7309        NaN     NaN  Afghanistan   \n",
       "1  20.168300     200173    3101        NaN     NaN      Albania   \n",
       "2   1.659600     210723    6076        NaN     NaN      Algeria   \n",
       "3   1.521800      17426     131        NaN     NaN      Andorra   \n",
       "4  17.873900      65183    1735        NaN     NaN       Angola   \n",
       "\n",
       "   Incident_Rate  Case_Fatality_Ratio  \n",
       "0     404.227347             4.644793  \n",
       "1    6955.764820             1.549160  \n",
       "2     480.542732             2.883406  \n",
       "3   22553.549473             0.751750  \n",
       "4     198.327963             2.661737  "
      ]
     },
     "execution_count": 4,
     "metadata": {},
     "output_type": "execute_result"
    }
   ],
   "source": [
    "previous_df.head()"
   ]
  },
  {
   "cell_type": "markdown",
   "id": "77cdbf20",
   "metadata": {},
   "source": [
    "Creating dataframe named current_df with columns Province_State,Country_Region,Confirmed, and Deaths. Adding data to the dataframe."
   ]
  },
  {
   "cell_type": "code",
   "execution_count": 5,
   "id": "6a1173c9",
   "metadata": {},
   "outputs": [],
   "source": [
    "current_df = pd.DataFrame(columns=['Province_State','Country_Region','Confirmed','Deaths'])\n",
    "current_df['Province_State'] = recent_df['Province_State']\n",
    "current_df['Country_Region'] = recent_df['Country_Region']\n",
    "current_df['Confirmed'] = recent_df['Confirmed'] - previous_df['Confirmed'] \n",
    "current_df['Deaths'] = recent_df['Deaths'] - previous_df['Deaths'] "
   ]
  },
  {
   "cell_type": "markdown",
   "id": "9ecef248",
   "metadata": {},
   "source": [
    "Printing rows and columns of a dataframe using function shape in a recently created dataframe."
   ]
  },
  {
   "cell_type": "code",
   "execution_count": 6,
   "id": "df6b5aeb",
   "metadata": {},
   "outputs": [
    {
     "data": {
      "text/plain": [
       "(4010, 4)"
      ]
     },
     "execution_count": 6,
     "metadata": {},
     "output_type": "execute_result"
    }
   ],
   "source": [
    "current_df.shape"
   ]
  },
  {
   "cell_type": "code",
   "execution_count": 7,
   "id": "125aa19f",
   "metadata": {},
   "outputs": [],
   "source": [
    "name_number = 'SubasThapa-2128468.csv'\n",
    "current_df.to_csv(name_number, index=False)"
   ]
  },
  {
   "cell_type": "markdown",
   "id": "b5cab29a",
   "metadata": {},
   "source": [
    "Reading csv file we created above."
   ]
  },
  {
   "cell_type": "code",
   "execution_count": 8,
   "id": "f041a46f",
   "metadata": {},
   "outputs": [],
   "source": [
    "data = pd.read_csv(name_number)"
   ]
  },
  {
   "cell_type": "code",
   "execution_count": 9,
   "id": "6b9189ac",
   "metadata": {},
   "outputs": [
    {
     "data": {
      "text/html": [
       "<div>\n",
       "<style scoped>\n",
       "    .dataframe tbody tr th:only-of-type {\n",
       "        vertical-align: middle;\n",
       "    }\n",
       "\n",
       "    .dataframe tbody tr th {\n",
       "        vertical-align: top;\n",
       "    }\n",
       "\n",
       "    .dataframe thead th {\n",
       "        text-align: right;\n",
       "    }\n",
       "</style>\n",
       "<table border=\"1\" class=\"dataframe\">\n",
       "  <thead>\n",
       "    <tr style=\"text-align: right;\">\n",
       "      <th></th>\n",
       "      <th>Province_State</th>\n",
       "      <th>Country_Region</th>\n",
       "      <th>Confirmed</th>\n",
       "      <th>Deaths</th>\n",
       "    </tr>\n",
       "  </thead>\n",
       "  <tbody>\n",
       "    <tr>\n",
       "      <th>0</th>\n",
       "      <td>NaN</td>\n",
       "      <td>Afghanistan</td>\n",
       "      <td>6831.0</td>\n",
       "      <td>109.0</td>\n",
       "    </tr>\n",
       "    <tr>\n",
       "      <th>1</th>\n",
       "      <td>NaN</td>\n",
       "      <td>Albania</td>\n",
       "      <td>61067.0</td>\n",
       "      <td>261.0</td>\n",
       "    </tr>\n",
       "    <tr>\n",
       "      <th>2</th>\n",
       "      <td>NaN</td>\n",
       "      <td>Algeria</td>\n",
       "      <td>44162.0</td>\n",
       "      <td>528.0</td>\n",
       "    </tr>\n",
       "    <tr>\n",
       "      <th>3</th>\n",
       "      <td>NaN</td>\n",
       "      <td>Andorra</td>\n",
       "      <td>18889.0</td>\n",
       "      <td>15.0</td>\n",
       "    </tr>\n",
       "    <tr>\n",
       "      <th>4</th>\n",
       "      <td>NaN</td>\n",
       "      <td>Angola</td>\n",
       "      <td>33084.0</td>\n",
       "      <td>160.0</td>\n",
       "    </tr>\n",
       "  </tbody>\n",
       "</table>\n",
       "</div>"
      ],
      "text/plain": [
       "  Province_State Country_Region  Confirmed  Deaths\n",
       "0            NaN    Afghanistan     6831.0   109.0\n",
       "1            NaN        Albania    61067.0   261.0\n",
       "2            NaN        Algeria    44162.0   528.0\n",
       "3            NaN        Andorra    18889.0    15.0\n",
       "4            NaN         Angola    33084.0   160.0"
      ]
     },
     "execution_count": 9,
     "metadata": {},
     "output_type": "execute_result"
    }
   ],
   "source": [
    "data.head()"
   ]
  },
  {
   "cell_type": "markdown",
   "id": "0ef017ae",
   "metadata": {},
   "source": [
    "Using lambda function to check and count number of null values present in all columns of a dataframe."
   ]
  },
  {
   "cell_type": "code",
   "execution_count": 10,
   "id": "d79cc91e",
   "metadata": {},
   "outputs": [
    {
     "data": {
      "text/plain": [
       "Province_State    176\n",
       "Country_Region      0\n",
       "Confirmed           2\n",
       "Deaths              2\n",
       "dtype: int64"
      ]
     },
     "execution_count": 10,
     "metadata": {},
     "output_type": "execute_result"
    }
   ],
   "source": [
    "data.apply(lambda x: sum(x.isnull()), axis = 0)"
   ]
  },
  {
   "cell_type": "markdown",
   "id": "9cb07440",
   "metadata": {},
   "source": [
    "If Province_State column contains null values then replace it with Country_Region column's values."
   ]
  },
  {
   "cell_type": "code",
   "execution_count": 11,
   "id": "239035b5",
   "metadata": {},
   "outputs": [],
   "source": [
    "data.loc[data['Province_State'].isnull(),'Province_State'] = data['Country_Region']"
   ]
  },
  {
   "cell_type": "markdown",
   "id": "2fa139c7",
   "metadata": {},
   "source": [
    "Printing number of unique Country_Region values."
   ]
  },
  {
   "cell_type": "code",
   "execution_count": 12,
   "id": "cc84f6d0",
   "metadata": {},
   "outputs": [
    {
     "name": "stdout",
     "output_type": "stream",
     "text": [
      "198\n"
     ]
    }
   ],
   "source": [
    "print(data['Country_Region'].nunique())"
   ]
  },
  {
   "cell_type": "markdown",
   "id": "49bc4ea6",
   "metadata": {},
   "source": [
    "Using geopy.geocoders library to get latitude and longitude value from place name. "
   ]
  },
  {
   "cell_type": "code",
   "execution_count": 13,
   "id": "86fc50e7",
   "metadata": {},
   "outputs": [],
   "source": [
    "import datetime, time, requests\n",
    "from time import sleep\n",
    "from geopy.geocoders import Nominatim\n",
    "def get_lat_lon(place):\n",
    "    geolocator = Nominatim(user_agent=name_number)\n",
    "    location = geolocator.geocode(place)\n",
    "    lat_lon = location.latitude, location.longitude\n",
    " \n",
    "    output = [float(i) for i in lat_lon]\n",
    "    return output"
   ]
  },
  {
   "cell_type": "code",
   "execution_count": 14,
   "id": "46ca396d",
   "metadata": {},
   "outputs": [
    {
     "name": "stdout",
     "output_type": "stream",
     "text": [
      "Number of unique States -  769\n"
     ]
    }
   ],
   "source": [
    "states = data['Province_State'].unique()\n",
    "print(\"Number of unique States - \", len(states))"
   ]
  },
  {
   "cell_type": "code",
   "execution_count": 15,
   "id": "671ba279",
   "metadata": {},
   "outputs": [
    {
     "data": {
      "text/plain": [
       "Texas          255\n",
       "Georgia        162\n",
       "Virginia       134\n",
       "Kentucky       121\n",
       "Missouri       117\n",
       "              ... \n",
       "Maharashtra      1\n",
       "Manipur          1\n",
       "Meghalaya        1\n",
       "Mizoram          1\n",
       "Guernsey         1\n",
       "Name: Province_State, Length: 769, dtype: int64"
      ]
     },
     "execution_count": 15,
     "metadata": {},
     "output_type": "execute_result"
    }
   ],
   "source": [
    "data['Province_State'].value_counts()"
   ]
  },
  {
   "cell_type": "markdown",
   "id": "03d46e7f",
   "metadata": {},
   "source": [
    "Library tqdm is used for smart progress bar. While using geopy.geocoders library to convert place to Latitude and Longitude value, we use tqdm to show the progress."
   ]
  },
  {
   "cell_type": "code",
   "execution_count": 16,
   "id": "9323c73e",
   "metadata": {},
   "outputs": [
    {
     "name": "stderr",
     "output_type": "stream",
     "text": [
      "100%|████████████████████████████████████████████████████████████████████████████████| 769/769 [08:49<00:00,  1.45it/s]"
     ]
    },
    {
     "name": "stdout",
     "output_type": "stream",
     "text": [
      "Locations are not found for -  ['Repatriated Travellers', 'W.P. Labuan', 'Bonaire, Sint Eustatius and Saba', 'Sakha (Yakutiya) Republic', 'Summer Olympics 2020']\n"
     ]
    },
    {
     "name": "stderr",
     "output_type": "stream",
     "text": [
      "\n"
     ]
    }
   ],
   "source": [
    "from tqdm import tqdm\n",
    "geo_lat = []\n",
    "geo_lon = []\n",
    "not_found = []\n",
    "found = []\n",
    "for state in tqdm(states):\n",
    "    time.sleep(0.2)\n",
    "    lat_lon = [None, None]\n",
    "    try:\n",
    "        lat_lon = get_lat_lon(state)\n",
    "        found.append(state)\n",
    "    except: \n",
    "        not_found.append(state)\n",
    " \n",
    "    geo_lat.append(lat_lon[0])\n",
    "    geo_lon.append(lat_lon[1])\n",
    "        \n",
    "if len(not_found) > 0:\n",
    "    print(\"Locations are not found for - \", not_found)\n",
    "else:\n",
    "    print(\"Found all the locations\")"
   ]
  },
  {
   "cell_type": "code",
   "execution_count": 17,
   "id": "5853218c",
   "metadata": {},
   "outputs": [],
   "source": [
    "states_list = states.tolist() #converting states to list to index list's items \n",
    "lats = []\n",
    "lons = []\n",
    "for i, r in data.iterrows():\n",
    "    state = r['Province_State']\n",
    "    index_list = states_list.index(state)\n",
    "    lats.append(geo_lat[index_list])\n",
    "    lons.append(geo_lon[index_list])\n",
    " \n",
    " \n",
    "data['Latitude'] = lats\n",
    "data['Longitude'] = lons"
   ]
  },
  {
   "cell_type": "markdown",
   "id": "6e0cbeae",
   "metadata": {},
   "source": [
    "Using lambda function to count number of null values in all column of a dataframe."
   ]
  },
  {
   "cell_type": "code",
   "execution_count": 18,
   "id": "228485e1",
   "metadata": {},
   "outputs": [
    {
     "data": {
      "text/plain": [
       "Province_State    0\n",
       "Country_Region    0\n",
       "Confirmed         2\n",
       "Deaths            2\n",
       "Latitude          5\n",
       "Longitude         5\n",
       "dtype: int64"
      ]
     },
     "execution_count": 18,
     "metadata": {},
     "output_type": "execute_result"
    }
   ],
   "source": [
    "data.apply(lambda x: sum(x.isnull()), axis = 0)"
   ]
  },
  {
   "cell_type": "markdown",
   "id": "adb70149",
   "metadata": {},
   "source": [
    "Dropping null values from all columns using dropna function."
   ]
  },
  {
   "cell_type": "code",
   "execution_count": 19,
   "id": "95e60ce4",
   "metadata": {},
   "outputs": [],
   "source": [
    "data.dropna(inplace=True)"
   ]
  },
  {
   "cell_type": "code",
   "execution_count": 20,
   "id": "1066ef07",
   "metadata": {},
   "outputs": [
    {
     "data": {
      "text/plain": [
       "Province_State    0\n",
       "Country_Region    0\n",
       "Confirmed         0\n",
       "Deaths            0\n",
       "Latitude          0\n",
       "Longitude         0\n",
       "dtype: int64"
      ]
     },
     "execution_count": 20,
     "metadata": {},
     "output_type": "execute_result"
    }
   ],
   "source": [
    "data.apply(lambda x: sum(x.isnull()), axis = 0)"
   ]
  },
  {
   "cell_type": "code",
   "execution_count": 21,
   "id": "008dc7c4",
   "metadata": {},
   "outputs": [],
   "source": [
    "clustering_data = data[[\"Confirmed\", \"Deaths\"]]"
   ]
  },
  {
   "cell_type": "code",
   "execution_count": 22,
   "id": "e26ac08f",
   "metadata": {},
   "outputs": [
    {
     "data": {
      "text/html": [
       "<div>\n",
       "<style scoped>\n",
       "    .dataframe tbody tr th:only-of-type {\n",
       "        vertical-align: middle;\n",
       "    }\n",
       "\n",
       "    .dataframe tbody tr th {\n",
       "        vertical-align: top;\n",
       "    }\n",
       "\n",
       "    .dataframe thead th {\n",
       "        text-align: right;\n",
       "    }\n",
       "</style>\n",
       "<table border=\"1\" class=\"dataframe\">\n",
       "  <thead>\n",
       "    <tr style=\"text-align: right;\">\n",
       "      <th></th>\n",
       "      <th>Confirmed</th>\n",
       "      <th>Deaths</th>\n",
       "    </tr>\n",
       "  </thead>\n",
       "  <tbody>\n",
       "    <tr>\n",
       "      <th>0</th>\n",
       "      <td>6831.0</td>\n",
       "      <td>109.0</td>\n",
       "    </tr>\n",
       "    <tr>\n",
       "      <th>1</th>\n",
       "      <td>61067.0</td>\n",
       "      <td>261.0</td>\n",
       "    </tr>\n",
       "    <tr>\n",
       "      <th>2</th>\n",
       "      <td>44162.0</td>\n",
       "      <td>528.0</td>\n",
       "    </tr>\n",
       "    <tr>\n",
       "      <th>3</th>\n",
       "      <td>18889.0</td>\n",
       "      <td>15.0</td>\n",
       "    </tr>\n",
       "    <tr>\n",
       "      <th>4</th>\n",
       "      <td>33084.0</td>\n",
       "      <td>160.0</td>\n",
       "    </tr>\n",
       "  </tbody>\n",
       "</table>\n",
       "</div>"
      ],
      "text/plain": [
       "   Confirmed  Deaths\n",
       "0     6831.0   109.0\n",
       "1    61067.0   261.0\n",
       "2    44162.0   528.0\n",
       "3    18889.0    15.0\n",
       "4    33084.0   160.0"
      ]
     },
     "execution_count": 22,
     "metadata": {},
     "output_type": "execute_result"
    }
   ],
   "source": [
    "clustering_data.head()"
   ]
  },
  {
   "cell_type": "markdown",
   "id": "9d8c263d",
   "metadata": {},
   "source": [
    "In the below step, we used scaling technique where column are rescaled so that they demonstrate the properties of a standard Gaussian distribution."
   ]
  },
  {
   "cell_type": "code",
   "execution_count": 23,
   "id": "9d109508",
   "metadata": {},
   "outputs": [],
   "source": [
    "scaler = StandardScaler()\n",
    "X_scaled = scaler.fit(clustering_data).transform(clustering_data.astype(np.float))"
   ]
  },
  {
   "cell_type": "markdown",
   "id": "6ec77094",
   "metadata": {},
   "source": [
    "In the below step, we create Scree plot to identify number of clusters which will be used in the algorithm."
   ]
  },
  {
   "cell_type": "code",
   "execution_count": 24,
   "id": "3e8bfefa",
   "metadata": {},
   "outputs": [
    {
     "data": {
      "image/png": "[encoded data removed]",
      "text/plain": [
       "<Figure size 1152x432 with 1 Axes>"
      ]
     },
     "metadata": {
      "needs_background": "light"
     },
     "output_type": "display_data"
    }
   ],
   "source": [
    "cluster_range = range( 1, 20 )\n",
    "cluster_errors = []\n",
    "for num_clusters in cluster_range:\n",
    " clusters = KMeans( num_clusters )\n",
    " clusters.fit( X_scaled )\n",
    " cluster_errors.append( clusters.inertia_ )\n",
    "clusters_df = pd.DataFrame( { \"num_clusters\":cluster_range, \n",
    " \"cluster_errors\": cluster_errors } )\n",
    "plt.figure(figsize=(16,6))\n",
    "plt.plot( clusters_df.num_clusters, clusters_df.cluster_errors, marker = \"o\" );"
   ]
  },
  {
   "cell_type": "markdown",
   "id": "f7dd6486",
   "metadata": {},
   "source": [
    "To determine the optimal number of clusters, we have to select the value of k at the “elbow” i.e. the point after which the inertia start decreasing in a linear fashion. Thus for the above cluster, we conclude that the optimal number of clusters is 4. Our value for K will be 4."
   ]
  },
  {
   "cell_type": "code",
   "execution_count": 25,
   "id": "299f3c00",
   "metadata": {},
   "outputs": [],
   "source": [
    "# Fitting K-Means to the dataset\n",
    "kmeans = KMeans(n_clusters = 4, init = 'k-means++', random_state = 10)\n",
    "y_kmeans = kmeans.fit_predict(X_scaled)\n",
    "#beginning of the cluster numbering with 1 instead of 0\n",
    "y_kmeans1=y_kmeans+1\n",
    "# New list called cluster\n",
    "cluster = list(y_kmeans1)\n",
    "# Adding cluster to our data set\n",
    "clustering_data['cluster'] = cluster"
   ]
  },
  {
   "cell_type": "code",
   "execution_count": 26,
   "id": "b0427c09",
   "metadata": {},
   "outputs": [
    {
     "data": {
      "text/html": [
       "<div>\n",
       "<style scoped>\n",
       "    .dataframe tbody tr th:only-of-type {\n",
       "        vertical-align: middle;\n",
       "    }\n",
       "\n",
       "    .dataframe tbody tr th {\n",
       "        vertical-align: top;\n",
       "    }\n",
       "\n",
       "    .dataframe thead th {\n",
       "        text-align: right;\n",
       "    }\n",
       "</style>\n",
       "<table border=\"1\" class=\"dataframe\">\n",
       "  <thead>\n",
       "    <tr style=\"text-align: right;\">\n",
       "      <th></th>\n",
       "      <th>Confirmed</th>\n",
       "      <th>Deaths</th>\n",
       "    </tr>\n",
       "    <tr>\n",
       "      <th>cluster</th>\n",
       "      <th></th>\n",
       "      <th></th>\n",
       "    </tr>\n",
       "  </thead>\n",
       "  <tbody>\n",
       "    <tr>\n",
       "      <th>1</th>\n",
       "      <td>23430.8</td>\n",
       "      <td>102.8</td>\n",
       "    </tr>\n",
       "    <tr>\n",
       "      <th>2</th>\n",
       "      <td>1918572.8</td>\n",
       "      <td>13104.8</td>\n",
       "    </tr>\n",
       "    <tr>\n",
       "      <th>3</th>\n",
       "      <td>9079136.0</td>\n",
       "      <td>11434.0</td>\n",
       "    </tr>\n",
       "    <tr>\n",
       "      <th>4</th>\n",
       "      <td>50551.0</td>\n",
       "      <td>-23143.0</td>\n",
       "    </tr>\n",
       "  </tbody>\n",
       "</table>\n",
       "</div>"
      ],
      "text/plain": [
       "         Confirmed   Deaths\n",
       "cluster                    \n",
       "1          23430.8    102.8\n",
       "2        1918572.8  13104.8\n",
       "3        9079136.0  11434.0\n",
       "4          50551.0 -23143.0"
      ]
     },
     "execution_count": 26,
     "metadata": {},
     "output_type": "execute_result"
    }
   ],
   "source": [
    "kmeans_mean_cluster = pd.DataFrame(round(clustering_data.groupby('cluster').mean(),1))\n",
    "kmeans_mean_cluster"
   ]
  },
  {
   "cell_type": "code",
   "execution_count": 27,
   "id": "db6f7b2a",
   "metadata": {},
   "outputs": [
    {
     "data": {
      "text/html": [
       "<div>\n",
       "<style scoped>\n",
       "    .dataframe tbody tr th:only-of-type {\n",
       "        vertical-align: middle;\n",
       "    }\n",
       "\n",
       "    .dataframe tbody tr th {\n",
       "        vertical-align: top;\n",
       "    }\n",
       "\n",
       "    .dataframe thead th {\n",
       "        text-align: right;\n",
       "    }\n",
       "</style>\n",
       "<table border=\"1\" class=\"dataframe\">\n",
       "  <thead>\n",
       "    <tr style=\"text-align: right;\">\n",
       "      <th></th>\n",
       "      <th>Province_State</th>\n",
       "      <th>cluster</th>\n",
       "    </tr>\n",
       "  </thead>\n",
       "  <tbody>\n",
       "    <tr>\n",
       "      <th>6</th>\n",
       "      <td>Argentina</td>\n",
       "      <td>2</td>\n",
       "    </tr>\n",
       "    <tr>\n",
       "      <th>265</th>\n",
       "      <td>Kerala</td>\n",
       "      <td>2</td>\n",
       "    </tr>\n",
       "    <tr>\n",
       "      <th>510</th>\n",
       "      <td>Poland</td>\n",
       "      <td>2</td>\n",
       "    </tr>\n",
       "    <tr>\n",
       "      <th>672</th>\n",
       "      <td>Turkey</td>\n",
       "      <td>2</td>\n",
       "    </tr>\n",
       "    <tr>\n",
       "      <th>4001</th>\n",
       "      <td>Vietnam</td>\n",
       "      <td>2</td>\n",
       "    </tr>\n",
       "  </tbody>\n",
       "</table>\n",
       "</div>"
      ],
      "text/plain": [
       "     Province_State  cluster\n",
       "6         Argentina        2\n",
       "265          Kerala        2\n",
       "510          Poland        2\n",
       "672          Turkey        2\n",
       "4001        Vietnam        2"
      ]
     },
     "execution_count": 27,
     "metadata": {},
     "output_type": "execute_result"
    }
   ],
   "source": [
    "data['cluster'] = cluster\n",
    "clusters = data[['Province_State', 'cluster']]\n",
    "clusters.loc[clusters['cluster'] == 2]"
   ]
  },
  {
   "cell_type": "code",
   "execution_count": 28,
   "id": "6457aa2a",
   "metadata": {},
   "outputs": [
    {
     "data": {
      "text/html": [
       "<div>\n",
       "<style scoped>\n",
       "    .dataframe tbody tr th:only-of-type {\n",
       "        vertical-align: middle;\n",
       "    }\n",
       "\n",
       "    .dataframe tbody tr th {\n",
       "        vertical-align: top;\n",
       "    }\n",
       "\n",
       "    .dataframe thead th {\n",
       "        text-align: right;\n",
       "    }\n",
       "</style>\n",
       "<table border=\"1\" class=\"dataframe\">\n",
       "  <thead>\n",
       "    <tr style=\"text-align: right;\">\n",
       "      <th></th>\n",
       "      <th>Province_State</th>\n",
       "      <th>cluster</th>\n",
       "    </tr>\n",
       "  </thead>\n",
       "  <tbody>\n",
       "    <tr>\n",
       "      <th>216</th>\n",
       "      <td>France</td>\n",
       "      <td>3</td>\n",
       "    </tr>\n",
       "    <tr>\n",
       "      <th>3986</th>\n",
       "      <td>England</td>\n",
       "      <td>3</td>\n",
       "    </tr>\n",
       "  </tbody>\n",
       "</table>\n",
       "</div>"
      ],
      "text/plain": [
       "     Province_State  cluster\n",
       "216          France        3\n",
       "3986        England        3"
      ]
     },
     "execution_count": 28,
     "metadata": {},
     "output_type": "execute_result"
    }
   ],
   "source": [
    "data['cluster'] = cluster\n",
    "clusters = data[['Province_State', 'cluster']]\n",
    "clusters.loc[clusters['cluster'] == 3]"
   ]
  },
  {
   "cell_type": "code",
   "execution_count": 29,
   "id": "179946da",
   "metadata": {},
   "outputs": [],
   "source": [
    "def get_color(cluster_id):\n",
    "    if cluster_id == 2:\n",
    "        return 'darkred'\n",
    "    if cluster_id == 1:\n",
    "        return 'green' \n",
    "    if cluster_id == 3:\n",
    "        return 'orange'\n",
    "    if cluster_id == 4:\n",
    "        return 'yellow'\n",
    " \n",
    "data[\"color\"] = data[\"cluster\"].apply(lambda x: get_color(x))"
   ]
  },
  {
   "cell_type": "markdown",
   "id": "4c11d9b8",
   "metadata": {},
   "source": [
    "We use follium to display and plot the output of clusters in a world map."
   ]
  },
  {
   "cell_type": "code",
   "execution_count": 30,
   "id": "e2297e4e",
   "metadata": {},
   "outputs": [],
   "source": [
    "this_map = folium.Map(location =[data[\"Latitude\"].mean(), \n",
    " data[\"Longitude\"].mean()], zoom_start=5)\n",
    "def plot_dot(point): \n",
    " '''input: series that contains a numeric named latitude and a numeric named longitude\n",
    " this function creates a CircleMarker and adds it to your this_map'''\n",
    " folium.CircleMarker(location=[point.Latitude, point.Longitude],\n",
    " radius=2, \n",
    "color=point.color,\n",
    " weight=1).add_to(this_map)\n",
    " \n",
    " \n",
    "#clustered_full.apply(,axis=1) #use this to iterate through every row in your dataframe\n",
    "data.apply(plot_dot, axis = 1)\n",
    "#Set the zoom to the maximum possible\n",
    "this_map.fit_bounds(this_map.get_bounds())\n",
    "#Save the map to an HTML file\n",
    "this_map.save(os.path.join('covid_map_Omicorn_Variant.html'))"
   ]
  }
 ],
 "metadata": {
  "kernelspec": {
   "display_name": "Python 3 (ipykernel)",
   "language": "python",
   "name": "python3"
  },
  "language_info": {
   "codemirror_mode": {
    "name": "ipython",
    "version": 3
   },
   "file_extension": ".py",
   "mimetype": "text/x-python",
   "name": "python",
   "nbconvert_exporter": "python",
   "pygments_lexer": "ipython3",
   "version": "3.7.8"
  }
 },
 "nbformat": 4,
 "nbformat_minor": 5
}
